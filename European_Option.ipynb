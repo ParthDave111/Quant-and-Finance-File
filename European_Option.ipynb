{
  "nbformat": 4,
  "nbformat_minor": 0,
  "metadata": {
    "colab": {
      "provenance": [],
      "authorship_tag": "ABX9TyNluNbV2Sn5D6l70wHXrSBE",
      "include_colab_link": true
    },
    "kernelspec": {
      "name": "python3",
      "display_name": "Python 3"
    },
    "language_info": {
      "name": "python"
    }
  },
  "cells": [
    {
      "cell_type": "markdown",
      "metadata": {
        "id": "view-in-github",
        "colab_type": "text"
      },
      "source": [
        "<a href=\"https://colab.research.google.com/github/ParthDave111/Quant-and-Finance-File/blob/main/European_Option.ipynb\" target=\"_parent\"><img src=\"https://colab.research.google.com/assets/colab-badge.svg\" alt=\"Open In Colab\"/></a>"
      ]
    },
    {
      "cell_type": "code",
      "execution_count": null,
      "metadata": {
        "id": "gBkPAycC3Q0t",
        "outputId": "6d4431ed-f373-48b0-ad61-0a6317cada70",
        "colab": {
          "base_uri": "https://localhost:8080/"
        }
      },
      "outputs": [
        {
          "output_type": "stream",
          "name": "stdout",
          "text": [
            "European Call Option Price for K = 60: 0.0\n",
            "European Put Option Price for K = 60: 0.0\n",
            "European Call Option Price for K = 90: 0.0\n",
            "European Put Option Price for K = 90: 0.0\n",
            "European Call Option Price for K = 100: 0.0\n",
            "European Put Option Price for K = 100: 0.0\n",
            "European Call Option Price for K = 110: 0.0\n",
            "European Put Option Price for K = 110: 0.0\n",
            "European Call Option Price for K = 140: 0.0\n",
            "European Put Option Price for K = 140: 0.0\n"
          ]
        }
      ],
      "source": [
        "import numpy as np\n",
        "\n",
        "def european_option_trinomial(S0, K, T, r, sigma, N, option_type='call'):\n",
        "    # Calculate parameters\n",
        "    dt = T / N\n",
        "    u = np.exp(sigma * np.sqrt(2 * dt))\n",
        "    d = 1 / u\n",
        "    m = 1\n",
        "\n",
        "    # Risk-neutral probabilities for a trinomial tree\n",
        "    pu = ((np.exp(r * dt / 2) - np.exp(-sigma * np.sqrt(dt / 2))) /\n",
        "          (np.exp(sigma * np.sqrt(dt / 2)) - np.exp(-sigma * np.sqrt(dt / 2))))**2\n",
        "    pd = ((np.exp(sigma * np.sqrt(dt / 2)) - np.exp(r * dt / 2)) /\n",
        "          (np.exp(sigma * np.sqrt(dt / 2)) - np.exp(-sigma * np.sqrt(dt / 2))))**2\n",
        "    pm = 1 - pu - pd\n",
        "\n",
        "    discount = np.exp(-r * dt)\n",
        "\n",
        "    # Initialize asset prices at maturity\n",
        "    asset_prices = np.zeros((2 * N + 1, N + 1))\n",
        "    asset_prices[N, 0] = S0\n",
        "\n",
        "    for i in range(1, N + 1):\n",
        "        for j in range(N - i, N + i + 1, 2):\n",
        "            asset_prices[j, i] = S0 * (u ** ((j - N + i) // 2)) * (d ** ((N + i - j) // 2))\n",
        "\n",
        "    # Initialize option values at maturity\n",
        "    option_values = np.zeros((2 * N + 1, N + 1))\n",
        "\n",
        "    if option_type == 'call':\n",
        "        option_values[:, N] = np.maximum(0, asset_prices[:, N] - K)\n",
        "    elif option_type == 'put':\n",
        "        option_values[:, N] = np.maximum(0, K - asset_prices[:, N])\n",
        "\n",
        "    # Backward induction for European option pricing\n",
        "    for i in range(N - 1, -1, -1):\n",
        "        for j in range(N - i, N + i + 1, 2):\n",
        "            # Calculate the option values using risk-neutral probabilities\n",
        "            option_values[j, i] = discount * (\n",
        "                pu * option_values[j - 1, i + 1] +\n",
        "                pm * option_values[j, i + 1] +\n",
        "                pd * option_values[j + 1, i + 1]\n",
        "            )\n",
        "\n",
        "    return option_values[N, 0]\n",
        "\n",
        "# Example usage\n",
        "S0 = 100  # Initial stock price\n",
        "K_arr = [60, 90, 100, 110, 140]   # Different strike prices for Deep OTM, OTM, ATM, ITM, and Deep ITM\n",
        "T = 1     # Time to maturity (in years)\n",
        "r = 0.05  # Risk-free rate\n",
        "sigma = 0.2  # Volatility\n",
        "N = 50    # Number of time steps\n",
        "\n",
        "for K in K_arr:\n",
        "    call_price = european_option_trinomial(S0, K, T, r, sigma, N, option_type='call')\n",
        "    put_price = european_option_trinomial(S0, K, T, r, sigma, N, option_type='put')\n",
        "    print(f\"European Call Option Price for K = {K}: {np.round(call_price, 2)}\")\n",
        "    print(f\"European Put Option Price for K = {K}: {np.round(put_price, 2)}\")\n"
      ]
    }
  ]
}