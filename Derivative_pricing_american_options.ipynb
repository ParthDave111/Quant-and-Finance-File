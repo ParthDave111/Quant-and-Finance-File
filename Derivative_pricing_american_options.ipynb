{
  "nbformat": 4,
  "nbformat_minor": 0,
  "metadata": {
    "colab": {
      "provenance": [],
      "authorship_tag": "ABX9TyPvL0+jpL1M68YmqXfCZzJm",
      "include_colab_link": true
    },
    "kernelspec": {
      "name": "python3",
      "display_name": "Python 3"
    },
    "language_info": {
      "name": "python"
    }
  },
  "cells": [
    {
      "cell_type": "markdown",
      "metadata": {
        "id": "view-in-github",
        "colab_type": "text"
      },
      "source": [
        "<a href=\"https://colab.research.google.com/github/ParthDave111/Quant-and-Finance-File/blob/main/Derivative_pricing_american_options.ipynb\" target=\"_parent\"><img src=\"https://colab.research.google.com/assets/colab-badge.svg\" alt=\"Open In Colab\"/></a>"
      ]
    },
    {
      "cell_type": "code",
      "execution_count": 1,
      "metadata": {
        "colab": {
          "base_uri": "https://localhost:8080/",
          "height": 315
        },
        "id": "BonaE0daf1Ju",
        "outputId": "6adcdce4-ff57-49d5-f31d-6ff93f79a45b"
      },
      "outputs": [
        {
          "output_type": "error",
          "ename": "IndexError",
          "evalue": "too many indices for array: array is 1-dimensional, but 2 were indexed",
          "traceback": [
            "\u001b[0;31m---------------------------------------------------------------------------\u001b[0m",
            "\u001b[0;31mIndexError\u001b[0m                                Traceback (most recent call last)",
            "\u001b[0;32m<ipython-input-1-1eafcdad543a>\u001b[0m in \u001b[0;36m<cell line: 52>\u001b[0;34m()\u001b[0m\n\u001b[1;32m     50\u001b[0m \u001b[0md\u001b[0m \u001b[0;34m=\u001b[0m \u001b[0;36m1\u001b[0m \u001b[0;34m/\u001b[0m \u001b[0mu\u001b[0m\u001b[0;34m\u001b[0m\u001b[0;34m\u001b[0m\u001b[0m\n\u001b[1;32m     51\u001b[0m \u001b[0;34m\u001b[0m\u001b[0m\n\u001b[0;32m---> 52\u001b[0;31m \u001b[0mput_price\u001b[0m \u001b[0;34m=\u001b[0m \u001b[0mamerican_put\u001b[0m\u001b[0;34m(\u001b[0m\u001b[0mS0\u001b[0m\u001b[0;34m,\u001b[0m \u001b[0mK\u001b[0m\u001b[0;34m,\u001b[0m \u001b[0mr\u001b[0m\u001b[0;34m,\u001b[0m \u001b[0mT\u001b[0m\u001b[0;34m,\u001b[0m \u001b[0mN\u001b[0m\u001b[0;34m,\u001b[0m \u001b[0mu\u001b[0m\u001b[0;34m,\u001b[0m \u001b[0md\u001b[0m\u001b[0;34m)\u001b[0m\u001b[0;34m\u001b[0m\u001b[0;34m\u001b[0m\u001b[0m\n\u001b[0m\u001b[1;32m     53\u001b[0m \u001b[0mprint\u001b[0m\u001b[0;34m(\u001b[0m\u001b[0;34m\"American put price:\"\u001b[0m\u001b[0;34m,\u001b[0m \u001b[0mput_price\u001b[0m\u001b[0;34m)\u001b[0m\u001b[0;34m\u001b[0m\u001b[0;34m\u001b[0m\u001b[0m\n",
            "\u001b[0;32m<ipython-input-1-1eafcdad543a>\u001b[0m in \u001b[0;36mamerican_put\u001b[0;34m(S0, K, r, T, N, u, d)\u001b[0m\n\u001b[1;32m     36\u001b[0m       option_values[i, j] = np.maximum(\n\u001b[1;32m     37\u001b[0m           \u001b[0mK\u001b[0m \u001b[0;34m-\u001b[0m \u001b[0mstock_prices\u001b[0m\u001b[0;34m[\u001b[0m\u001b[0mi\u001b[0m\u001b[0;34m,\u001b[0m \u001b[0mj\u001b[0m\u001b[0;34m]\u001b[0m\u001b[0;34m,\u001b[0m\u001b[0;34m\u001b[0m\u001b[0;34m\u001b[0m\u001b[0m\n\u001b[0;32m---> 38\u001b[0;31m           \u001b[0mnp\u001b[0m\u001b[0;34m.\u001b[0m\u001b[0mexp\u001b[0m\u001b[0;34m(\u001b[0m\u001b[0;34m-\u001b[0m\u001b[0mr\u001b[0m \u001b[0;34m*\u001b[0m \u001b[0mdt\u001b[0m\u001b[0;34m)\u001b[0m \u001b[0;34m*\u001b[0m \u001b[0;34m(\u001b[0m\u001b[0mq\u001b[0m \u001b[0;34m*\u001b[0m \u001b[0moption_values\u001b[0m\u001b[0;34m[\u001b[0m\u001b[0mi\u001b[0m \u001b[0;34m+\u001b[0m \u001b[0;36m1\u001b[0m\u001b[0;34m,\u001b[0m \u001b[0mj\u001b[0m \u001b[0;34m+\u001b[0m \u001b[0;36m1\u001b[0m\u001b[0;34m]\u001b[0m \u001b[0;34m+\u001b[0m \u001b[0;34m(\u001b[0m\u001b[0;36m1\u001b[0m \u001b[0;34m-\u001b[0m \u001b[0mq\u001b[0m\u001b[0;34m)\u001b[0m \u001b[0;34m*\u001b[0m \u001b[0moption_values\u001b[0m\u001b[0;34m[\u001b[0m\u001b[0mi\u001b[0m \u001b[0;34m+\u001b[0m \u001b[0;36m1\u001b[0m\u001b[0;34m,\u001b[0m \u001b[0mj\u001b[0m\u001b[0;34m]\u001b[0m\u001b[0;34m)\u001b[0m\u001b[0;34m\u001b[0m\u001b[0;34m\u001b[0m\u001b[0m\n\u001b[0m\u001b[1;32m     39\u001b[0m       )\n\u001b[1;32m     40\u001b[0m \u001b[0;34m\u001b[0m\u001b[0m\n",
            "\u001b[0;31mIndexError\u001b[0m: too many indices for array: array is 1-dimensional, but 2 were indexed"
          ]
        }
      ],
      "source": [
        "import numpy as np\n",
        "\n",
        "def american_put(S0, K, r, T, N, u, d):\n",
        "  \"\"\"\n",
        "  Prices an American put option using the binomial model.\n",
        "\n",
        "  Args:\n",
        "    S0: Initial stock price\n",
        "    K: Strike price\n",
        "    r: Risk-free interest rate\n",
        "    T: Time to expiration\n",
        "    N: Number of time steps\n",
        "    u: Up factor\n",
        "    d: Down factor\n",
        "\n",
        "  Returns:\n",
        "    The price of the American put option.\n",
        "  \"\"\"\n",
        "\n",
        "  dt = T / N\n",
        "  q = (np.exp(r * dt) - d) / (u - d)\n",
        "\n",
        "  # Create stock price tree\n",
        "  stock_prices = np.zeros((N + 1, N + 1))\n",
        "  stock_prices[0, 0] = S0\n",
        "  for i in range(1, N + 1):\n",
        "    for j in range(i + 1):\n",
        "      stock_prices[i, j] = S0 * (u ** (j)) * (d ** (i - j))\n",
        "\n",
        "  # Calculate option values at expiration\n",
        "  option_values = np.maximum(K - stock_prices[-1], 0)\n",
        "\n",
        "  # Backward induction\n",
        "  for i in range(N - 1, -1, -1):\n",
        "    for j in range(i + 1):\n",
        "      option_values[i, j] = np.maximum(\n",
        "          K - stock_prices[i, j],\n",
        "          np.exp(-r * dt) * (q * option_values[i + 1, j + 1] + (1 - q) * option_values[i + 1, j])\n",
        "      )\n",
        "\n",
        "  return option_values[0, 0]\n",
        "\n",
        "# Example usage\n",
        "S0 = 45\n",
        "K = 100\n",
        "r = 0\n",
        "T = 5\n",
        "N = 5\n",
        "u = 1.2\n",
        "d = 1 / u\n",
        "\n",
        "put_price = american_put(S0, K, r, T, N, u, d)\n",
        "print(\"American put price:\", put_price)\n"
      ]
    },
    {
      "cell_type": "code",
      "source": [
        "import numpy as np\n",
        "\n",
        "def american_put(S0, K, r, T, N, u, d):\n",
        "  \"\"\"\n",
        "  Prices an American put option using the binomial model.\n",
        "\n",
        "  Args:\n",
        "    S0: Initial stock price\n",
        "    K: Strike price\n",
        "    r: Risk-free interest rate\n",
        "    T: Time to expiration\n",
        "    N: Number of time steps\n",
        "    u: Up factor\n",
        "    d: Down factor\n",
        "\n",
        "  Returns:\n",
        "    The price of the American put option.\n",
        "  \"\"\"\n",
        "\n",
        "  dt = T / N\n",
        "  q = (np.exp(r * dt) - d) / (u - d)\n",
        "\n",
        "  # Create stock price tree\n",
        "  stock_prices = np.zeros((N + 1, N + 1))\n",
        "  stock_prices[0, 0] = S0\n",
        "  for i in range(1, N + 1):\n",
        "    for j in range(i + 1):\n",
        "      stock_prices[i, j] = S0 * (u ** (j)) * (d ** (i - j))\n",
        "\n",
        "  # Calculate option values at expiration\n",
        "  option_values = np.maximum(K - stock_prices[-1], 0)\n",
        "\n",
        "  # Backward induction\n",
        "  for i in range(N - 1, -1, -1):\n",
        "    for j in range(i + 1):\n",
        "      # Keep option_values as a 2D array during updates\n",
        "      option_values[i, j] = np.maximum(\n",
        "          K - stock_prices[i, j],\n",
        "          np.exp(-r * dt) * (q * option_values[i + 1, j + 1] + (1 - q) * option_values[i + 1, j])\n",
        "      )\n",
        "\n",
        "  return option_values[0, 0]\n",
        "\n",
        "# Example usage\n",
        "S0 = 45\n",
        "K = 100\n",
        "r = 0\n",
        "T = 5\n",
        "N = 5\n",
        "u = 1.2\n",
        "d = 1 / u\n",
        "\n",
        "put_price = american_put(S0, K, r, T, N, u, d)\n",
        "print(\"American put price:\", put_price)"
      ],
      "metadata": {
        "colab": {
          "base_uri": "https://localhost:8080/",
          "height": 315
        },
        "id": "HJcH7Vp-gH28",
        "outputId": "7dd72eee-6c89-4ce4-cf47-8cf30e437d10"
      },
      "execution_count": 2,
      "outputs": [
        {
          "output_type": "error",
          "ename": "IndexError",
          "evalue": "too many indices for array: array is 1-dimensional, but 2 were indexed",
          "traceback": [
            "\u001b[0;31m---------------------------------------------------------------------------\u001b[0m",
            "\u001b[0;31mIndexError\u001b[0m                                Traceback (most recent call last)",
            "\u001b[0;32m<ipython-input-2-7c2498905bd5>\u001b[0m in \u001b[0;36m<cell line: 53>\u001b[0;34m()\u001b[0m\n\u001b[1;32m     51\u001b[0m \u001b[0md\u001b[0m \u001b[0;34m=\u001b[0m \u001b[0;36m1\u001b[0m \u001b[0;34m/\u001b[0m \u001b[0mu\u001b[0m\u001b[0;34m\u001b[0m\u001b[0;34m\u001b[0m\u001b[0m\n\u001b[1;32m     52\u001b[0m \u001b[0;34m\u001b[0m\u001b[0m\n\u001b[0;32m---> 53\u001b[0;31m \u001b[0mput_price\u001b[0m \u001b[0;34m=\u001b[0m \u001b[0mamerican_put\u001b[0m\u001b[0;34m(\u001b[0m\u001b[0mS0\u001b[0m\u001b[0;34m,\u001b[0m \u001b[0mK\u001b[0m\u001b[0;34m,\u001b[0m \u001b[0mr\u001b[0m\u001b[0;34m,\u001b[0m \u001b[0mT\u001b[0m\u001b[0;34m,\u001b[0m \u001b[0mN\u001b[0m\u001b[0;34m,\u001b[0m \u001b[0mu\u001b[0m\u001b[0;34m,\u001b[0m \u001b[0md\u001b[0m\u001b[0;34m)\u001b[0m\u001b[0;34m\u001b[0m\u001b[0;34m\u001b[0m\u001b[0m\n\u001b[0m\u001b[1;32m     54\u001b[0m \u001b[0mprint\u001b[0m\u001b[0;34m(\u001b[0m\u001b[0;34m\"American put price:\"\u001b[0m\u001b[0;34m,\u001b[0m \u001b[0mput_price\u001b[0m\u001b[0;34m)\u001b[0m\u001b[0;34m\u001b[0m\u001b[0;34m\u001b[0m\u001b[0m\n",
            "\u001b[0;32m<ipython-input-2-7c2498905bd5>\u001b[0m in \u001b[0;36mamerican_put\u001b[0;34m(S0, K, r, T, N, u, d)\u001b[0m\n\u001b[1;32m     37\u001b[0m       option_values[i, j] = np.maximum(\n\u001b[1;32m     38\u001b[0m           \u001b[0mK\u001b[0m \u001b[0;34m-\u001b[0m \u001b[0mstock_prices\u001b[0m\u001b[0;34m[\u001b[0m\u001b[0mi\u001b[0m\u001b[0;34m,\u001b[0m \u001b[0mj\u001b[0m\u001b[0;34m]\u001b[0m\u001b[0;34m,\u001b[0m\u001b[0;34m\u001b[0m\u001b[0;34m\u001b[0m\u001b[0m\n\u001b[0;32m---> 39\u001b[0;31m           \u001b[0mnp\u001b[0m\u001b[0;34m.\u001b[0m\u001b[0mexp\u001b[0m\u001b[0;34m(\u001b[0m\u001b[0;34m-\u001b[0m\u001b[0mr\u001b[0m \u001b[0;34m*\u001b[0m \u001b[0mdt\u001b[0m\u001b[0;34m)\u001b[0m \u001b[0;34m*\u001b[0m \u001b[0;34m(\u001b[0m\u001b[0mq\u001b[0m \u001b[0;34m*\u001b[0m \u001b[0moption_values\u001b[0m\u001b[0;34m[\u001b[0m\u001b[0mi\u001b[0m \u001b[0;34m+\u001b[0m \u001b[0;36m1\u001b[0m\u001b[0;34m,\u001b[0m \u001b[0mj\u001b[0m \u001b[0;34m+\u001b[0m \u001b[0;36m1\u001b[0m\u001b[0;34m]\u001b[0m \u001b[0;34m+\u001b[0m \u001b[0;34m(\u001b[0m\u001b[0;36m1\u001b[0m \u001b[0;34m-\u001b[0m \u001b[0mq\u001b[0m\u001b[0;34m)\u001b[0m \u001b[0;34m*\u001b[0m \u001b[0moption_values\u001b[0m\u001b[0;34m[\u001b[0m\u001b[0mi\u001b[0m \u001b[0;34m+\u001b[0m \u001b[0;36m1\u001b[0m\u001b[0;34m,\u001b[0m \u001b[0mj\u001b[0m\u001b[0;34m]\u001b[0m\u001b[0;34m)\u001b[0m\u001b[0;34m\u001b[0m\u001b[0;34m\u001b[0m\u001b[0m\n\u001b[0m\u001b[1;32m     40\u001b[0m       )\n\u001b[1;32m     41\u001b[0m \u001b[0;34m\u001b[0m\u001b[0m\n",
            "\u001b[0;31mIndexError\u001b[0m: too many indices for array: array is 1-dimensional, but 2 were indexed"
          ]
        }
      ]
    },
    {
      "cell_type": "code",
      "source": [
        "import numpy as np\n",
        "\n",
        "def american_put(S0, K, r, T, N, u, d):\n",
        "  \"\"\"\n",
        "  Prices an American put option using the binomial model.\n",
        "\n",
        "  Args:\n",
        "    S0: Initial stock price\n",
        "    K: Strike price\n",
        "    r: Risk-free interest rate\n",
        "    T: Time to expiration\n",
        "    N: Number of time steps\n",
        "    u: Up factor\n",
        "    d: Down factor\n",
        "\n",
        "  Returns:\n",
        "    The price of the American put option.\n",
        "  \"\"\"\n",
        "\n",
        "  dt = T / N\n",
        "  q = (np.exp(r * dt) - d) / (u - d)\n",
        "\n",
        "  # Create stock price tree\n",
        "  stock_prices = np.zeros((N + 1, N + 1))\n",
        "  stock_prices[0, 0] = S0\n",
        "  for i in range(1, N + 1):\n",
        "    for j in range(i + 1):\n",
        "      stock_prices[i, j] = S0 * (u ** (j)) * (d ** (i - j))\n",
        "\n",
        "  # Calculate option values at expiration\n",
        "  option_values = np.maximum(K - stock_prices[-1], 0)\n",
        "\n",
        "  # Backward induction\n",
        "  for i in range(N - 1, -1, -1):\n",
        "    for j in range(i + 1):\n",
        "      # Keep option_values as a 2D array during updates\n",
        "      option_values[i, j] = np.maximum(\n",
        "          K - stock_prices[i, j],\n",
        "          np.exp(-r * dt) * (q * option_values[i + 1, j + 1] + (1 - q) * option_values[i + 1, j])\n",
        "      )\n",
        "\n",
        "  return option_values[0, 0]\n",
        "\n",
        "# Example usage\n",
        "S0 = 45\n",
        "K = 100\n",
        "r = 0\n",
        "T = 5\n",
        "N = 5\n",
        "u = 1.2\n",
        "d = 1 / u\n",
        "\n",
        "put_price = american_put(S0, K, r, T, N, u, d)\n",
        "print(\"American put price:\", put_price)"
      ],
      "metadata": {
        "colab": {
          "base_uri": "https://localhost:8080/",
          "height": 315
        },
        "id": "eROfVKB0gPeM",
        "outputId": "6fda7d0f-8e30-4f26-e9a9-dc5d9d2f15f5"
      },
      "execution_count": 3,
      "outputs": [
        {
          "output_type": "error",
          "ename": "IndexError",
          "evalue": "too many indices for array: array is 1-dimensional, but 2 were indexed",
          "traceback": [
            "\u001b[0;31m---------------------------------------------------------------------------\u001b[0m",
            "\u001b[0;31mIndexError\u001b[0m                                Traceback (most recent call last)",
            "\u001b[0;32m<ipython-input-3-7c2498905bd5>\u001b[0m in \u001b[0;36m<cell line: 53>\u001b[0;34m()\u001b[0m\n\u001b[1;32m     51\u001b[0m \u001b[0md\u001b[0m \u001b[0;34m=\u001b[0m \u001b[0;36m1\u001b[0m \u001b[0;34m/\u001b[0m \u001b[0mu\u001b[0m\u001b[0;34m\u001b[0m\u001b[0;34m\u001b[0m\u001b[0m\n\u001b[1;32m     52\u001b[0m \u001b[0;34m\u001b[0m\u001b[0m\n\u001b[0;32m---> 53\u001b[0;31m \u001b[0mput_price\u001b[0m \u001b[0;34m=\u001b[0m \u001b[0mamerican_put\u001b[0m\u001b[0;34m(\u001b[0m\u001b[0mS0\u001b[0m\u001b[0;34m,\u001b[0m \u001b[0mK\u001b[0m\u001b[0;34m,\u001b[0m \u001b[0mr\u001b[0m\u001b[0;34m,\u001b[0m \u001b[0mT\u001b[0m\u001b[0;34m,\u001b[0m \u001b[0mN\u001b[0m\u001b[0;34m,\u001b[0m \u001b[0mu\u001b[0m\u001b[0;34m,\u001b[0m \u001b[0md\u001b[0m\u001b[0;34m)\u001b[0m\u001b[0;34m\u001b[0m\u001b[0;34m\u001b[0m\u001b[0m\n\u001b[0m\u001b[1;32m     54\u001b[0m \u001b[0mprint\u001b[0m\u001b[0;34m(\u001b[0m\u001b[0;34m\"American put price:\"\u001b[0m\u001b[0;34m,\u001b[0m \u001b[0mput_price\u001b[0m\u001b[0;34m)\u001b[0m\u001b[0;34m\u001b[0m\u001b[0;34m\u001b[0m\u001b[0m\n",
            "\u001b[0;32m<ipython-input-3-7c2498905bd5>\u001b[0m in \u001b[0;36mamerican_put\u001b[0;34m(S0, K, r, T, N, u, d)\u001b[0m\n\u001b[1;32m     37\u001b[0m       option_values[i, j] = np.maximum(\n\u001b[1;32m     38\u001b[0m           \u001b[0mK\u001b[0m \u001b[0;34m-\u001b[0m \u001b[0mstock_prices\u001b[0m\u001b[0;34m[\u001b[0m\u001b[0mi\u001b[0m\u001b[0;34m,\u001b[0m \u001b[0mj\u001b[0m\u001b[0;34m]\u001b[0m\u001b[0;34m,\u001b[0m\u001b[0;34m\u001b[0m\u001b[0;34m\u001b[0m\u001b[0m\n\u001b[0;32m---> 39\u001b[0;31m           \u001b[0mnp\u001b[0m\u001b[0;34m.\u001b[0m\u001b[0mexp\u001b[0m\u001b[0;34m(\u001b[0m\u001b[0;34m-\u001b[0m\u001b[0mr\u001b[0m \u001b[0;34m*\u001b[0m \u001b[0mdt\u001b[0m\u001b[0;34m)\u001b[0m \u001b[0;34m*\u001b[0m \u001b[0;34m(\u001b[0m\u001b[0mq\u001b[0m \u001b[0;34m*\u001b[0m \u001b[0moption_values\u001b[0m\u001b[0;34m[\u001b[0m\u001b[0mi\u001b[0m \u001b[0;34m+\u001b[0m \u001b[0;36m1\u001b[0m\u001b[0;34m,\u001b[0m \u001b[0mj\u001b[0m \u001b[0;34m+\u001b[0m \u001b[0;36m1\u001b[0m\u001b[0;34m]\u001b[0m \u001b[0;34m+\u001b[0m \u001b[0;34m(\u001b[0m\u001b[0;36m1\u001b[0m \u001b[0;34m-\u001b[0m \u001b[0mq\u001b[0m\u001b[0;34m)\u001b[0m \u001b[0;34m*\u001b[0m \u001b[0moption_values\u001b[0m\u001b[0;34m[\u001b[0m\u001b[0mi\u001b[0m \u001b[0;34m+\u001b[0m \u001b[0;36m1\u001b[0m\u001b[0;34m,\u001b[0m \u001b[0mj\u001b[0m\u001b[0;34m]\u001b[0m\u001b[0;34m)\u001b[0m\u001b[0;34m\u001b[0m\u001b[0;34m\u001b[0m\u001b[0m\n\u001b[0m\u001b[1;32m     40\u001b[0m       )\n\u001b[1;32m     41\u001b[0m \u001b[0;34m\u001b[0m\u001b[0m\n",
            "\u001b[0;31mIndexError\u001b[0m: too many indices for array: array is 1-dimensional, but 2 were indexed"
          ]
        }
      ]
    },
    {
      "cell_type": "markdown",
      "source": [],
      "metadata": {
        "id": "cWb1gCsOgPHT"
      }
    },
    {
      "cell_type": "code",
      "source": [
        "def american_option(S_ini, K, T, r, u, d, N, opttype):\n",
        "    dt = T / N  # Define time step\n",
        "    p = (np.exp(r * dt) - d) / (u - d)  # risk neutral probs\n",
        "    C = np.zeros([N + 1, N + 1])  # call prices\n",
        "    S = np.zeros([N + 1, N + 1])  # underlying price\n",
        "\n",
        "    for i in range(0, N + 1):\n",
        "        S[N, i] = S_ini * (u ** (i)) * (d ** (N - i))\n",
        "        if opttype == \"C\":\n",
        "            C[N, i] = max(S[N, i] - K, 0)\n",
        "        else:\n",
        "            C[N, i] = max(K - S[N, i], 0)\n",
        "\n",
        "    for j in range(N - 1, -1, -1):\n",
        "        for i in range(0, j + 1):\n",
        "            C[j, i] = np.exp(-r * dt) * (\n",
        "                p * C[j + 1, i + 1] + (1 - p) * C[j + 1, i]\n",
        "            )  # Computing the European option prices\n",
        "            S[j, i] = (\n",
        "                S_ini * (u ** (i)) * (d ** (j - i))\n",
        "            )  # Underlying evolution for each node\n",
        "            if opttype == \"C\":\n",
        "                C[j, i] = max(\n",
        "                    C[j, i], S[j, i] - K\n",
        "                )  # Decision between the European option price and the payoff from early-exercise\n",
        "            else:\n",
        "                C[j, i] = max(\n",
        "                    C[j, i], K - S[j, i]\n",
        "                )  # Decision between the European option price and the payoff from early-exercise\n",
        "\n",
        "    return C[0, 0], C, S"
      ],
      "metadata": {
        "id": "ka5y8T9DgxW2"
      },
      "execution_count": 4,
      "outputs": []
    },
    {
      "cell_type": "code",
      "source": [],
      "metadata": {
        "id": "0GirSDuchGsw"
      },
      "execution_count": null,
      "outputs": []
    },
    {
      "cell_type": "code",
      "source": [
        "option_price, C, S = american_option(45, 100, 5, 0, 1.2, 0.833, 5, \"P\")"
      ],
      "metadata": {
        "id": "esVmj5lagyU_"
      },
      "execution_count": 5,
      "outputs": []
    },
    {
      "cell_type": "code",
      "source": [
        "option_price"
      ],
      "metadata": {
        "colab": {
          "base_uri": "https://localhost:8080/"
        },
        "id": "4cA8L8X5hXUJ",
        "outputId": "197ecc39-a98b-4775-add6-6a6d0c2ece90"
      },
      "execution_count": 6,
      "outputs": [
        {
          "output_type": "execute_result",
          "data": {
            "text/plain": [
              "55.233617727991856"
            ]
          },
          "metadata": {},
          "execution_count": 6
        }
      ]
    },
    {
      "cell_type": "code",
      "source": [
        "C"
      ],
      "metadata": {
        "colab": {
          "base_uri": "https://localhost:8080/"
        },
        "id": "seCGdbLRhZdP",
        "outputId": "0092857c-69f1-472c-cf2b-be787b378109"
      },
      "execution_count": 8,
      "outputs": [
        {
          "output_type": "execute_result",
          "data": {
            "text/plain": [
              "array([[55.23361773,  0.        ,  0.        ,  0.        ,  0.        ,\n",
              "         0.        ],\n",
              "       [62.515     , 46.51339944,  0.        ,  0.        ,  0.        ,\n",
              "         0.        ],\n",
              "       [68.774995  , 55.018     , 36.32824906,  0.        ,  0.        ,\n",
              "         0.        ],\n",
              "       [73.98957084, 62.529994  , 46.0216    , 24.71944555,  0.        ,\n",
              "         0.        ],\n",
              "       [78.33331251, 68.787485  , 55.0359928 , 35.22592   , 12.13684142,\n",
              "         0.        ],\n",
              "       [81.95164932, 73.99997501, 62.544982  , 46.04319136, 22.271104  ,\n",
              "         0.        ]])"
            ]
          },
          "metadata": {},
          "execution_count": 8
        }
      ]
    },
    {
      "cell_type": "code",
      "source": [
        "# prompt: PLOT option_price,C,S IN FORM OF BINOMIAL TREE\n",
        "\n",
        "import matplotlib.pyplot as plt\n",
        "\n",
        "def plot_binomial_tree(C, S):\n",
        "  \"\"\"\n",
        "  Plots the binomial tree for option prices and underlying asset prices.\n",
        "\n",
        "  Args:\n",
        "    C: 2D array of option prices at each node.\n",
        "    S: 2D array of underlying asset prices at each node.\n",
        "  \"\"\"\n",
        "\n",
        "  num_steps = C.shape[0] - 1\n",
        "\n",
        "  fig, ax = plt.subplots(figsize=(10, 6))\n",
        "\n",
        "  # Plot option prices\n",
        "  for i in range(num_steps + 1):\n",
        "    for j in range(i + 1):\n",
        "      ax.plot(j, num_steps - i, 'o', markersize=8, color='blue', label='Option Price' if i == 0 and j == 0 else None)\n",
        "      ax.text(j, num_steps - i, f'{C[num_steps - i, j]:.2f}', ha='center', va='center', color='black')\n",
        "\n",
        "  # Plot underlying asset prices\n",
        "  for i in range(num_steps + 1):\n",
        "    for j in range(i + 1):\n",
        "      ax.plot(j, num_steps - i, 'x', markersize=8, color='red', label='Stock Price' if i == 0 and j == 0 else None)\n",
        "      ax.text(j, num_steps - i, f'{S[num_steps - i, j]:.2f}', ha='center', va='center', color='black')\n",
        "\n",
        "  ax.set_title('Binomial Tree for American Put Option')\n",
        "  ax.set_xlabel('Number of Up Movements')\n",
        "  ax.set_ylabel('Time Steps')\n",
        "  ax.legend()\n",
        "  plt.grid(True)\n",
        "  plt.show()\n",
        "\n",
        "# Plot the tree\n",
        "plot_binomial_tree(C, S)\n"
      ],
      "metadata": {
        "colab": {
          "base_uri": "https://localhost:8080/",
          "height": 564
        },
        "id": "ToJc4k-RhdBC",
        "outputId": "4dc71fcb-4bd4-4629-83b9-0389b52e7da4"
      },
      "execution_count": 12,
      "outputs": [
        {
          "output_type": "display_data",
          "data": {
            "text/plain": [
              "<Figure size 1000x600 with 1 Axes>"
            ],
            "image/png": "[encoded data removed]"
          },
          "metadata": {}
        }
      ]
    },
    {
      "cell_type": "code",
      "source": [
        "def call_option_delta(S_ini, K, T, r, u, d, N):\n",
        "    dt = T / N  # Define time step\n",
        "    p = (np.exp(r * dt) - d) / (u - d)  # risk neutral probs\n",
        "    C = np.zeros([N + 1, N + 1])  # call prices\n",
        "    S = np.zeros([N + 1, N + 1])  # underlying price\n",
        "    Delta = np.zeros([N, N])  # delta\n",
        "    for i in range(0, N + 1):\n",
        "        C[N, i] = max(S_ini * (u ** (i)) * (d ** (N - i)) - K, 0)\n",
        "        S[N, i] = S_ini * (u ** (i)) * (d ** (N - i))\n",
        "    for j in range(N - 1, -1, -1):\n",
        "        for i in range(0, j + 1):\n",
        "            C[j, i] = np.exp(-r * dt) * (p * C[j + 1, i + 1] + (1 - p) * C[j + 1, i])\n",
        "            S[j, i] = S_ini * (u ** (i)) * (d ** (j - i))\n",
        "            Delta[j, i] = (C[j + 1, i + 1] - C[j + 1, i]) / (\n",
        "                S[j + 1, i + 1] - S[j + 1, i]\n",
        "            )\n",
        "    return C[0, 0], C, S, Delta"
      ],
      "metadata": {
        "id": "noS4K3bsiPHx"
      },
      "execution_count": 13,
      "outputs": []
    },
    {
      "cell_type": "code",
      "source": [
        "price, call, S, delta = call_option_delta(100, 90, 15, 0, 1.2, 0.8, 15)\n",
        "print(\"Underlying: \\n\", S)\n",
        "print(\"Call Price: \\n\", call)\n",
        "print(\"Delta: \\n\", delta)"
      ],
      "metadata": {
        "colab": {
          "base_uri": "https://localhost:8080/"
        },
        "id": "IENIjfAHiP4Y",
        "outputId": "d9288d81-a857-4402-86cf-11e161294bc1"
      },
      "execution_count": 14,
      "outputs": [
        {
          "output_type": "stream",
          "name": "stdout",
          "text": [
            "Underlying: \n",
            " [[ 100.            0.            0.            0.            0.\n",
            "     0.            0.            0.            0.            0.\n",
            "     0.            0.            0.            0.            0.\n",
            "     0.        ]\n",
            " [  80.          120.            0.            0.            0.\n",
            "     0.            0.            0.            0.            0.\n",
            "     0.            0.            0.            0.            0.\n",
            "     0.        ]\n",
            " [  64.           96.          144.            0.            0.\n",
            "     0.            0.            0.            0.            0.\n",
            "     0.            0.            0.            0.            0.\n",
            "     0.        ]\n",
            " [  51.2          76.8         115.2         172.8           0.\n",
            "     0.            0.            0.            0.            0.\n",
            "     0.            0.            0.            0.            0.\n",
            "     0.        ]\n",
            " [  40.96         61.44         92.16        138.24        207.36\n",
            "     0.            0.            0.            0.            0.\n",
            "     0.            0.            0.            0.            0.\n",
            "     0.        ]\n",
            " [  32.768        49.152        73.728       110.592       165.888\n",
            "   248.832         0.            0.            0.            0.\n",
            "     0.            0.            0.            0.            0.\n",
            "     0.        ]\n",
            " [  26.2144       39.3216       58.9824       88.4736      132.7104\n",
            "   199.0656      298.5984        0.            0.            0.\n",
            "     0.            0.            0.            0.            0.\n",
            "     0.        ]\n",
            " [  20.97152      31.45728      47.18592      70.77888     106.16832\n",
            "   159.25248     238.87872     358.31808       0.            0.\n",
            "     0.            0.            0.            0.            0.\n",
            "     0.        ]\n",
            " [  16.777216     25.165824     37.748736     56.623104     84.934656\n",
            "   127.401984    191.102976    286.654464    429.981696      0.\n",
            "     0.            0.            0.            0.            0.\n",
            "     0.        ]\n",
            " [  13.4217728    20.1326592    30.1989888    45.2984832    67.9477248\n",
            "   101.9215872   152.8823808   229.3235712   343.9853568   515.9780352\n",
            "     0.            0.            0.            0.            0.\n",
            "     0.        ]\n",
            " [  10.73741824   16.10612736   24.15919104   36.23878656   54.35817984\n",
            "    81.53726976  122.30590464  183.45885696  275.18828544  412.78242816\n",
            "   619.17364224    0.            0.            0.            0.\n",
            "     0.        ]\n",
            " [   8.58993459   12.88490189   19.32735283   28.99102925   43.48654387\n",
            "    65.22981581   97.84472371  146.76708557  220.15062835  330.22594253\n",
            "   495.33891379  743.00837069    0.            0.            0.\n",
            "     0.        ]\n",
            " [   6.87194767   10.30792151   15.46188227   23.1928234    34.7892351\n",
            "    52.18385265   78.27577897  117.41366845  176.12050268  264.18075402\n",
            "   396.27113103  594.40669655  891.61004483    0.            0.\n",
            "     0.        ]\n",
            " [   5.49755814    8.24633721   12.36950581   18.55425872   27.83138808\n",
            "    41.74708212   62.62062318   93.93093476  140.89640215  211.34460322\n",
            "   317.01690483  475.52535724  713.28803586 1069.93205379    0.\n",
            "     0.        ]\n",
            " [   4.39804651    6.59706977    9.89560465   14.84340697   22.26511046\n",
            "    33.39766569   50.09649854   75.14474781  112.71712172  169.07568257\n",
            "   253.61352386  380.42028579  570.63042869  855.94564303 1283.91846455\n",
            "     0.        ]\n",
            " [   3.51843721    5.27765581    7.91648372   11.87472558   17.81208837\n",
            "    26.71813255   40.07719883   60.11579825   90.17369737  135.26054606\n",
            "   202.89081909  304.33622863  456.50434295  684.75651443 1027.13477164\n",
            "  1540.70215746]]\n",
            "Call Price: \n",
            " [[3.36896817e+01 0.00000000e+00 0.00000000e+00 0.00000000e+00\n",
            "  0.00000000e+00 0.00000000e+00 0.00000000e+00 0.00000000e+00\n",
            "  0.00000000e+00 0.00000000e+00 0.00000000e+00 0.00000000e+00\n",
            "  0.00000000e+00 0.00000000e+00 0.00000000e+00 0.00000000e+00]\n",
            " [1.98224454e+01 4.75569181e+01 0.00000000e+00 0.00000000e+00\n",
            "  0.00000000e+00 0.00000000e+00 0.00000000e+00 0.00000000e+00\n",
            "  0.00000000e+00 0.00000000e+00 0.00000000e+00 0.00000000e+00\n",
            "  0.00000000e+00 0.00000000e+00 0.00000000e+00 0.00000000e+00]\n",
            " [1.06139102e+01 2.90309806e+01 6.60828557e+01 0.00000000e+00\n",
            "  0.00000000e+00 0.00000000e+00 0.00000000e+00 0.00000000e+00\n",
            "  0.00000000e+00 0.00000000e+00 0.00000000e+00 0.00000000e+00\n",
            "  0.00000000e+00 0.00000000e+00 0.00000000e+00 0.00000000e+00]\n",
            " [4.98843591e+00 1.62393844e+01 4.18225767e+01 9.03431347e+01\n",
            "  0.00000000e+00 0.00000000e+00 0.00000000e+00 0.00000000e+00\n",
            "  0.00000000e+00 0.00000000e+00 0.00000000e+00 0.00000000e+00\n",
            "  0.00000000e+00 0.00000000e+00 0.00000000e+00 0.00000000e+00]\n",
            " [1.94049089e+00 8.03638093e+00 2.44423879e+01 5.92027655e+01\n",
            "  1.21483504e+02 0.00000000e+00 0.00000000e+00 0.00000000e+00\n",
            "  0.00000000e+00 0.00000000e+00 0.00000000e+00 0.00000000e+00\n",
            "  0.00000000e+00 0.00000000e+00 0.00000000e+00 0.00000000e+00]\n",
            " [5.59875646e-01 3.32110613e+00 1.27516557e+01 3.61331201e+01\n",
            "  8.22724110e+01 1.60694597e+02 0.00000000e+00 0.00000000e+00\n",
            "  0.00000000e+00 0.00000000e+00 0.00000000e+00 0.00000000e+00\n",
            "  0.00000000e+00 0.00000000e+00 0.00000000e+00 0.00000000e+00]\n",
            " [9.14527782e-02 1.02829851e+00 5.61391375e+00 1.98893977e+01\n",
            "  5.23768424e+01 1.12167980e+02 2.09221214e+02 0.00000000e+00\n",
            "  0.00000000e+00 0.00000000e+00 0.00000000e+00 0.00000000e+00\n",
            "  0.00000000e+00 0.00000000e+00 0.00000000e+00 0.00000000e+00]\n",
            " [6.78505363e-04 1.82227051e-01 1.87436998e+00 9.35345752e+00\n",
            "  3.04253379e+01 7.43283469e+01 1.50007612e+02 2.68434815e+02\n",
            "  0.00000000e+00 0.00000000e+00 0.00000000e+00 0.00000000e+00\n",
            "  0.00000000e+00 0.00000000e+00 0.00000000e+00 0.00000000e+00]\n",
            " [0.00000000e+00 1.35701073e-03 3.63097091e-01 3.38564286e+00\n",
            "  1.53212722e+01 4.55294036e+01 1.03127290e+02 1.96887934e+02\n",
            "  3.39981696e+02 0.00000000e+00 0.00000000e+00 0.00000000e+00\n",
            "  0.00000000e+00 0.00000000e+00 0.00000000e+00 0.00000000e+00]\n",
            " [0.00000000e+00 0.00000000e+00 2.71402145e-03 7.23480161e-01\n",
            "  6.04780556e+00 2.45947388e+01 6.64640685e+01 1.39790512e+02\n",
            "  2.53985357e+02 4.25978035e+02 0.00000000e+00 0.00000000e+00\n",
            "  0.00000000e+00 0.00000000e+00 0.00000000e+00 0.00000000e+00]\n",
            " [0.00000000e+00 0.00000000e+00 0.00000000e+00 5.42804291e-03\n",
            "  1.44153228e+00 1.06540788e+01 3.85353987e+01 9.43927383e+01\n",
            "  1.85188285e+02 3.22782428e+02 5.29173642e+02 0.00000000e+00\n",
            "  0.00000000e+00 0.00000000e+00 0.00000000e+00 0.00000000e+00]\n",
            " [0.00000000e+00 0.00000000e+00 0.00000000e+00 0.00000000e+00\n",
            "  1.08560858e-02 2.87220847e+00 1.84359492e+01 5.86348482e+01\n",
            "  1.30150628e+02 2.40225943e+02 4.05338914e+02 6.53008371e+02\n",
            "  0.00000000e+00 0.00000000e+00 0.00000000e+00 0.00000000e+00]\n",
            " [0.00000000e+00 0.00000000e+00 0.00000000e+00 0.00000000e+00\n",
            "  0.00000000e+00 2.17121716e-02 5.72270477e+00 3.11491937e+01\n",
            "  8.61205027e+01 1.74180754e+02 3.06271131e+02 5.04406697e+02\n",
            "  8.01610045e+02 0.00000000e+00 0.00000000e+00 0.00000000e+00]\n",
            " [0.00000000e+00 0.00000000e+00 0.00000000e+00 0.00000000e+00\n",
            "  0.00000000e+00 0.00000000e+00 4.34243432e-02 1.14019852e+01\n",
            "  5.08964021e+01 1.21344603e+02 2.27016905e+02 3.85525357e+02\n",
            "  6.23288036e+02 9.79932054e+02 0.00000000e+00 0.00000000e+00]\n",
            " [0.00000000e+00 0.00000000e+00 0.00000000e+00 0.00000000e+00\n",
            "  0.00000000e+00 0.00000000e+00 0.00000000e+00 8.68486865e-02\n",
            "  2.27171217e+01 7.90756826e+01 1.63613524e+02 2.90420286e+02\n",
            "  4.80630429e+02 7.65945643e+02 1.19391846e+03 0.00000000e+00]\n",
            " [0.00000000e+00 0.00000000e+00 0.00000000e+00 0.00000000e+00\n",
            "  0.00000000e+00 0.00000000e+00 0.00000000e+00 0.00000000e+00\n",
            "  1.73697373e-01 4.52605461e+01 1.12890819e+02 2.14336229e+02\n",
            "  3.66504343e+02 5.94756514e+02 9.37134772e+02 1.45070216e+03]]\n",
            "Delta: \n",
            " [[6.93361819e-01 0.00000000e+00 0.00000000e+00 0.00000000e+00\n",
            "  0.00000000e+00 0.00000000e+00 0.00000000e+00 0.00000000e+00\n",
            "  0.00000000e+00 0.00000000e+00 0.00000000e+00 0.00000000e+00\n",
            "  0.00000000e+00 0.00000000e+00 0.00000000e+00]\n",
            " [5.75533450e-01 7.71914065e-01 0.00000000e+00 0.00000000e+00\n",
            "  0.00000000e+00 0.00000000e+00 0.00000000e+00 0.00000000e+00\n",
            "  0.00000000e+00 0.00000000e+00 0.00000000e+00 0.00000000e+00\n",
            "  0.00000000e+00 0.00000000e+00 0.00000000e+00]\n",
            " [4.39490176e-01 6.66228966e-01 8.42370798e-01 0.00000000e+00\n",
            "  0.00000000e+00 0.00000000e+00 0.00000000e+00 0.00000000e+00\n",
            "  0.00000000e+00 0.00000000e+00 0.00000000e+00 0.00000000e+00\n",
            "  0.00000000e+00 0.00000000e+00 0.00000000e+00]\n",
            " [2.97650881e-01 5.34049706e-01 7.54348473e-01 9.01052348e-01\n",
            "  0.00000000e+00 0.00000000e+00 0.00000000e+00 0.00000000e+00\n",
            "  0.00000000e+00 0.00000000e+00 0.00000000e+00 0.00000000e+00\n",
            "  0.00000000e+00 0.00000000e+00 0.00000000e+00]\n",
            " [1.68532134e-01 3.83730045e-01 6.34262813e-01 8.34405580e-01\n",
            "  9.45483527e-01 0.00000000e+00 0.00000000e+00 0.00000000e+00\n",
            "  0.00000000e+00 0.00000000e+00 0.00000000e+00 0.00000000e+00\n",
            "  0.00000000e+00 0.00000000e+00 0.00000000e+00]\n",
            " [7.14756573e-02 2.33236452e-01 4.84059108e-01 7.34398616e-01\n",
            "  9.01076889e-01 9.75087952e-01 0.00000000e+00 0.00000000e+00\n",
            "  0.00000000e+00 0.00000000e+00 0.00000000e+00 0.00000000e+00\n",
            "  0.00000000e+00 0.00000000e+00 0.00000000e+00]\n",
            " [1.73138185e-02 1.07583550e-01 3.17005053e-01 5.95428478e-01\n",
            "  8.27045375e-01 9.50431232e-01 9.91525766e-01 0.00000000e+00\n",
            "  0.00000000e+00 0.00000000e+00 0.00000000e+00 0.00000000e+00\n",
            "  0.00000000e+00 0.00000000e+00 0.00000000e+00]\n",
            " [1.61768285e-04 2.87485187e-02 1.60140237e-01 4.21581597e-01\n",
            "  7.11326398e-01 9.04191359e-01 9.81257813e-01 9.98371068e-01\n",
            "  0.00000000e+00 0.00000000e+00 0.00000000e+00 0.00000000e+00\n",
            "  0.00000000e+00 0.00000000e+00 0.00000000e+00]\n",
            " [0.00000000e+00 2.69613808e-04 4.77344552e-02 2.35077425e-01\n",
            "  5.45917711e-01 8.21598856e-01 9.59253028e-01 9.95927670e-01\n",
            "  1.00000000e+00 0.00000000e+00 0.00000000e+00 0.00000000e+00\n",
            "  0.00000000e+00 0.00000000e+00 0.00000000e+00]\n",
            " [0.00000000e+00 0.00000000e+00 4.49356346e-04 7.92578545e-02\n",
            "  3.38957139e-01 6.83891426e-01 9.13403809e-01 9.89819174e-01\n",
            "  1.00000000e+00 1.00000000e+00 0.00000000e+00 0.00000000e+00\n",
            "  0.00000000e+00 0.00000000e+00 0.00000000e+00]\n",
            " [0.00000000e+00 0.00000000e+00 0.00000000e+00 7.48927244e-04\n",
            "  1.31597139e-01 4.77197139e-01 8.21687617e-01 9.74547936e-01\n",
            "  1.00000000e+00 1.00000000e+00 1.00000000e+00 0.00000000e+00\n",
            "  0.00000000e+00 0.00000000e+00 0.00000000e+00]\n",
            " [0.00000000e+00 0.00000000e+00 0.00000000e+00 0.00000000e+00\n",
            "  1.24821207e-03 2.18496424e-01 6.49664283e-01 9.36369841e-01\n",
            "  1.00000000e+00 1.00000000e+00 1.00000000e+00 1.00000000e+00\n",
            "  0.00000000e+00 0.00000000e+00 0.00000000e+00]\n",
            " [0.00000000e+00 0.00000000e+00 0.00000000e+00 0.00000000e+00\n",
            "  0.00000000e+00 2.08035345e-03 3.62773805e-01 8.40924602e-01\n",
            "  1.00000000e+00 1.00000000e+00 1.00000000e+00 1.00000000e+00\n",
            "  1.00000000e+00 0.00000000e+00 0.00000000e+00]\n",
            " [0.00000000e+00 0.00000000e+00 0.00000000e+00 0.00000000e+00\n",
            "  0.00000000e+00 0.00000000e+00 3.46725576e-03 6.02311504e-01\n",
            "  1.00000000e+00 1.00000000e+00 1.00000000e+00 1.00000000e+00\n",
            "  1.00000000e+00 1.00000000e+00 0.00000000e+00]\n",
            " [0.00000000e+00 0.00000000e+00 0.00000000e+00 0.00000000e+00\n",
            "  0.00000000e+00 0.00000000e+00 0.00000000e+00 5.77875960e-03\n",
            "  1.00000000e+00 1.00000000e+00 1.00000000e+00 1.00000000e+00\n",
            "  1.00000000e+00 1.00000000e+00 1.00000000e+00]]\n"
          ]
        }
      ]
    },
    {
      "cell_type": "code",
      "source": [
        "import numpy as np\n",
        "\n",
        "def american_option(S_ini, K, T, r, u, d, N, opttype):\n",
        "    dt = T / N  # Define time step\n",
        "    p = (np.exp(r * dt) - d) / (u - d)  # Risk neutral probabilities\n",
        "    C = np.zeros([N + 1, N + 1])  # Option prices\n",
        "    S = np.zeros([N + 1, N + 1])  # Underlying prices\n",
        "    Delta = np.zeros([N, N])  # Delta\n",
        "\n",
        "    # Initialize option values at maturity\n",
        "    for i in range(0, N + 1):\n",
        "        S[N, i] = S_ini * (u ** i) * (d ** (N - i))\n",
        "        if opttype == \"P\":\n",
        "            C[N, i] = max(K - S[N, i], 0)\n",
        "        else:\n",
        "            C[N, i] = max(S[N, i] - K, 0)\n",
        "\n",
        "    # Step back through the tree\n",
        "    for j in range(N - 1, -1, -1):\n",
        "        for i in range(0, j + 1):\n",
        "            S[j, i] = S_ini * (u ** i) * (d ** (j - i))\n",
        "            C[j, i] = np.exp(-r * dt) * (p * C[j + 1, i + 1] + (1 - p) * C[j + 1, i])\n",
        "            if opttype == \"P\":\n",
        "                C[j, i] = max(C[j, i], K - S[j, i])\n",
        "            else:\n",
        "                C[j, i] = max(C[j, i], S[j, i] - K)\n",
        "            if j > 0:\n",
        "                Delta[j, i] = (C[j + 1, i + 1] - C[j + 1, i]) / (S[j + 1, i + 1] - S[j + 1, i])\n",
        "\n",
        "    return C[0, 0], C, S, Delta\n",
        "\n",
        "# Given parameters\n",
        "S_ini = 36\n",
        "K = 31\n",
        "T = 5\n",
        "r = 0\n",
        "u = 1.5\n",
        "d = 1/u\n",
        "N = 5\n",
        "opttype = \"C\"\n",
        "\n",
        "# Compute the option price and delta\n",
        "option_price, C, S, Delta = american_option(S_ini, K, T, r, u, d, N, opttype)\n",
        "\n",
        "print(\"Option Price at t=0: \", \"{:.2f}\".format(option_price))\n",
        "print(\"Underlying Price Evolution:\\n\", S)\n",
        "print(\"Option Payoff:\\n\", C)\n",
        "print(\"Delta Values:\\n\", Delta)\n"
      ],
      "metadata": {
        "colab": {
          "base_uri": "https://localhost:8080/"
        },
        "id": "0SHEkL3-jJfN",
        "outputId": "be82e964-291b-4aca-971c-44be0c7429e3"
      },
      "execution_count": 34,
      "outputs": [
        {
          "output_type": "stream",
          "name": "stdout",
          "text": [
            "Option Price at t=0:  14.73\n",
            "Underlying Price Evolution:\n",
            " [[ 36.           0.           0.           0.           0.\n",
            "    0.        ]\n",
            " [ 24.          54.           0.           0.           0.\n",
            "    0.        ]\n",
            " [ 16.          36.          81.           0.           0.\n",
            "    0.        ]\n",
            " [ 10.66666667  24.          54.         121.5          0.\n",
            "    0.        ]\n",
            " [  7.11111111  16.          36.          81.         182.25\n",
            "    0.        ]\n",
            " [  4.74074074  10.66666667  24.          54.         121.5\n",
            "  273.375     ]]\n",
            "Option Payoff:\n",
            " [[ 14.73152   0.        0.        0.        0.        0.     ]\n",
            " [  5.8496   28.0544    0.        0.        0.        0.     ]\n",
            " [  1.472    12.416    51.512     0.        0.        0.     ]\n",
            " [  0.        3.68     25.52     90.5       0.        0.     ]\n",
            " [  0.        0.        9.2      50.      151.25      0.     ]\n",
            " [  0.        0.        0.       23.       90.5     242.375  ]]\n",
            "Delta Values:\n",
            " [[0.         0.         0.         0.         0.        ]\n",
            " [0.5472     0.8688     0.         0.         0.        ]\n",
            " [0.276      0.728      0.96266667 0.         0.        ]\n",
            " [0.         0.46       0.90666667 1.         0.        ]\n",
            " [0.         0.         0.76666667 1.         1.        ]]\n"
          ]
        }
      ]
    },
    {
      "cell_type": "code",
      "source": [
        "\n",
        "# The specific Delta^u_1\n",
        "Delta_u_1 = Delta[0, 1]\n",
        "print(\"Delta^u_1: \", Delta_u_1)\n"
      ],
      "metadata": {
        "colab": {
          "base_uri": "https://localhost:8080/"
        },
        "id": "dpMbLL_NjLGg",
        "outputId": "556d289c-e5a2-4d09-b783-5e5cb46df1ff"
      },
      "execution_count": 22,
      "outputs": [
        {
          "output_type": "stream",
          "name": "stdout",
          "text": [
            "Delta^u_1:  0.0\n"
          ]
        }
      ]
    },
    {
      "cell_type": "code",
      "source": [
        "def asian_option_mc(S_ini, K, T, r, sigma, N, M):\n",
        "    dt = T / N  # Define time step\n",
        "    u = np.exp(sigma * np.sqrt(dt))  # Define u\n",
        "    d = np.exp(-sigma * np.sqrt(dt))  # Define d\n",
        "    p = (np.exp(r * dt) - d) / (u - d)  # risk neutral probs\n",
        "    Asian = np.zeros([M])  # Asian prices\n",
        "    S = np.zeros([M, N + 1])  # underlying price\n",
        "    S[:, 0] = S_ini\n",
        "\n",
        "    for j in range(0, M):\n",
        "        random = np.random.binomial(1, p, N + 1)\n",
        "        Total = S_ini\n",
        "        for i in range(1, N + 1):\n",
        "            if random[i] == 1:\n",
        "                S[j, i] = S[j, i - 1] * u\n",
        "                Total = Total + S[j, i]\n",
        "            else:\n",
        "                S[j, i] = S[j, i - 1] * d\n",
        "                Total = Total + S[j, i]\n",
        "\n",
        "        Asian[j] = np.exp(-r * T) * max(Total / (N + 1) - K, 0)\n",
        "\n",
        "    return S, Asian"
      ],
      "metadata": {
        "id": "9mZjT--rjSeS"
      },
      "execution_count": 19,
      "outputs": []
    },
    {
      "cell_type": "code",
      "source": [
        "S, Asian = asian_option_mc(100, 90, 1, 0, 0.3, 2500, 10000)"
      ],
      "metadata": {
        "id": "OOpuBbMqpaYz"
      },
      "execution_count": 20,
      "outputs": []
    }
  ]
}