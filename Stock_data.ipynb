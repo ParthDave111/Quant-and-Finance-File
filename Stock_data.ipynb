{
  "nbformat": 4,
  "nbformat_minor": 0,
  "metadata": {
    "colab": {
      "provenance": [],
      "include_colab_link": true
    },
    "kernelspec": {
      "name": "python3",
      "display_name": "Python 3"
    },
    "language_info": {
      "name": "python"
    }
  },
  "cells": [
    {
      "cell_type": "markdown",
      "metadata": {
        "id": "view-in-github",
        "colab_type": "text"
      },
      "source": [
        "<a href=\"https://colab.research.google.com/github/ParthDave111/financial-engineering-/blob/main/Stock_data.ipynb\" target=\"_parent\"><img src=\"https://colab.research.google.com/assets/colab-badge.svg\" alt=\"Open In Colab\"/></a>"
      ]
    },
    {
      "cell_type": "code",
      "source": [
        "!pip install -Uqq arch"
      ],
      "metadata": {
        "id": "0KjDjyW3gLdg",
        "colab": {
          "base_uri": "https://localhost:8080/",
          "height": 0
        },
        "outputId": "e1db8be8-3fdc-4c1e-9fdc-80f0c6279183"
      },
      "execution_count": 1,
      "outputs": [
        {
          "output_type": "stream",
          "name": "stdout",
          "text": [
            "\u001b[2K     \u001b[90m━━━━━━━━━━━━━━━━━━━━━━━━━━━━━━━━━━━━━━━━\u001b[0m \u001b[32m983.4/983.4 kB\u001b[0m \u001b[31m6.9 MB/s\u001b[0m eta \u001b[36m0:00:00\u001b[0m\n",
            "\u001b[?25h"
          ]
        }
      ]
    },
    {
      "cell_type": "code",
      "source": [
        "import yfinance as yf\n",
        "import numpy as np\n",
        "import pandas as pd\n",
        "import statsmodels.api as sm\n",
        "import matplotlib.pyplot as plt\n",
        "from statsmodels.tsa.stattools import adfuller, coint\n",
        "from statsmodels.stats.stattools import durbin_watson\n",
        "from statsmodels.tsa.ardl import UECM\n",
        "from arch.unitroot import ADF\n",
        "from arch.unitroot.cointegration import phillips_ouliaris\n"
      ],
      "metadata": {
        "id": "DoVW4IOIlOPf"
      },
      "execution_count": 2,
      "outputs": []
    },
    {
      "cell_type": "markdown",
      "source": [
        "## Step 1"
      ],
      "metadata": {
        "id": "YkmjA310KGlP"
      }
    },
    {
      "cell_type": "markdown",
      "source": [
        "Synthetic data is used to implement ECM, calibrate and interpret the paramters"
      ],
      "metadata": {
        "id": "-W_ryUvHlUed"
      }
    },
    {
      "cell_type": "code",
      "execution_count": 3,
      "metadata": {
        "colab": {
          "base_uri": "https://localhost:8080/",
          "height": 0
        },
        "id": "8FvwKi1fJd7t",
        "outputId": "a9cae4dd-7c06-478d-a867-c84d4282e5ee"
      },
      "outputs": [
        {
          "output_type": "stream",
          "name": "stdout",
          "text": [
            "ADF Test for Income: 0.6020814791099098\n",
            "ADF Test for Consumption: 0.2882859880761256\n",
            "Cointegration Test p-value: 1.2605631706311226e-18\n",
            "ADF Test for First Difference Income: 1.800687720719554e-17\n",
            "ADF Test for First Difference Consumption: 8.165495307001971e-10\n",
            "                            OLS Regression Results                            \n",
            "==============================================================================\n",
            "Dep. Variable:       diff_consumption   R-squared:                       0.602\n",
            "Model:                            OLS   Adj. R-squared:                  0.593\n",
            "Method:                 Least Squares   F-statistic:                     72.49\n",
            "Date:                Tue, 02 Jul 2024   Prob (F-statistic):           6.52e-20\n",
            "Time:                        20:03:51   Log-Likelihood:                -133.17\n",
            "No. Observations:                  99   AIC:                             272.3\n",
            "Df Residuals:                      96   BIC:                             280.1\n",
            "Df Model:                           2                                         \n",
            "Covariance Type:            nonrobust                                         \n",
            "====================================================================================\n",
            "                       coef    std err          t      P>|t|      [0.025      0.975]\n",
            "------------------------------------------------------------------------------------\n",
            "const               -0.0006      0.095     -0.006      0.995      -0.190       0.189\n",
            "diff_income          0.3494      0.106      3.308      0.001       0.140       0.559\n",
            "lagged_residuals    -1.1142      0.101    -11.018      0.000      -1.315      -0.913\n",
            "==============================================================================\n",
            "Omnibus:                        2.422   Durbin-Watson:                   2.021\n",
            "Prob(Omnibus):                  0.298   Jarque-Bera (JB):                2.256\n",
            "Skew:                           0.368   Prob(JB):                        0.324\n",
            "Kurtosis:                       2.920   Cond. No.                         1.23\n",
            "==============================================================================\n",
            "\n",
            "Notes:\n",
            "[1] Standard Errors assume that the covariance matrix of the errors is correctly specified.\n"
          ]
        }
      ],
      "source": [
        "# Generate synthetic data\n",
        "np.random.seed(42)\n",
        "n = 100\n",
        "time = np.arange(n)\n",
        "income = np.cumsum(np.random.normal(size=n))\n",
        "consumption = 0.5 * income + np.random.normal(size=n)\n",
        "\n",
        "# Convert to pandas DataFrame\n",
        "data = pd.DataFrame({'income': income, 'consumption': consumption})\n",
        "\n",
        "# Test for stationarity\n",
        "adf_income = adfuller(data['income'])\n",
        "adf_consumption = adfuller(data['consumption'])\n",
        "print(f'ADF Test for Income: {adf_income[1]}')\n",
        "print(f'ADF Test for Consumption: {adf_consumption[1]}')\n",
        "\n",
        "# Test for cointegration\n",
        "coint_test = coint(data['consumption'], data['income'])\n",
        "print(f'Cointegration Test p-value: {coint_test[1]}')\n",
        "\n",
        "# Estimate long-run relationship\n",
        "long_run_model = sm.OLS(data['consumption'], sm.add_constant(data['income'])).fit()\n",
        "data['residuals'] = long_run_model.resid\n",
        "\n",
        "# Create lagged variables\n",
        "data['diff_consumption'] = data['consumption'].diff()\n",
        "data['diff_income'] = data['income'].diff()\n",
        "data['lagged_residuals'] = data['residuals'].shift(1)\n",
        "\n",
        "# Drop missing values\n",
        "data = data.dropna()\n",
        "\n",
        "# Test for stationarity for first differences\n",
        "adf_diff_income = adfuller(data['diff_income'])\n",
        "adf_diff_consumption = adfuller(data['diff_consumption'])\n",
        "print(f'ADF Test for First Difference Income: {adf_diff_income[1]}')\n",
        "print(f'ADF Test for First Difference Consumption: {adf_diff_consumption[1]}')\n",
        "\n",
        "# Estimate ECM\n",
        "ecm_model = sm.OLS(data['diff_consumption'], sm.add_constant(data[['diff_income', 'lagged_residuals']])).fit()\n",
        "print(ecm_model.summary())"
      ]
    },
    {
      "cell_type": "markdown",
      "source": [
        "## Step 2"
      ],
      "metadata": {
        "id": "UDhbrUiOc9Fp"
      }
    },
    {
      "cell_type": "markdown",
      "source": [
        "Pepsi (PEP) and Coca-cola (KO) stocks daily data for 10 years are first downloaded using yFinance API. Then they are tested for stationarity and cointegration."
      ],
      "metadata": {
        "id": "BaXUGXwcdADA"
      }
    },
    {
      "cell_type": "code",
      "source": [
        "# Download daily data for PepsiCo (PEP) and Coca-Cola (KO) for the last 10 years\n",
        "start_date = '2014-01-01'\n",
        "end_date = '2024-01-01'\n",
        "pep = yf.download('PEP', start=start_date, end=end_date)['Adj Close']\n",
        "ko = yf.download('KO', start=start_date, end=end_date)['Adj Close']\n"
      ],
      "metadata": {
        "colab": {
          "base_uri": "https://localhost:8080/",
          "height": 0
        },
        "id": "7GA72k_bKJQ6",
        "outputId": "ee8f945e-46a6-46ac-f9ec-888392658484"
      },
      "execution_count": 4,
      "outputs": [
        {
          "output_type": "stream",
          "name": "stderr",
          "text": [
            "[*********************100%%**********************]  1 of 1 completed\n",
            "[*********************100%%**********************]  1 of 1 completed\n"
          ]
        }
      ]
    },
    {
      "cell_type": "code",
      "source": [
        "def adf_test(series, label=''):\n",
        "    result = adfuller(series.dropna())\n",
        "    print(label)\n",
        "    print(f'ADF Statistic: {result[0]}')\n",
        "    print(f'p-value: {result[1]}')"
      ],
      "metadata": {
        "id": "RquUyJmgeJF9"
      },
      "execution_count": 5,
      "outputs": []
    },
    {
      "cell_type": "code",
      "source": [
        "for v, label in zip([pep, ko, pep.diff().dropna(), ko.diff().dropna()], ['PEP', 'KO', 'PEP First Difference', 'KO First Difference']):\n",
        "    adf_test(v, label)\n",
        "    print('===========')"
      ],
      "metadata": {
        "colab": {
          "base_uri": "https://localhost:8080/",
          "height": 0
        },
        "id": "MFjP6_awdUBE",
        "outputId": "68b9200d-8f43-4fe0-d681-958b0ce068a7"
      },
      "execution_count": 6,
      "outputs": [
        {
          "output_type": "stream",
          "name": "stdout",
          "text": [
            "PEP\n",
            "ADF Statistic: -0.7504116662845428\n",
            "p-value: 0.8332562708713712\n",
            "===========\n",
            "KO\n",
            "ADF Statistic: -0.9578149540781579\n",
            "p-value: 0.7683378473168025\n",
            "===========\n",
            "PEP First Difference\n",
            "ADF Statistic: -15.251913097463255\n",
            "p-value: 4.995764591957569e-28\n",
            "===========\n",
            "KO First Difference\n",
            "ADF Statistic: -14.693937493425418\n",
            "p-value: 3.019042239605056e-27\n",
            "===========\n"
          ]
        }
      ]
    },
    {
      "cell_type": "markdown",
      "source": [
        "From the test result above, PEP and KO cannot reject ADF null hyptothesis that it contains unit root, whereas the first differences for both rejected the null hypthesis. Hence PEP and KO are I(1)"
      ],
      "metadata": {
        "id": "fzWkWhqwe64q"
      }
    },
    {
      "cell_type": "code",
      "source": [
        "# cointegration test using statsmodel library\n",
        "coint(pep, ko)"
      ],
      "metadata": {
        "colab": {
          "base_uri": "https://localhost:8080/",
          "height": 0
        },
        "id": "zVLmaQ5w-5j5",
        "outputId": "9f583dd2-9180-499c-ac81-881def0af0fc"
      },
      "execution_count": 7,
      "outputs": [
        {
          "output_type": "execute_result",
          "data": {
            "text/plain": [
              "(-4.189461020769318,\n",
              " 0.003784256641354602,\n",
              " array([-3.90079993, -3.33856054, -3.04613679]))"
            ]
          },
          "metadata": {},
          "execution_count": 7
        }
      ]
    },
    {
      "cell_type": "code",
      "source": [
        "# cointegration test using PO test\n",
        "print(phillips_ouliaris(pep, ko, trend=\"c\", test_type=\"Za\", kernel=\"bartlett\"))"
      ],
      "metadata": {
        "colab": {
          "base_uri": "https://localhost:8080/",
          "height": 0
        },
        "id": "LwYYStVJfcM-",
        "outputId": "6ce91759-16d0-42d2-b49d-5b7f3f53fd0f"
      },
      "execution_count": 8,
      "outputs": [
        {
          "output_type": "stream",
          "name": "stdout",
          "text": [
            "Phillips-Ouliaris Za Cointegration Test\n",
            "Statistic: -37.87095174359033\n",
            "P-value: 0.001321464005745906\n",
            "Null: No Cointegration, Alternative: Cointegration\n",
            "Kernel: Bartlett\n",
            "Bandwidth: 2.6557\n",
            "Trend: c\n",
            "Distribution Order: 3\n"
          ]
        }
      ]
    },
    {
      "cell_type": "markdown",
      "source": [
        "From the PO test, p-value < 0.05 rejects the null hypothesis and shows that these PEP and KO are cointegrated"
      ],
      "metadata": {
        "id": "toYfQ-IHjKw6"
      }
    },
    {
      "cell_type": "markdown",
      "source": [
        "## Step 3"
      ],
      "metadata": {
        "id": "-QmOljgGqCjU"
      }
    },
    {
      "cell_type": "markdown",
      "source": [
        "An ECM model is fitted over PEP and KO. The parameters fitted are then interpreted."
      ],
      "metadata": {
        "id": "WHaflR69qElo"
      }
    },
    {
      "cell_type": "markdown",
      "source": [
        "### Diagram and Diagnosis"
      ],
      "metadata": {
        "id": "B-3oQOCHJM06"
      }
    },
    {
      "cell_type": "code",
      "source": [
        "# PEP and KO Plot from 2014 to 2024\n",
        "plt.plot(pep, linewidth=1, c=\"g\", label=\"PEP\")\n",
        "plt.plot(ko, linewidth=1, c=\"r\", label=\"KO\")\n",
        "plt.xlabel(\"Time\")\n",
        "plt.ylabel(\"PEP & KO\")\n",
        "plt.title('PEP and KO Plot from 2014 to 2024')\n",
        "plt.legend()\n",
        "plt.show()\n"
      ],
      "metadata": {
        "colab": {
          "base_uri": "https://localhost:8080/",
          "height": 472
        },
        "id": "qwrK_3W3i3oh",
        "outputId": "67f3495d-8baa-4ef3-a667-803cfd501666"
      },
      "execution_count": 9,
      "outputs": [
        {
          "output_type": "display_data",
          "data": {
            "text/plain": [
              "<Figure size 640x480 with 1 Axes>"
            ],
            "image/png": "[encoded data removed]"
          },
          "metadata": {}
        }
      ]
    },
    {
      "cell_type": "code",
      "source": [
        "# Differences between PEP and KO from 2014 to 2024\n",
        "plt.plot(pep - ko)\n",
        "plt.xlabel(\"Time\")\n",
        "plt.ylabel(\"PEP - KO\")\n",
        "plt.title('PEP - KO')\n",
        "plt.show()"
      ],
      "metadata": {
        "colab": {
          "base_uri": "https://localhost:8080/",
          "height": 472
        },
        "id": "UuCgbd-NrMVT",
        "outputId": "345a5569-5a73-46f0-e44a-7e8a3b638937"
      },
      "execution_count": 10,
      "outputs": [
        {
          "output_type": "display_data",
          "data": {
            "text/plain": [
              "<Figure size 640x480 with 1 Axes>"
            ],
            "image/png": "[encoded data removed]"
          },
          "metadata": {}
        }
      ]
    },
    {
      "cell_type": "code",
      "source": [
        "# Differences between PEP and KO from 2014 to 2024\n",
        "plt.plot(pep - 3*ko)\n",
        "plt.xlabel(\"Time\")\n",
        "plt.ylabel(\"PEP - KO\")\n",
        "plt.title('PEP - KO')\n",
        "plt.show()"
      ],
      "metadata": {
        "colab": {
          "base_uri": "https://localhost:8080/",
          "height": 472
        },
        "id": "BLnehM_j4uE8",
        "outputId": "87f0ea3a-f611-443c-b7d3-f582748f5c23"
      },
      "execution_count": 11,
      "outputs": [
        {
          "output_type": "display_data",
          "data": {
            "text/plain": [
              "<Figure size 640x480 with 1 Axes>"
            ],
            "image/png": "[encoded data removed]"
          },
          "metadata": {}
        }
      ]
    },
    {
      "cell_type": "markdown",
      "source": [
        "From Figure above, it can be seen that the residual moves in a broad channel"
      ],
      "metadata": {
        "id": "6Tgwm2qtGWFL"
      }
    },
    {
      "cell_type": "code",
      "source": [
        "# ADF test for PEP and KO\n",
        "pep_adf = ADF(pep, trend=\"n\", method=\"bic\")\n",
        "print('PEP test statistics with critical values')\n",
        "print(pep_adf)\n",
        "print(\"PEP\\n\", pep_adf.regression.summary())\n",
        "\n",
        "print('\\n\\n')\n",
        "ko_adf = ADF(ko, trend=\"n\", method=\"bic\")\n",
        "print('KO test statistics with critical values')\n",
        "print(ko_adf)\n",
        "print(\"KO\\n\", ko_adf.regression.summary())"
      ],
      "metadata": {
        "colab": {
          "base_uri": "https://localhost:8080/",
          "height": 0
        },
        "id": "s7D5F0cSr0g0",
        "outputId": "5a51ee19-e709-46aa-d811-9782f94a21ca"
      },
      "execution_count": 13,
      "outputs": [
        {
          "output_type": "stream",
          "name": "stdout",
          "text": [
            "PEP test statistics with critical values\n",
            "   Augmented Dickey-Fuller Results   \n",
            "=====================================\n",
            "Test Statistic                  1.377\n",
            "P-value                         0.957\n",
            "Lags                                9\n",
            "-------------------------------------\n",
            "\n",
            "Trend: No Trend\n",
            "Critical Values: -2.57 (1%), -1.94 (5%), -1.62 (10%)\n",
            "Null Hypothesis: The process contains a unit root.\n",
            "Alternative Hypothesis: The process is weakly stationary.\n",
            "PEP\n",
            "                                  OLS Regression Results                                \n",
            "=======================================================================================\n",
            "Dep. Variable:                      y   R-squared (uncentered):                   0.050\n",
            "Model:                            OLS   Adj. R-squared (uncentered):              0.046\n",
            "Method:                 Least Squares   F-statistic:                              13.04\n",
            "Date:                Tue, 02 Jul 2024   Prob (F-statistic):                    1.65e-22\n",
            "Time:                        20:04:28   Log-Likelihood:                         -4252.7\n",
            "No. Observations:                2506   AIC:                                      8525.\n",
            "Df Residuals:                    2496   BIC:                                      8584.\n",
            "Df Model:                          10                                                  \n",
            "Covariance Type:            nonrobust                                                  \n",
            "==============================================================================\n",
            "                 coef    std err          t      P>|t|      [0.025      0.975]\n",
            "------------------------------------------------------------------------------\n",
            "Level.L1       0.0003      0.000      1.377      0.169      -0.000       0.001\n",
            "Diff.L1       -0.1381      0.020     -6.924      0.000      -0.177      -0.099\n",
            "Diff.L2       -0.0029      0.020     -0.143      0.886      -0.042       0.037\n",
            "Diff.L3       -0.0442      0.020     -2.205      0.028      -0.084      -0.005\n",
            "Diff.L4       -0.0396      0.020     -1.974      0.048      -0.079      -0.000\n",
            "Diff.L5        0.0287      0.020      1.432      0.152      -0.011       0.068\n",
            "Diff.L6       -0.0439      0.020     -2.190      0.029      -0.083      -0.005\n",
            "Diff.L7        0.0937      0.020      4.671      0.000       0.054       0.133\n",
            "Diff.L8    -1.342e-05      0.020     -0.001      0.999      -0.040       0.040\n",
            "Diff.L9        0.0904      0.020      4.527      0.000       0.051       0.130\n",
            "==============================================================================\n",
            "Omnibus:                      806.535   Durbin-Watson:                   1.995\n",
            "Prob(Omnibus):                  0.000   Jarque-Bera (JB):            19050.305\n",
            "Skew:                          -0.969   Prob(JB):                         0.00\n",
            "Kurtosis:                      16.368   Cond. No.                         104.\n",
            "==============================================================================\n",
            "\n",
            "Notes:\n",
            "[1] R² is computed without centering (uncentered) since the model does not contain a constant.\n",
            "[2] Standard Errors assume that the covariance matrix of the errors is correctly specified.\n",
            "\n",
            "\n",
            "\n",
            "KO test statistics with critical values\n",
            "   Augmented Dickey-Fuller Results   \n",
            "=====================================\n",
            "Test Statistic                  0.889\n",
            "P-value                         0.900\n",
            "Lags                                0\n",
            "-------------------------------------\n",
            "\n",
            "Trend: No Trend\n",
            "Critical Values: -2.57 (1%), -1.94 (5%), -1.62 (10%)\n",
            "Null Hypothesis: The process contains a unit root.\n",
            "Alternative Hypothesis: The process is weakly stationary.\n",
            "KO\n",
            "                                  OLS Regression Results                                \n",
            "=======================================================================================\n",
            "Dep. Variable:                      y   R-squared (uncentered):                   0.000\n",
            "Model:                            OLS   Adj. R-squared (uncentered):             -0.000\n",
            "Method:                 Least Squares   F-statistic:                             0.7899\n",
            "Date:                Tue, 02 Jul 2024   Prob (F-statistic):                       0.374\n",
            "Time:                        20:04:28   Log-Likelihood:                         -1795.7\n",
            "No. Observations:                2515   AIC:                                      3593.\n",
            "Df Residuals:                    2514   BIC:                                      3599.\n",
            "Df Model:                           1                                                  \n",
            "Covariance Type:            nonrobust                                                  \n",
            "==============================================================================\n",
            "                 coef    std err          t      P>|t|      [0.025      0.975]\n",
            "------------------------------------------------------------------------------\n",
            "Level.L1       0.0002      0.000      0.889      0.374      -0.000       0.001\n",
            "==============================================================================\n",
            "Omnibus:                      754.096   Durbin-Watson:                   2.053\n",
            "Prob(Omnibus):                  0.000   Jarque-Bera (JB):            13198.197\n",
            "Skew:                          -0.954   Prob(JB):                         0.00\n",
            "Kurtosis:                      14.059   Cond. No.                         1.00\n",
            "==============================================================================\n",
            "\n",
            "Notes:\n",
            "[1] R² is computed without centering (uncentered) since the model does not contain a constant.\n",
            "[2] Standard Errors assume that the covariance matrix of the errors is correctly specified.\n"
          ]
        }
      ]
    },
    {
      "cell_type": "code",
      "source": [
        "# ADF test for first differences of PEP and KO\n",
        "pep_diff_adf = ADF(pep.diff().dropna(), trend=\"n\", method=\"bic\")\n",
        "print('First difference PEP test statistics with critical values')\n",
        "print(pep_diff_adf)\n",
        "print(\"PEP\\n\", pep_diff_adf.regression.summary())\n",
        "\n",
        "print('\\n\\n')\n",
        "ko_diff_adf = ADF(ko.diff().dropna(), trend=\"n\", method=\"bic\")\n",
        "print('First difference KO test statistics with critical values')\n",
        "print(ko_diff_adf)\n",
        "print(\"KO\\n\", ko_diff_adf.regression.summary())"
      ],
      "metadata": {
        "colab": {
          "base_uri": "https://localhost:8080/",
          "height": 0
        },
        "id": "OTeoXhmxsYlL",
        "outputId": "7dd3b925-d2e8-4cc4-d57e-6f594f8108bb"
      },
      "execution_count": 14,
      "outputs": [
        {
          "output_type": "stream",
          "name": "stdout",
          "text": [
            "First difference PEP test statistics with critical values\n",
            "   Augmented Dickey-Fuller Results   \n",
            "=====================================\n",
            "Test Statistic                -15.153\n",
            "P-value                         0.000\n",
            "Lags                                8\n",
            "-------------------------------------\n",
            "\n",
            "Trend: No Trend\n",
            "Critical Values: -2.57 (1%), -1.94 (5%), -1.62 (10%)\n",
            "Null Hypothesis: The process contains a unit root.\n",
            "Alternative Hypothesis: The process is weakly stationary.\n",
            "PEP\n",
            "                                  OLS Regression Results                                \n",
            "=======================================================================================\n",
            "Dep. Variable:                      y   R-squared (uncentered):                   0.587\n",
            "Model:                            OLS   Adj. R-squared (uncentered):              0.585\n",
            "Method:                 Least Squares   F-statistic:                              393.7\n",
            "Date:                Tue, 02 Jul 2024   Prob (F-statistic):                        0.00\n",
            "Time:                        20:04:33   Log-Likelihood:                         -4253.7\n",
            "No. Observations:                2506   AIC:                                      8525.\n",
            "Df Residuals:                    2497   BIC:                                      8578.\n",
            "Df Model:                           9                                                  \n",
            "Covariance Type:            nonrobust                                                  \n",
            "==============================================================================\n",
            "                 coef    std err          t      P>|t|      [0.025      0.975]\n",
            "------------------------------------------------------------------------------\n",
            "Level.L1      -1.0444      0.069    -15.153      0.000      -1.180      -0.909\n",
            "Diff.L1       -0.0925      0.065     -1.422      0.155      -0.220       0.035\n",
            "Diff.L2       -0.0942      0.061     -1.544      0.123      -0.214       0.025\n",
            "Diff.L3       -0.1370      0.056     -2.455      0.014      -0.246      -0.028\n",
            "Diff.L4       -0.1752      0.051     -3.467      0.001      -0.274      -0.076\n",
            "Diff.L5       -0.1451      0.044     -3.270      0.001      -0.232      -0.058\n",
            "Diff.L6       -0.1878      0.038     -4.984      0.000      -0.262      -0.114\n",
            "Diff.L7       -0.0927      0.030     -3.068      0.002      -0.152      -0.033\n",
            "Diff.L8       -0.0915      0.020     -4.585      0.000      -0.131      -0.052\n",
            "==============================================================================\n",
            "Omnibus:                      796.882   Durbin-Watson:                   1.995\n",
            "Prob(Omnibus):                  0.000   Jarque-Bera (JB):            18951.757\n",
            "Skew:                          -0.948   Prob(JB):                         0.00\n",
            "Kurtosis:                      16.338   Cond. No.                         16.3\n",
            "==============================================================================\n",
            "\n",
            "Notes:\n",
            "[1] R² is computed without centering (uncentered) since the model does not contain a constant.\n",
            "[2] Standard Errors assume that the covariance matrix of the errors is correctly specified.\n",
            "\n",
            "\n",
            "\n",
            "First difference KO test statistics with critical values\n",
            "   Augmented Dickey-Fuller Results   \n",
            "=====================================\n",
            "Test Statistic                -22.334\n",
            "P-value                         0.000\n",
            "Lags                                4\n",
            "-------------------------------------\n",
            "\n",
            "Trend: No Trend\n",
            "Critical Values: -2.57 (1%), -1.94 (5%), -1.62 (10%)\n",
            "Null Hypothesis: The process contains a unit root.\n",
            "Alternative Hypothesis: The process is weakly stationary.\n",
            "KO\n",
            "                                  OLS Regression Results                                \n",
            "=======================================================================================\n",
            "Dep. Variable:                      y   R-squared (uncentered):                   0.520\n",
            "Model:                            OLS   Adj. R-squared (uncentered):              0.519\n",
            "Method:                 Least Squares   F-statistic:                              541.9\n",
            "Date:                Tue, 02 Jul 2024   Prob (F-statistic):                        0.00\n",
            "Time:                        20:04:33   Log-Likelihood:                         -1776.7\n",
            "No. Observations:                2510   AIC:                                      3563.\n",
            "Df Residuals:                    2505   BIC:                                      3593.\n",
            "Df Model:                           5                                                  \n",
            "Covariance Type:            nonrobust                                                  \n",
            "==============================================================================\n",
            "                 coef    std err          t      P>|t|      [0.025      0.975]\n",
            "------------------------------------------------------------------------------\n",
            "Level.L1      -1.0298      0.046    -22.334      0.000      -1.120      -0.939\n",
            "Diff.L1        0.0081      0.040      0.201      0.841      -0.071       0.087\n",
            "Diff.L2        0.0361      0.035      1.038      0.299      -0.032       0.104\n",
            "Diff.L3       -0.0071      0.029     -0.248      0.804      -0.063       0.049\n",
            "Diff.L4       -0.0780      0.020     -3.917      0.000      -0.117      -0.039\n",
            "==============================================================================\n",
            "Omnibus:                      784.121   Durbin-Watson:                   1.993\n",
            "Prob(Omnibus):                  0.000   Jarque-Bera (JB):            13524.311\n",
            "Skew:                          -1.018   Prob(JB):                         0.00\n",
            "Kurtosis:                      14.188   Cond. No.                         7.22\n",
            "==============================================================================\n",
            "\n",
            "Notes:\n",
            "[1] R² is computed without centering (uncentered) since the model does not contain a constant.\n",
            "[2] Standard Errors assume that the covariance matrix of the errors is correctly specified.\n"
          ]
        }
      ]
    },
    {
      "cell_type": "markdown",
      "source": [
        "From the ADF test, we can conclude that PEP and KO are I(1)"
      ],
      "metadata": {
        "id": "ys1zfsdIsdMp"
      }
    },
    {
      "cell_type": "code",
      "source": [
        "# Summary table for ADF tests\n",
        "pd.DataFrame({'PEP': [pep_adf.stat, pep_adf.pvalue], 'KO': [ko_adf.stat, ko_adf.pvalue],\n",
        "              'PEP_diff': [pep_diff_adf.stat, pep_diff_adf.pvalue], 'KO_diff': [ko_diff_adf.stat, ko_diff_adf.pvalue]}, index=['Test Statistics', 'P-value'])"
      ],
      "metadata": {
        "colab": {
          "base_uri": "https://localhost:8080/",
          "height": 112
        },
        "id": "rpR-oPBKKmDO",
        "outputId": "77f5458a-2a90-4539-bcdb-dbd927c2a6f9"
      },
      "execution_count": 15,
      "outputs": [
        {
          "output_type": "execute_result",
          "data": {
            "text/plain": [
              "                      PEP        KO      PEP_diff    KO_diff\n",
              "Test Statistics  1.376876  0.888777 -1.515323e+01 -22.333821\n",
              "P-value          0.957419  0.899576  7.785806e-27   0.000000"
            ],
            "text/html": [
              "\n",
              "  <div id=\"df-7d1c4d66-5878-4c5b-8492-dfdbfaf7a39f\" class=\"colab-df-container\">\n",
              "    <div>\n",
              "<style scoped>\n",
              "    .dataframe tbody tr th:only-of-type {\n",
              "        vertical-align: middle;\n",
              "    }\n",
              "\n",
              "    .dataframe tbody tr th {\n",
              "        vertical-align: top;\n",
              "    }\n",
              "\n",
              "    .dataframe thead th {\n",
              "        text-align: right;\n",
              "    }\n",
              "</style>\n",
              "<table border=\"1\" class=\"dataframe\">\n",
              "  <thead>\n",
              "    <tr style=\"text-align: right;\">\n",
              "      <th></th>\n",
              "      <th>PEP</th>\n",
              "      <th>KO</th>\n",
              "      <th>PEP_diff</th>\n",
              "      <th>KO_diff</th>\n",
              "    </tr>\n",
              "  </thead>\n",
              "  <tbody>\n",
              "    <tr>\n",
              "      <th>Test Statistics</th>\n",
              "      <td>1.376876</td>\n",
              "      <td>0.888777</td>\n",
              "      <td>-1.515323e+01</td>\n",
              "      <td>-22.333821</td>\n",
              "    </tr>\n",
              "    <tr>\n",
              "      <th>P-value</th>\n",
              "      <td>0.957419</td>\n",
              "      <td>0.899576</td>\n",
              "      <td>7.785806e-27</td>\n",
              "      <td>0.000000</td>\n",
              "    </tr>\n",
              "  </tbody>\n",
              "</table>\n",
              "</div>\n",
              "    <div class=\"colab-df-buttons\">\n",
              "\n",
              "  <div class=\"colab-df-container\">\n",
              "    <button class=\"colab-df-convert\" onclick=\"convertToInteractive('df-7d1c4d66-5878-4c5b-8492-dfdbfaf7a39f')\"\n",
              "            title=\"Convert this dataframe to an interactive table.\"\n",
              "            style=\"display:none;\">\n",
              "\n",
              "  <svg xmlns=\"http://www.w3.org/2000/svg\" height=\"24px\" viewBox=\"0 -960 960 960\">\n",
              "    <path d=\"M120-120v-720h720v720H120Zm60-500h600v-160H180v160Zm220 220h160v-160H400v160Zm0 220h160v-160H400v160ZM180-400h160v-160H180v160Zm440 0h160v-160H620v160ZM180-180h160v-160H180v160Zm440 0h160v-160H620v160Z\"/>\n",
              "  </svg>\n",
              "    </button>\n",
              "\n",
              "  <style>\n",
              "    .colab-df-container {\n",
              "      display:flex;\n",
              "      gap: 12px;\n",
              "    }\n",
              "\n",
              "    .colab-df-convert {\n",
              "      background-color: #E8F0FE;\n",
              "      border: none;\n",
              "      border-radius: 50%;\n",
              "      cursor: pointer;\n",
              "      display: none;\n",
              "      fill: #1967D2;\n",
              "      height: 32px;\n",
              "      padding: 0 0 0 0;\n",
              "      width: 32px;\n",
              "    }\n",
              "\n",
              "    .colab-df-convert:hover {\n",
              "      background-color: #E2EBFA;\n",
              "      box-shadow: 0px 1px 2px rgba(60, 64, 67, 0.3), 0px 1px 3px 1px rgba(60, 64, 67, 0.15);\n",
              "      fill: #174EA6;\n",
              "    }\n",
              "\n",
              "    .colab-df-buttons div {\n",
              "      margin-bottom: 4px;\n",
              "    }\n",
              "\n",
              "    [theme=dark] .colab-df-convert {\n",
              "      background-color: #3B4455;\n",
              "      fill: #D2E3FC;\n",
              "    }\n",
              "\n",
              "    [theme=dark] .colab-df-convert:hover {\n",
              "      background-color: #434B5C;\n",
              "      box-shadow: 0px 1px 3px 1px rgba(0, 0, 0, 0.15);\n",
              "      filter: drop-shadow(0px 1px 2px rgba(0, 0, 0, 0.3));\n",
              "      fill: #FFFFFF;\n",
              "    }\n",
              "  </style>\n",
              "\n",
              "    <script>\n",
              "      const buttonEl =\n",
              "        document.querySelector('#df-7d1c4d66-5878-4c5b-8492-dfdbfaf7a39f button.colab-df-convert');\n",
              "      buttonEl.style.display =\n",
              "        google.colab.kernel.accessAllowed ? 'block' : 'none';\n",
              "\n",
              "      async function convertToInteractive(key) {\n",
              "        const element = document.querySelector('#df-7d1c4d66-5878-4c5b-8492-dfdbfaf7a39f');\n",
              "        const dataTable =\n",
              "          await google.colab.kernel.invokeFunction('convertToInteractive',\n",
              "                                                    [key], {});\n",
              "        if (!dataTable) return;\n",
              "\n",
              "        const docLinkHtml = 'Like what you see? Visit the ' +\n",
              "          '<a target=\"_blank\" href=https://colab.research.google.com/notebooks/data_table.ipynb>data table notebook</a>'\n",
              "          + ' to learn more about interactive tables.';\n",
              "        element.innerHTML = '';\n",
              "        dataTable['output_type'] = 'display_data';\n",
              "        await google.colab.output.renderOutput(dataTable, element);\n",
              "        const docLink = document.createElement('div');\n",
              "        docLink.innerHTML = docLinkHtml;\n",
              "        element.appendChild(docLink);\n",
              "      }\n",
              "    </script>\n",
              "  </div>\n",
              "\n",
              "\n",
              "<div id=\"df-7c05c85c-1f64-4f92-b9a1-6da74d8edcbf\">\n",
              "  <button class=\"colab-df-quickchart\" onclick=\"quickchart('df-7c05c85c-1f64-4f92-b9a1-6da74d8edcbf')\"\n",
              "            title=\"Suggest charts\"\n",
              "            style=\"display:none;\">\n",
              "\n",
              "<svg xmlns=\"http://www.w3.org/2000/svg\" height=\"24px\"viewBox=\"0 0 24 24\"\n",
              "     width=\"24px\">\n",
              "    <g>\n",
              "        <path d=\"M19 3H5c-1.1 0-2 .9-2 2v14c0 1.1.9 2 2 2h14c1.1 0 2-.9 2-2V5c0-1.1-.9-2-2-2zM9 17H7v-7h2v7zm4 0h-2V7h2v10zm4 0h-2v-4h2v4z\"/>\n",
              "    </g>\n",
              "</svg>\n",
              "  </button>\n",
              "\n",
              "<style>\n",
              "  .colab-df-quickchart {\n",
              "      --bg-color: #E8F0FE;\n",
              "      --fill-color: #1967D2;\n",
              "      --hover-bg-color: #E2EBFA;\n",
              "      --hover-fill-color: #174EA6;\n",
              "      --disabled-fill-color: #AAA;\n",
              "      --disabled-bg-color: #DDD;\n",
              "  }\n",
              "\n",
              "  [theme=dark] .colab-df-quickchart {\n",
              "      --bg-color: #3B4455;\n",
              "      --fill-color: #D2E3FC;\n",
              "      --hover-bg-color: #434B5C;\n",
              "      --hover-fill-color: #FFFFFF;\n",
              "      --disabled-bg-color: #3B4455;\n",
              "      --disabled-fill-color: #666;\n",
              "  }\n",
              "\n",
              "  .colab-df-quickchart {\n",
              "    background-color: var(--bg-color);\n",
              "    border: none;\n",
              "    border-radius: 50%;\n",
              "    cursor: pointer;\n",
              "    display: none;\n",
              "    fill: var(--fill-color);\n",
              "    height: 32px;\n",
              "    padding: 0;\n",
              "    width: 32px;\n",
              "  }\n",
              "\n",
              "  .colab-df-quickchart:hover {\n",
              "    background-color: var(--hover-bg-color);\n",
              "    box-shadow: 0 1px 2px rgba(60, 64, 67, 0.3), 0 1px 3px 1px rgba(60, 64, 67, 0.15);\n",
              "    fill: var(--button-hover-fill-color);\n",
              "  }\n",
              "\n",
              "  .colab-df-quickchart-complete:disabled,\n",
              "  .colab-df-quickchart-complete:disabled:hover {\n",
              "    background-color: var(--disabled-bg-color);\n",
              "    fill: var(--disabled-fill-color);\n",
              "    box-shadow: none;\n",
              "  }\n",
              "\n",
              "  .colab-df-spinner {\n",
              "    border: 2px solid var(--fill-color);\n",
              "    border-color: transparent;\n",
              "    border-bottom-color: var(--fill-color);\n",
              "    animation:\n",
              "      spin 1s steps(1) infinite;\n",
              "  }\n",
              "\n",
              "  @keyframes spin {\n",
              "    0% {\n",
              "      border-color: transparent;\n",
              "      border-bottom-color: var(--fill-color);\n",
              "      border-left-color: var(--fill-color);\n",
              "    }\n",
              "    20% {\n",
              "      border-color: transparent;\n",
              "      border-left-color: var(--fill-color);\n",
              "      border-top-color: var(--fill-color);\n",
              "    }\n",
              "    30% {\n",
              "      border-color: transparent;\n",
              "      border-left-color: var(--fill-color);\n",
              "      border-top-color: var(--fill-color);\n",
              "      border-right-color: var(--fill-color);\n",
              "    }\n",
              "    40% {\n",
              "      border-color: transparent;\n",
              "      border-right-color: var(--fill-color);\n",
              "      border-top-color: var(--fill-color);\n",
              "    }\n",
              "    60% {\n",
              "      border-color: transparent;\n",
              "      border-right-color: var(--fill-color);\n",
              "    }\n",
              "    80% {\n",
              "      border-color: transparent;\n",
              "      border-right-color: var(--fill-color);\n",
              "      border-bottom-color: var(--fill-color);\n",
              "    }\n",
              "    90% {\n",
              "      border-color: transparent;\n",
              "      border-bottom-color: var(--fill-color);\n",
              "    }\n",
              "  }\n",
              "</style>\n",
              "\n",
              "  <script>\n",
              "    async function quickchart(key) {\n",
              "      const quickchartButtonEl =\n",
              "        document.querySelector('#' + key + ' button');\n",
              "      quickchartButtonEl.disabled = true;  // To prevent multiple clicks.\n",
              "      quickchartButtonEl.classList.add('colab-df-spinner');\n",
              "      try {\n",
              "        const charts = await google.colab.kernel.invokeFunction(\n",
              "            'suggestCharts', [key], {});\n",
              "      } catch (error) {\n",
              "        console.error('Error during call to suggestCharts:', error);\n",
              "      }\n",
              "      quickchartButtonEl.classList.remove('colab-df-spinner');\n",
              "      quickchartButtonEl.classList.add('colab-df-quickchart-complete');\n",
              "    }\n",
              "    (() => {\n",
              "      let quickchartButtonEl =\n",
              "        document.querySelector('#df-7c05c85c-1f64-4f92-b9a1-6da74d8edcbf button');\n",
              "      quickchartButtonEl.style.display =\n",
              "        google.colab.kernel.accessAllowed ? 'block' : 'none';\n",
              "    })();\n",
              "  </script>\n",
              "</div>\n",
              "\n",
              "    </div>\n",
              "  </div>\n"
            ],
            "application/vnd.google.colaboratory.intrinsic+json": {
              "type": "dataframe",
              "summary": "{\n  \"name\": \"              'PEP_diff': [pep_diff_adf\",\n  \"rows\": 2,\n  \"fields\": [\n    {\n      \"column\": \"PEP\",\n      \"properties\": {\n        \"dtype\": \"number\",\n        \"std\": 0.2966009870061086,\n        \"min\": 0.9574189150740451,\n        \"max\": 1.37687605351133,\n        \"num_unique_values\": 2,\n        \"samples\": [\n          0.9574189150740451,\n          1.37687605351133\n        ],\n        \"semantic_type\": \"\",\n        \"description\": \"\"\n      }\n    },\n    {\n      \"column\": \"KO\",\n      \"properties\": {\n        \"dtype\": \"number\",\n        \"std\": 0.007635959134449023,\n        \"min\": 0.8887774589568547,\n        \"max\": 0.8995763359265192,\n        \"num_unique_values\": 2,\n        \"samples\": [\n          0.8995763359265192,\n          0.8887774589568547\n        ],\n        \"semantic_type\": \"\",\n        \"description\": \"\"\n      }\n    },\n    {\n      \"column\": \"PEP_diff\",\n      \"properties\": {\n        \"dtype\": \"number\",\n        \"std\": 10.714953478241586,\n        \"min\": -15.15323252912602,\n        \"max\": 7.785806390172526e-27,\n        \"num_unique_values\": 2,\n        \"samples\": [\n          7.785806390172526e-27,\n          -15.15323252912602\n        ],\n        \"semantic_type\": \"\",\n        \"description\": \"\"\n      }\n    },\n    {\n      \"column\": \"KO_diff\",\n      \"properties\": {\n        \"dtype\": \"number\",\n        \"std\": 15.792396532441762,\n        \"min\": -22.333821358552978,\n        \"max\": 0.0,\n        \"num_unique_values\": 2,\n        \"samples\": [\n          0.0,\n          -22.333821358552978\n        ],\n        \"semantic_type\": \"\",\n        \"description\": \"\"\n      }\n    }\n  ]\n}"
            }
          },
          "metadata": {},
          "execution_count": 15
        }
      ]
    },
    {
      "cell_type": "markdown",
      "source": [
        "KPSS Test"
      ],
      "metadata": {
        "id": "4EFMz1GQFvYH"
      }
    },
    {
      "cell_type": "code",
      "source": [
        "!pip install statsmodels\n",
        "import statsmodels.tsa.stattools as ts"
      ],
      "metadata": {
        "colab": {
          "base_uri": "https://localhost:8080/",
          "height": 0
        },
        "id": "R0a1CHbVGgS6",
        "outputId": "ba89d40c-3cc2-4d35-db0b-c7671994cf01"
      },
      "execution_count": 18,
      "outputs": [
        {
          "output_type": "stream",
          "name": "stdout",
          "text": [
            "Requirement already satisfied: statsmodels in /usr/local/lib/python3.10/dist-packages (0.14.2)\n",
            "Requirement already satisfied: numpy>=1.22.3 in /usr/local/lib/python3.10/dist-packages (from statsmodels) (1.25.2)\n",
            "Requirement already satisfied: scipy!=1.9.2,>=1.8 in /usr/local/lib/python3.10/dist-packages (from statsmodels) (1.11.4)\n",
            "Requirement already satisfied: pandas!=2.1.0,>=1.4 in /usr/local/lib/python3.10/dist-packages (from statsmodels) (2.0.3)\n",
            "Requirement already satisfied: patsy>=0.5.6 in /usr/local/lib/python3.10/dist-packages (from statsmodels) (0.5.6)\n",
            "Requirement already satisfied: packaging>=21.3 in /usr/local/lib/python3.10/dist-packages (from statsmodels) (24.1)\n",
            "Requirement already satisfied: python-dateutil>=2.8.2 in /usr/local/lib/python3.10/dist-packages (from pandas!=2.1.0,>=1.4->statsmodels) (2.8.2)\n",
            "Requirement already satisfied: pytz>=2020.1 in /usr/local/lib/python3.10/dist-packages (from pandas!=2.1.0,>=1.4->statsmodels) (2023.4)\n",
            "Requirement already satisfied: tzdata>=2022.1 in /usr/local/lib/python3.10/dist-packages (from pandas!=2.1.0,>=1.4->statsmodels) (2024.1)\n",
            "Requirement already satisfied: six in /usr/local/lib/python3.10/dist-packages (from patsy>=0.5.6->statsmodels) (1.16.0)\n"
          ]
        }
      ]
    },
    {
      "cell_type": "code",
      "source": [
        "def kpss_test(series, title=''):\n",
        "    result = ts.kpss(series, regression='c', nlags=\"auto\")\n",
        "    print(f'KPSS Statistic for {title}: {result[0]}')\n",
        "    print(f'p-value for {title}: {result[1]}')\n",
        "    for key, value in result[3].items():\n",
        "        print('Critical Values:')\n",
        "        print(f'   {key}, {value}')\n",
        "    print('-' * 50)"
      ],
      "metadata": {
        "id": "MAgrdQOtFahK"
      },
      "execution_count": 19,
      "outputs": []
    },
    {
      "cell_type": "code",
      "source": [
        "kpss_test(pep, 'pep')"
      ],
      "metadata": {
        "colab": {
          "base_uri": "https://localhost:8080/",
          "height": 0
        },
        "id": "gQBkQSSrFFAJ",
        "outputId": "75897698-9b22-4f04-f687-1a58d7512552"
      },
      "execution_count": 22,
      "outputs": [
        {
          "output_type": "stream",
          "name": "stdout",
          "text": [
            "KPSS Statistic for pep: 7.790592398322663\n",
            "p-value for pep: 0.01\n",
            "Critical Values:\n",
            "   10%, 0.347\n",
            "Critical Values:\n",
            "   5%, 0.463\n",
            "Critical Values:\n",
            "   2.5%, 0.574\n",
            "Critical Values:\n",
            "   1%, 0.739\n",
            "--------------------------------------------------\n"
          ]
        },
        {
          "output_type": "stream",
          "name": "stderr",
          "text": [
            "<ipython-input-19-39d4b311126b>:2: InterpolationWarning: The test statistic is outside of the range of p-values available in the\n",
            "look-up table. The actual p-value is smaller than the p-value returned.\n",
            "\n",
            "  result = ts.kpss(series, regression='c', nlags=\"auto\")\n"
          ]
        }
      ]
    },
    {
      "cell_type": "code",
      "source": [
        "kpss_test(ko, 'ko')"
      ],
      "metadata": {
        "colab": {
          "base_uri": "https://localhost:8080/",
          "height": 0
        },
        "id": "FAwyE6CRHQhP",
        "outputId": "9ce5ac87-dfca-4c92-be28-f7a1d086164c"
      },
      "execution_count": 23,
      "outputs": [
        {
          "output_type": "stream",
          "name": "stdout",
          "text": [
            "KPSS Statistic for ko: 7.661834964899854\n",
            "p-value for ko: 0.01\n",
            "Critical Values:\n",
            "   10%, 0.347\n",
            "Critical Values:\n",
            "   5%, 0.463\n",
            "Critical Values:\n",
            "   2.5%, 0.574\n",
            "Critical Values:\n",
            "   1%, 0.739\n",
            "--------------------------------------------------\n"
          ]
        },
        {
          "output_type": "stream",
          "name": "stderr",
          "text": [
            "<ipython-input-19-39d4b311126b>:2: InterpolationWarning: The test statistic is outside of the range of p-values available in the\n",
            "look-up table. The actual p-value is smaller than the p-value returned.\n",
            "\n",
            "  result = ts.kpss(series, regression='c', nlags=\"auto\")\n"
          ]
        }
      ]
    },
    {
      "cell_type": "code",
      "source": [
        "# PO test for PEP and KO\n",
        "print(phillips_ouliaris(pep, ko, trend=\"c\", test_type=\"Za\", kernel=\"bartlett\"))"
      ],
      "metadata": {
        "colab": {
          "base_uri": "https://localhost:8080/"
        },
        "id": "-llPcbkhsbCL",
        "outputId": "a677c2a7-370f-409e-b53f-c74d0c94ca41"
      },
      "execution_count": null,
      "outputs": [
        {
          "output_type": "stream",
          "name": "stdout",
          "text": [
            "Phillips-Ouliaris Za Cointegration Test\n",
            "Statistic: -37.87094360877601\n",
            "P-value: 0.0013214660202540904\n",
            "Null: No Cointegration, Alternative: Cointegration\n",
            "Kernel: Bartlett\n",
            "Bandwidth: 2.6557\n",
            "Trend: c\n",
            "Distribution Order: 3\n"
          ]
        }
      ]
    },
    {
      "cell_type": "markdown",
      "source": [
        "From the PO test, we can conclude that PEP and KO are cointegrated."
      ],
      "metadata": {
        "id": "P2-XVWArsmHs"
      }
    },
    {
      "cell_type": "markdown",
      "source": [
        "### Demonstration"
      ],
      "metadata": {
        "id": "euWJV_ylJSag"
      }
    },
    {
      "cell_type": "code",
      "source": [
        "# Implement ECM\n",
        "ecm_model = UECM(\n",
        "    endog=pd.DataFrame(pep).rename(columns={pep.name: \"PEP\"}),\n",
        "    lags=1,\n",
        "    exog=pd.DataFrame(ko).rename(columns={pep.name: \"KO\"}),\n",
        "    order=1,\n",
        "    trend=\"c\",\n",
        ").fit()\n",
        "print(ecm_model.summary())"
      ],
      "metadata": {
        "colab": {
          "base_uri": "https://localhost:8080/"
        },
        "id": "KFEHnGklslP8",
        "outputId": "1f667b6c-500b-4810-fd25-c063ba31ac75"
      },
      "execution_count": null,
      "outputs": [
        {
          "output_type": "stream",
          "name": "stdout",
          "text": [
            "                              UECM Model Results                              \n",
            "==============================================================================\n",
            "Dep. Variable:                  D.PEP   No. Observations:                 2516\n",
            "Model:                     UECM(1, 1)   Log Likelihood               -3248.405\n",
            "Method:               Conditional MLE   S.D. of innovations            116.651\n",
            "Date:                Tue, 02 Jul 2024   AIC                           6506.810\n",
            "Time:                        09:54:36   BIC                           6535.960\n",
            "Sample:                             1   HQIC                          6517.389\n",
            "                                 2516                                         \n",
            "==============================================================================\n",
            "                 coef    std err          z      P>|z|      [0.025      0.975]\n",
            "------------------------------------------------------------------------------\n",
            "const         -0.2438      0.116     -2.104      0.036      -0.471      -0.017\n",
            "PEP.L1        -0.0086      0.003     -3.132      0.002      -0.014      -0.003\n",
            "KO.L1          0.0290      0.010      3.043      0.002       0.010       0.048\n",
            "D.KO.L0        2.0800      0.036     58.365      0.000       2.010       2.150\n",
            "==============================================================================\n"
          ]
        },
        {
          "output_type": "stream",
          "name": "stderr",
          "text": [
            "/usr/local/lib/python3.10/dist-packages/statsmodels/tsa/base/tsa_model.py:473: ValueWarning: A date index has been provided, but it has no associated frequency information and so will be ignored when e.g. forecasting.\n",
            "  self._init_dates(dates, freq)\n"
          ]
        }
      ]
    },
    {
      "cell_type": "markdown",
      "source": [
        "Based on the model result, all the model parameters are statistically significant (p-value < 0.05)."
      ],
      "metadata": {
        "id": "4MGkI0YbG_gy"
      }
    },
    {
      "cell_type": "code",
      "source": [
        "# Durbin-Watson Test Result for ECM of AUDUSD and NZDUSD\n",
        "print(f'DW test: {durbin_watson(ecm_model.fittedvalues)}')"
      ],
      "metadata": {
        "colab": {
          "base_uri": "https://localhost:8080/"
        },
        "id": "EQQaaXjps2wZ",
        "outputId": "4aba52ab-5828-4cb0-cb5c-8ec0b7fcee7d"
      },
      "execution_count": null,
      "outputs": [
        {
          "output_type": "stream",
          "name": "stdout",
          "text": [
            "DW test: 2.0467530803134673\n"
          ]
        }
      ]
    },
    {
      "cell_type": "markdown",
      "source": [
        "Durbin-Watson test that are close to 2 shows that there are no serial correlations between the residuals, which is required for ECM"
      ],
      "metadata": {
        "id": "GAIhjOQhJWqN"
      }
    },
    {
      "cell_type": "code",
      "source": [
        "fig = plt.figure(figsize=(12, 8))\n",
        "sm.qqplot(ecm_model.resid, line='s')\n",
        "plt.title('QQ Plot of the Residuals')\n",
        "plt.show()"
      ],
      "metadata": {
        "colab": {
          "base_uri": "https://localhost:8080/",
          "height": 490
        },
        "id": "0i0_Fudcg5LO",
        "outputId": "fcf0e2a1-2de2-4eb1-f074-effc036ea6ef"
      },
      "execution_count": null,
      "outputs": [
        {
          "output_type": "display_data",
          "data": {
            "text/plain": [
              "<Figure size 1200x800 with 0 Axes>"
            ]
          },
          "metadata": {}
        },
        {
          "output_type": "display_data",
          "data": {
            "text/plain": [
              "<Figure size 640x480 with 1 Axes>"
            ],
            "image/png": "[encoded data removed]"
          },
          "metadata": {}
        }
      ]
    },
    {
      "cell_type": "code",
      "source": [],
      "metadata": {
        "id": "nmNudC733acJ"
      },
      "execution_count": null,
      "outputs": []
    }
  ]
}