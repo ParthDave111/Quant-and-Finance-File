{
  "nbformat": 4,
  "nbformat_minor": 0,
  "metadata": {
    "colab": {
      "provenance": [],
      "authorship_tag": "ABX9TyMe+frBVmDyodvLEhK2fdX3",
      "include_colab_link": true
    },
    "kernelspec": {
      "name": "python3",
      "display_name": "Python 3"
    },
    "language_info": {
      "name": "python"
    }
  },
  "cells": [
    {
      "cell_type": "markdown",
      "metadata": {
        "id": "view-in-github",
        "colab_type": "text"
      },
      "source": [
        "<a href=\"https://colab.research.google.com/github/ParthDave111/Quant-and-Finance-File/blob/main/yfinance_1.ipynb\" target=\"_parent\"><img src=\"https://colab.research.google.com/assets/colab-badge.svg\" alt=\"Open In Colab\"/></a>"
      ]
    },
    {
      "cell_type": "code",
      "execution_count": null,
      "metadata": {
        "colab": {
          "base_uri": "https://localhost:8080/"
        },
        "id": "0hes-sOKOS8s",
        "outputId": "b9420170-f20d-4f2e-a0d7-d9b671761f56"
      },
      "outputs": [
        {
          "output_type": "stream",
          "name": "stdout",
          "text": [
            "Requirement already satisfied: yfinance in /usr/local/lib/python3.10/dist-packages (0.2.36)\n",
            "Requirement already satisfied: pandas>=1.3.0 in /usr/local/lib/python3.10/dist-packages (from yfinance) (1.5.3)\n",
            "Requirement already satisfied: numpy>=1.16.5 in /usr/local/lib/python3.10/dist-packages (from yfinance) (1.25.2)\n",
            "Requirement already satisfied: requests>=2.31 in /usr/local/lib/python3.10/dist-packages (from yfinance) (2.31.0)\n",
            "Requirement already satisfied: multitasking>=0.0.7 in /usr/local/lib/python3.10/dist-packages (from yfinance) (0.0.11)\n",
            "Requirement already satisfied: lxml>=4.9.1 in /usr/local/lib/python3.10/dist-packages (from yfinance) (4.9.4)\n",
            "Requirement already satisfied: appdirs>=1.4.4 in /usr/local/lib/python3.10/dist-packages (from yfinance) (1.4.4)\n",
            "Requirement already satisfied: pytz>=2022.5 in /usr/local/lib/python3.10/dist-packages (from yfinance) (2023.4)\n",
            "Requirement already satisfied: frozendict>=2.3.4 in /usr/local/lib/python3.10/dist-packages (from yfinance) (2.4.0)\n",
            "Requirement already satisfied: peewee>=3.16.2 in /usr/local/lib/python3.10/dist-packages (from yfinance) (3.17.1)\n",
            "Requirement already satisfied: beautifulsoup4>=4.11.1 in /usr/local/lib/python3.10/dist-packages (from yfinance) (4.12.3)\n",
            "Requirement already satisfied: html5lib>=1.1 in /usr/local/lib/python3.10/dist-packages (from yfinance) (1.1)\n",
            "Requirement already satisfied: soupsieve>1.2 in /usr/local/lib/python3.10/dist-packages (from beautifulsoup4>=4.11.1->yfinance) (2.5)\n",
            "Requirement already satisfied: six>=1.9 in /usr/local/lib/python3.10/dist-packages (from html5lib>=1.1->yfinance) (1.16.0)\n",
            "Requirement already satisfied: webencodings in /usr/local/lib/python3.10/dist-packages (from html5lib>=1.1->yfinance) (0.5.1)\n",
            "Requirement already satisfied: python-dateutil>=2.8.1 in /usr/local/lib/python3.10/dist-packages (from pandas>=1.3.0->yfinance) (2.8.2)\n",
            "Requirement already satisfied: charset-normalizer<4,>=2 in /usr/local/lib/python3.10/dist-packages (from requests>=2.31->yfinance) (3.3.2)\n",
            "Requirement already satisfied: idna<4,>=2.5 in /usr/local/lib/python3.10/dist-packages (from requests>=2.31->yfinance) (3.6)\n",
            "Requirement already satisfied: urllib3<3,>=1.21.1 in /usr/local/lib/python3.10/dist-packages (from requests>=2.31->yfinance) (2.0.7)\n",
            "Requirement already satisfied: certifi>=2017.4.17 in /usr/local/lib/python3.10/dist-packages (from requests>=2.31->yfinance) (2024.2.2)\n"
          ]
        }
      ],
      "source": [
        "pip install yfinance"
      ]
    },
    {
      "cell_type": "code",
      "source": [
        "import yfinance as yf"
      ],
      "metadata": {
        "colab": {
          "base_uri": "https://localhost:8080/"
        },
        "id": "sPAEKM2oOYQ0",
        "outputId": "522f5d06-4624-46be-a8a0-facb8623ebea"
      },
      "execution_count": null,
      "outputs": [
        {
          "output_type": "stream",
          "name": "stderr",
          "text": [
            "/usr/local/lib/python3.10/dist-packages/yfinance/base.py:48: FutureWarning: The default dtype for empty Series will be 'object' instead of 'float64' in a future version. Specify a dtype explicitly to silence this warning.\n",
            "  _empty_series = pd.Series()\n"
          ]
        }
      ]
    },
    {
      "cell_type": "code",
      "source": [
        "import pandas as pd"
      ],
      "metadata": {
        "id": "rEhEm4ptOZ7s"
      },
      "execution_count": null,
      "outputs": []
    },
    {
      "cell_type": "code",
      "source": [
        "import numpy as np"
      ],
      "metadata": {
        "id": "i727lennOcXV"
      },
      "execution_count": null,
      "outputs": []
    },
    {
      "cell_type": "markdown",
      "source": [
        "## 1. McDonalads Corporation (MCD)\n"
      ],
      "metadata": {
        "id": "uJrG3C-laMMY"
      }
    },
    {
      "cell_type": "code",
      "source": [
        "ticker_symbol ='MCD'"
      ],
      "metadata": {
        "id": "OU8wn9BPOeL8"
      },
      "execution_count": null,
      "outputs": []
    },
    {
      "cell_type": "code",
      "source": [
        "stock_data = yf.Ticker(ticker_symbol)"
      ],
      "metadata": {
        "id": "HYI4MyEXTJbh"
      },
      "execution_count": null,
      "outputs": []
    },
    {
      "cell_type": "code",
      "source": [
        "historical_data = stock_data.history(period=\"2Y\")"
      ],
      "metadata": {
        "id": "AkCLGWSeTJUL"
      },
      "execution_count": null,
      "outputs": []
    },
    {
      "cell_type": "code",
      "source": [
        "print(historical_data)"
      ],
      "metadata": {
        "colab": {
          "base_uri": "https://localhost:8080/"
        },
        "id": "OURQ08TzTRdI",
        "outputId": "86617c39-0a17-4c27-9f16-0a2c0efd65ba"
      },
      "execution_count": null,
      "outputs": [
        {
          "output_type": "stream",
          "name": "stdout",
          "text": [
            "                                 Open        High         Low       Close  \\\n",
            "Date                                                                        \n",
            "2022-02-14 00:00:00-05:00  244.762697  245.087883  240.716943  242.352463   \n",
            "2022-02-15 00:00:00-05:00  243.720211  245.728742  242.515086  242.754196   \n",
            "2022-02-16 00:00:00-05:00  242.715924  243.509771  240.257864  242.065536   \n",
            "2022-02-17 00:00:00-05:00  240.525664  241.864689  239.110136  239.999619   \n",
            "2022-02-18 00:00:00-05:00  239.435322  241.300378  239.119695  239.684006   \n",
            "...                               ...         ...         ...         ...   \n",
            "2024-02-07 00:00:00-05:00  285.049988  290.529999  284.109985  287.329987   \n",
            "2024-02-08 00:00:00-05:00  286.200012  293.149994  284.200012  291.929993   \n",
            "2024-02-09 00:00:00-05:00  292.149994  292.510010  288.920013  289.470001   \n",
            "2024-02-12 00:00:00-05:00  289.000000  291.190002  288.760010  289.440002   \n",
            "2024-02-13 00:00:00-05:00  288.630005  289.899994  285.670013  287.119995   \n",
            "\n",
            "                            Volume  Dividends  Stock Splits  \n",
            "Date                                                         \n",
            "2022-02-14 00:00:00-05:00  2825800        0.0           0.0  \n",
            "2022-02-15 00:00:00-05:00  2171500        0.0           0.0  \n",
            "2022-02-16 00:00:00-05:00  2941800        0.0           0.0  \n",
            "2022-02-17 00:00:00-05:00  2831900        0.0           0.0  \n",
            "2022-02-18 00:00:00-05:00  2813500        0.0           0.0  \n",
            "...                            ...        ...           ...  \n",
            "2024-02-07 00:00:00-05:00  3954700        0.0           0.0  \n",
            "2024-02-08 00:00:00-05:00  4605000        0.0           0.0  \n",
            "2024-02-09 00:00:00-05:00  3322100        0.0           0.0  \n",
            "2024-02-12 00:00:00-05:00  2392300        0.0           0.0  \n",
            "2024-02-13 00:00:00-05:00  1809701        0.0           0.0  \n",
            "\n",
            "[502 rows x 7 columns]\n"
          ]
        }
      ]
    },
    {
      "cell_type": "code",
      "source": [
        "historical_data['Daily_Return'] = historical_data['Close'].pct_change()"
      ],
      "metadata": {
        "id": "8bAWbwmsTRbH"
      },
      "execution_count": null,
      "outputs": []
    },
    {
      "cell_type": "code",
      "source": [
        "print(historical_data)"
      ],
      "metadata": {
        "colab": {
          "base_uri": "https://localhost:8080/"
        },
        "id": "ChiLvErDTRZj",
        "outputId": "b13b0700-de0f-4d7c-db4d-593ef7468ea7"
      },
      "execution_count": null,
      "outputs": [
        {
          "output_type": "stream",
          "name": "stdout",
          "text": [
            "                                 Open        High         Low       Close  \\\n",
            "Date                                                                        \n",
            "2022-02-14 00:00:00-05:00  244.762697  245.087883  240.716943  242.352463   \n",
            "2022-02-15 00:00:00-05:00  243.720211  245.728742  242.515086  242.754196   \n",
            "2022-02-16 00:00:00-05:00  242.715924  243.509771  240.257864  242.065536   \n",
            "2022-02-17 00:00:00-05:00  240.525664  241.864689  239.110136  239.999619   \n",
            "2022-02-18 00:00:00-05:00  239.435322  241.300378  239.119695  239.684006   \n",
            "...                               ...         ...         ...         ...   \n",
            "2024-02-07 00:00:00-05:00  285.049988  290.529999  284.109985  287.329987   \n",
            "2024-02-08 00:00:00-05:00  286.200012  293.149994  284.200012  291.929993   \n",
            "2024-02-09 00:00:00-05:00  292.149994  292.510010  288.920013  289.470001   \n",
            "2024-02-12 00:00:00-05:00  289.000000  291.190002  288.760010  289.440002   \n",
            "2024-02-13 00:00:00-05:00  288.630005  289.899994  285.670013  287.119995   \n",
            "\n",
            "                            Volume  Dividends  Stock Splits  Daily_Return  \n",
            "Date                                                                       \n",
            "2022-02-14 00:00:00-05:00  2825800        0.0           0.0           NaN  \n",
            "2022-02-15 00:00:00-05:00  2171500        0.0           0.0      0.001658  \n",
            "2022-02-16 00:00:00-05:00  2941800        0.0           0.0     -0.002837  \n",
            "2022-02-17 00:00:00-05:00  2831900        0.0           0.0     -0.008535  \n",
            "2022-02-18 00:00:00-05:00  2813500        0.0           0.0     -0.001315  \n",
            "...                            ...        ...           ...           ...  \n",
            "2024-02-07 00:00:00-05:00  3954700        0.0           0.0      0.009415  \n",
            "2024-02-08 00:00:00-05:00  4605000        0.0           0.0      0.016009  \n",
            "2024-02-09 00:00:00-05:00  3322100        0.0           0.0     -0.008427  \n",
            "2024-02-12 00:00:00-05:00  2392300        0.0           0.0     -0.000104  \n",
            "2024-02-13 00:00:00-05:00  1809701        0.0           0.0     -0.008016  \n",
            "\n",
            "[502 rows x 8 columns]\n"
          ]
        }
      ]
    },
    {
      "cell_type": "markdown",
      "source": [
        "Finding Average return (Mean Function)\n",
        "1. Daily Average Return\n"
      ],
      "metadata": {
        "id": "dcVeG3gaUPEY"
      }
    },
    {
      "cell_type": "code",
      "source": [
        "mean_daily_return = historical_data['Daily_Return'].mean()"
      ],
      "metadata": {
        "id": "kHghy0RjTRUZ"
      },
      "execution_count": null,
      "outputs": []
    },
    {
      "cell_type": "code",
      "source": [
        "round_mean =round(mean_daily_return,4)"
      ],
      "metadata": {
        "id": "OF7tuX0DcQgr"
      },
      "execution_count": null,
      "outputs": []
    },
    {
      "cell_type": "code",
      "source": [
        "print(f\"Mean daily return: {mean_daily_return}\")"
      ],
      "metadata": {
        "colab": {
          "base_uri": "https://localhost:8080/"
        },
        "id": "M-7waBgSYLhl",
        "outputId": "b0356853-125f-49f8-9c92-08222f4725d1"
      },
      "execution_count": null,
      "outputs": [
        {
          "output_type": "stream",
          "name": "stdout",
          "text": [
            "Mean daily return: 0.00039788505043821996\n"
          ]
        }
      ]
    },
    {
      "cell_type": "code",
      "source": [
        "print(round_mean)"
      ],
      "metadata": {
        "colab": {
          "base_uri": "https://localhost:8080/"
        },
        "id": "UvdTk4N-cYTH",
        "outputId": "52d4827c-afe8-4132-a1c1-905f466e63d9"
      },
      "execution_count": null,
      "outputs": [
        {
          "output_type": "stream",
          "name": "stdout",
          "text": [
            "0.0004\n"
          ]
        }
      ]
    },
    {
      "cell_type": "markdown",
      "source": [
        "2 Standard Deviation"
      ],
      "metadata": {
        "id": "cw3EqrieYj93"
      }
    },
    {
      "cell_type": "code",
      "source": [
        "std_daily_return = historical_data['Daily_Return'].std()"
      ],
      "metadata": {
        "id": "KWdxeW9WYnuv"
      },
      "execution_count": null,
      "outputs": []
    },
    {
      "cell_type": "code",
      "source": [
        "round_std = round(std_daily_return,4)"
      ],
      "metadata": {
        "id": "u7OPR_N9b1nQ"
      },
      "execution_count": null,
      "outputs": []
    },
    {
      "cell_type": "code",
      "source": [
        "print(f\"Standard deviation of daily return: {std_daily_return}\")"
      ],
      "metadata": {
        "colab": {
          "base_uri": "https://localhost:8080/"
        },
        "id": "N1iUTeedYsQA",
        "outputId": "503c2565-56dc-469d-a886-52590046dbbf"
      },
      "execution_count": null,
      "outputs": [
        {
          "output_type": "stream",
          "name": "stdout",
          "text": [
            "Standard deviation of daily return: 0.010917187526915772\n"
          ]
        }
      ]
    },
    {
      "cell_type": "code",
      "source": [
        "print(round_std)"
      ],
      "metadata": {
        "colab": {
          "base_uri": "https://localhost:8080/"
        },
        "id": "fS-JZqQtb785",
        "outputId": "8ab56ba7-8694-4388-9b04-07c56c9c9936"
      },
      "execution_count": null,
      "outputs": [
        {
          "output_type": "stream",
          "name": "stdout",
          "text": [
            "0.0109\n"
          ]
        }
      ]
    },
    {
      "cell_type": "markdown",
      "source": [
        "3 Skewness"
      ],
      "metadata": {
        "id": "52ORgSHpYvBo"
      }
    },
    {
      "cell_type": "code",
      "source": [
        "skewness_daily_return = historical_data['Daily_Return'].skew()"
      ],
      "metadata": {
        "id": "lIjRQ--bYwY4"
      },
      "execution_count": null,
      "outputs": []
    },
    {
      "cell_type": "code",
      "source": [
        "rounded_skewness= round(skewness_daily_return,4)"
      ],
      "metadata": {
        "id": "MfMd7J4nbOO7"
      },
      "execution_count": null,
      "outputs": []
    },
    {
      "cell_type": "code",
      "source": [
        "print(rounded_skewness)"
      ],
      "metadata": {
        "colab": {
          "base_uri": "https://localhost:8080/"
        },
        "id": "4-M_bAMobb1G",
        "outputId": "76e9b42c-31de-480d-e97e-6e4fdcae0f33"
      },
      "execution_count": null,
      "outputs": [
        {
          "output_type": "stream",
          "name": "stdout",
          "text": [
            "-0.0588\n"
          ]
        }
      ]
    },
    {
      "cell_type": "code",
      "source": [
        "print(f\"Skewness of daily return: {skewness_daily_return}\")"
      ],
      "metadata": {
        "colab": {
          "base_uri": "https://localhost:8080/"
        },
        "id": "54t48wsMYuF4",
        "outputId": "e52b4388-fe5a-4a30-af7b-9b2a7e61a0ec"
      },
      "execution_count": null,
      "outputs": [
        {
          "output_type": "stream",
          "name": "stdout",
          "text": [
            "Skewness of daily return: -0.05877198697777911\n"
          ]
        }
      ]
    },
    {
      "cell_type": "code",
      "source": [
        "print(f\"Skewness of daily return: {rounded_skewness}\")"
      ],
      "metadata": {
        "colab": {
          "base_uri": "https://localhost:8080/"
        },
        "id": "3vJl9reWbUi0",
        "outputId": "192f5989-c261-4575-8529-a0fbc5131993"
      },
      "execution_count": null,
      "outputs": [
        {
          "output_type": "stream",
          "name": "stdout",
          "text": [
            "Skewness of daily return: -0.0588\n"
          ]
        }
      ]
    },
    {
      "cell_type": "markdown",
      "source": [
        "4 KURTOSIS"
      ],
      "metadata": {
        "id": "WBHTJO7TY5Ih"
      }
    },
    {
      "cell_type": "code",
      "source": [
        "kurtosis_daily_return = historical_data['Daily_Return'].kurtosis()"
      ],
      "metadata": {
        "id": "5fJ7REKQZ_K1"
      },
      "execution_count": null,
      "outputs": []
    },
    {
      "cell_type": "code",
      "source": [
        "rounded_kurtosis =round(kurtosis_daily_return, 4)"
      ],
      "metadata": {
        "id": "KkQ2IarFa6zI"
      },
      "execution_count": null,
      "outputs": []
    },
    {
      "cell_type": "code",
      "source": [
        "print(f\"Kurtosis of daily return: {kurtosis_daily_return}\")"
      ],
      "metadata": {
        "colab": {
          "base_uri": "https://localhost:8080/"
        },
        "id": "3lSLU1ETY3pq",
        "outputId": "777d8482-3be7-4395-a37a-372204e525b3"
      },
      "execution_count": null,
      "outputs": [
        {
          "output_type": "stream",
          "name": "stdout",
          "text": [
            "Kurtosis of daily return: 1.7608414142057813 4\n"
          ]
        }
      ]
    },
    {
      "cell_type": "code",
      "source": [
        "print(f\"Kurtosis of daily return: {rounded_kurtosis}\")"
      ],
      "metadata": {
        "colab": {
          "base_uri": "https://localhost:8080/"
        },
        "id": "TICbJVYJbEOJ",
        "outputId": "1574182e-a928-4833-9bd4-03fe61ed7362"
      },
      "execution_count": null,
      "outputs": [
        {
          "output_type": "stream",
          "name": "stdout",
          "text": [
            "Kurtosis of daily return: 1.7608\n"
          ]
        }
      ]
    },
    {
      "cell_type": "markdown",
      "source": [
        "##2.Exxon Mobil (XOM)"
      ],
      "metadata": {
        "id": "RkZbzvWLcmzU"
      }
    },
    {
      "cell_type": "code",
      "source": [
        "ticker_symbol_2 ='XOM'"
      ],
      "metadata": {
        "id": "3ICYloLveZ6C"
      },
      "execution_count": null,
      "outputs": []
    },
    {
      "cell_type": "code",
      "source": [
        "stock_data = yf.Ticker(ticker_symbol_2)"
      ],
      "metadata": {
        "id": "J4mQ4Otcc2W_"
      },
      "execution_count": null,
      "outputs": []
    },
    {
      "cell_type": "code",
      "source": [
        "historical_data = stock_data.history(period=\"2Y\")"
      ],
      "metadata": {
        "id": "RY0um_cOc4YO"
      },
      "execution_count": null,
      "outputs": []
    },
    {
      "cell_type": "code",
      "source": [
        "print(historical_data)"
      ],
      "metadata": {
        "id": "Pz4VUtj0OVQZ",
        "colab": {
          "base_uri": "https://localhost:8080/"
        },
        "outputId": "1fa7321c-b3c9-4e30-fa31-d74239acdc83"
      },
      "execution_count": null,
      "outputs": [
        {
          "output_type": "stream",
          "name": "stdout",
          "text": [
            "                                 Open        High         Low       Close  \\\n",
            "Date                                                                        \n",
            "2022-02-14 00:00:00-05:00   74.836981   75.081480   72.457772   74.272743   \n",
            "2022-02-15 00:00:00-05:00   72.316704   73.529820   71.865309   73.341736   \n",
            "2022-02-16 00:00:00-05:00   74.094061   74.978038   73.388761   73.680283   \n",
            "2022-02-17 00:00:00-05:00   73.802551   74.404406   73.304134   73.567451   \n",
            "2022-02-18 00:00:00-05:00   72.561213   73.511012   72.307302   72.749290   \n",
            "...                               ...         ...         ...         ...   \n",
            "2024-02-07 00:00:00-05:00  102.250000  102.730003  101.180000  102.220001   \n",
            "2024-02-08 00:00:00-05:00  102.339996  104.419998  102.110001  103.970001   \n",
            "2024-02-09 00:00:00-05:00  104.099998  104.839996  101.699997  101.769997   \n",
            "2024-02-12 00:00:00-05:00  102.160004  103.400002  102.000000  103.169998   \n",
            "2024-02-13 00:00:00-05:00  102.760002  103.080002  100.599998  101.339996   \n",
            "\n",
            "                             Volume  Dividends  Stock Splits  \n",
            "Date                                                          \n",
            "2022-02-14 00:00:00-05:00  34652800        0.0           0.0  \n",
            "2022-02-15 00:00:00-05:00  25075100        0.0           0.0  \n",
            "2022-02-16 00:00:00-05:00  21733800        0.0           0.0  \n",
            "2022-02-17 00:00:00-05:00  23738800        0.0           0.0  \n",
            "2022-02-18 00:00:00-05:00  23394800        0.0           0.0  \n",
            "...                             ...        ...           ...  \n",
            "2024-02-07 00:00:00-05:00  13826800        0.0           0.0  \n",
            "2024-02-08 00:00:00-05:00  19636900        0.0           0.0  \n",
            "2024-02-09 00:00:00-05:00  20405000        0.0           0.0  \n",
            "2024-02-12 00:00:00-05:00  18173100        0.0           0.0  \n",
            "2024-02-13 00:00:00-05:00  16722821        0.0           0.0  \n",
            "\n",
            "[502 rows x 7 columns]\n"
          ]
        }
      ]
    },
    {
      "cell_type": "code",
      "source": [
        "historical_data['Daily_Return'] = historical_data['Close'].pct_change()"
      ],
      "metadata": {
        "id": "-5Vs7WX3dY0y"
      },
      "execution_count": null,
      "outputs": []
    },
    {
      "cell_type": "markdown",
      "source": [
        "Average Daily Return"
      ],
      "metadata": {
        "id": "xqnZNJrAe9we"
      }
    },
    {
      "cell_type": "code",
      "source": [
        "mean_daily_return = historical_data['Daily_Return'].mean()"
      ],
      "metadata": {
        "id": "_XFjXfcfdame"
      },
      "execution_count": null,
      "outputs": []
    },
    {
      "cell_type": "code",
      "source": [
        "round_mean =round(mean_daily_return,4)"
      ],
      "metadata": {
        "id": "kEd74-ayfF8n"
      },
      "execution_count": null,
      "outputs": []
    },
    {
      "cell_type": "code",
      "source": [
        "print(f\"Mean daily return: {mean_daily_return}\")"
      ],
      "metadata": {
        "colab": {
          "base_uri": "https://localhost:8080/"
        },
        "id": "_GS9Cwb9fHvS",
        "outputId": "84f57f58-0262-4731-dc61-cc532bf7b1c8"
      },
      "execution_count": null,
      "outputs": [
        {
          "output_type": "stream",
          "name": "stdout",
          "text": [
            "Mean daily return: 0.0007972967902264952\n"
          ]
        }
      ]
    },
    {
      "cell_type": "code",
      "source": [
        "print(round_mean)"
      ],
      "metadata": {
        "colab": {
          "base_uri": "https://localhost:8080/"
        },
        "id": "7pe9UtTHfJld",
        "outputId": "d2095cd3-794d-46e0-948e-7bbf34c89da2"
      },
      "execution_count": null,
      "outputs": [
        {
          "output_type": "stream",
          "name": "stdout",
          "text": [
            "0.0008\n"
          ]
        }
      ]
    },
    {
      "cell_type": "markdown",
      "source": [
        "2 Standard Deviation"
      ],
      "metadata": {
        "id": "QU4h0cpXfRiI"
      }
    },
    {
      "cell_type": "code",
      "source": [
        "std_daily_return = historical_data['Daily_Return'].std()"
      ],
      "metadata": {
        "id": "RzNuELRmfLYS"
      },
      "execution_count": null,
      "outputs": []
    },
    {
      "cell_type": "code",
      "source": [
        "round_std = round(std_daily_return,4)"
      ],
      "metadata": {
        "id": "NlWQIcTFfUe0"
      },
      "execution_count": null,
      "outputs": []
    },
    {
      "cell_type": "code",
      "source": [
        "print(f\"Standard deviation of daily return: {std_daily_return}\")"
      ],
      "metadata": {
        "colab": {
          "base_uri": "https://localhost:8080/"
        },
        "id": "1wucEsmmfV4_",
        "outputId": "068c58b5-2a3f-4c56-b288-200d492ffa21"
      },
      "execution_count": null,
      "outputs": [
        {
          "output_type": "stream",
          "name": "stdout",
          "text": [
            "Standard deviation of daily return: 0.018804870610768413\n"
          ]
        }
      ]
    },
    {
      "cell_type": "code",
      "source": [
        "print(round_std)"
      ],
      "metadata": {
        "colab": {
          "base_uri": "https://localhost:8080/"
        },
        "id": "31zGsSGxfXSF",
        "outputId": "01af1454-80a7-4bbf-cf79-bb56975c016c"
      },
      "execution_count": null,
      "outputs": [
        {
          "output_type": "stream",
          "name": "stdout",
          "text": [
            "0.0188\n"
          ]
        }
      ]
    },
    {
      "cell_type": "markdown",
      "source": [
        "3. Skewness"
      ],
      "metadata": {
        "id": "d0XbcSiVfaSp"
      }
    },
    {
      "cell_type": "code",
      "source": [
        "skewness_daily_return = historical_data['Daily_Return'].skew()"
      ],
      "metadata": {
        "id": "V0_ZeNqGfZAN"
      },
      "execution_count": null,
      "outputs": []
    },
    {
      "cell_type": "code",
      "source": [
        "rounded_skewness= round(skewness_daily_return,4)"
      ],
      "metadata": {
        "id": "54X9btVsfc0g"
      },
      "execution_count": null,
      "outputs": []
    },
    {
      "cell_type": "code",
      "source": [
        "print(rounded_skewness)"
      ],
      "metadata": {
        "colab": {
          "base_uri": "https://localhost:8080/"
        },
        "id": "xShTty3Hh55U",
        "outputId": "35f076be-a071-4471-f580-28e680d54335"
      },
      "execution_count": null,
      "outputs": [
        {
          "output_type": "stream",
          "name": "stdout",
          "text": [
            "-0.2011\n"
          ]
        }
      ]
    },
    {
      "cell_type": "code",
      "source": [
        "print(f\"Skewness of daily return: {skewness_daily_return}\")"
      ],
      "metadata": {
        "colab": {
          "base_uri": "https://localhost:8080/"
        },
        "id": "brC6CbRTh7ji",
        "outputId": "62afe002-16b9-4a55-a1e9-6dc3e6a2ef0e"
      },
      "execution_count": null,
      "outputs": [
        {
          "output_type": "stream",
          "name": "stdout",
          "text": [
            "Skewness of daily return: -0.20109994659180064\n"
          ]
        }
      ]
    },
    {
      "cell_type": "markdown",
      "source": [
        "4 KURTOSIS"
      ],
      "metadata": {
        "id": "ajUtjV9BiZMN"
      }
    },
    {
      "cell_type": "code",
      "source": [
        "kurtosis_daily_return = historical_data['Daily_Return'].kurtosis()"
      ],
      "metadata": {
        "id": "YSRnXVrbiDs7"
      },
      "execution_count": null,
      "outputs": []
    },
    {
      "cell_type": "code",
      "source": [
        "rounded_kurtosis =round(kurtosis_daily_return, 4)"
      ],
      "metadata": {
        "id": "Um0yz94ZicHk"
      },
      "execution_count": null,
      "outputs": []
    },
    {
      "cell_type": "code",
      "source": [
        "print(f\"Kurtosis of daily return: {kurtosis_daily_return}\")"
      ],
      "metadata": {
        "colab": {
          "base_uri": "https://localhost:8080/"
        },
        "id": "HvREfo3Midh8",
        "outputId": "b9184fb6-9b32-4c1e-d04c-fded58d282af"
      },
      "execution_count": null,
      "outputs": [
        {
          "output_type": "stream",
          "name": "stdout",
          "text": [
            "Kurtosis of daily return: 1.0133465027614528\n"
          ]
        }
      ]
    },
    {
      "cell_type": "code",
      "source": [
        "print(f\"Kurtosis of daily return: {rounded_kurtosis}\")"
      ],
      "metadata": {
        "colab": {
          "base_uri": "https://localhost:8080/"
        },
        "id": "c5AFiWL8ifEi",
        "outputId": "a11a30c7-0963-4d95-90f2-5ca4ad536316"
      },
      "execution_count": null,
      "outputs": [
        {
          "output_type": "stream",
          "name": "stdout",
          "text": [
            "Kurtosis of daily return: 1.0133\n"
          ]
        }
      ]
    },
    {
      "cell_type": "markdown",
      "source": [
        "## 3 Walmart WMT"
      ],
      "metadata": {
        "id": "uDKOjw1nikKY"
      }
    },
    {
      "cell_type": "code",
      "source": [
        "ticker_symbol_3 ='WMT'"
      ],
      "metadata": {
        "id": "FhEQKRgZig9L"
      },
      "execution_count": null,
      "outputs": []
    },
    {
      "cell_type": "code",
      "source": [
        "stock_data = yf.Ticker(ticker_symbol_3)"
      ],
      "metadata": {
        "id": "bdvfbvlUi67v"
      },
      "execution_count": null,
      "outputs": []
    },
    {
      "cell_type": "code",
      "source": [
        "historical_data = stock_data.history(period=\"2Y\")"
      ],
      "metadata": {
        "id": "QoODftO-i8hm"
      },
      "execution_count": null,
      "outputs": []
    },
    {
      "cell_type": "code",
      "source": [
        "print(historical_data)"
      ],
      "metadata": {
        "colab": {
          "base_uri": "https://localhost:8080/"
        },
        "id": "Ur6xbLhyi_oM",
        "outputId": "08fb5f55-1b28-42a1-ac24-cccd0bc76152"
      },
      "execution_count": null,
      "outputs": [
        {
          "output_type": "stream",
          "name": "stdout",
          "text": [
            "                                 Open        High         Low       Close  \\\n",
            "Date                                                                        \n",
            "2022-02-14 00:00:00-05:00  131.233958  131.844894  128.693262  129.895721   \n",
            "2022-02-15 00:00:00-05:00  130.661820  131.563665  129.740562  130.303009   \n",
            "2022-02-16 00:00:00-05:00  130.264192  130.797548  128.683523  129.488403   \n",
            "2022-02-17 00:00:00-05:00  129.944212  135.248653  129.730870  134.676514   \n",
            "2022-02-18 00:00:00-05:00  133.920117  135.365010  133.008566  133.813446   \n",
            "...                               ...         ...         ...         ...   \n",
            "2024-02-07 00:00:00-05:00  170.270004  170.660004  169.199997  169.380005   \n",
            "2024-02-08 00:00:00-05:00  169.380005  170.550003  169.139999  169.369995   \n",
            "2024-02-09 00:00:00-05:00  169.389999  169.729996  168.919998  169.279999   \n",
            "2024-02-12 00:00:00-05:00  169.229996  170.360001  169.050003  170.300003   \n",
            "2024-02-13 00:00:00-05:00  170.619995  171.070007  168.270004  169.139999   \n",
            "\n",
            "                             Volume  Dividends  Stock Splits  \n",
            "Date                                                          \n",
            "2022-02-14 00:00:00-05:00   9787800        0.0           0.0  \n",
            "2022-02-15 00:00:00-05:00   7274800        0.0           0.0  \n",
            "2022-02-16 00:00:00-05:00   9496900        0.0           0.0  \n",
            "2022-02-17 00:00:00-05:00  17943800        0.0           0.0  \n",
            "2022-02-18 00:00:00-05:00  10367800        0.0           0.0  \n",
            "...                             ...        ...           ...  \n",
            "2024-02-07 00:00:00-05:00   5694200        0.0           0.0  \n",
            "2024-02-08 00:00:00-05:00   4809300        0.0           0.0  \n",
            "2024-02-09 00:00:00-05:00   4776100        0.0           0.0  \n",
            "2024-02-12 00:00:00-05:00   4931700        0.0           0.0  \n",
            "2024-02-13 00:00:00-05:00   6174905        0.0           0.0  \n",
            "\n",
            "[502 rows x 7 columns]\n"
          ]
        }
      ]
    },
    {
      "cell_type": "markdown",
      "source": [
        "Average Daily Return"
      ],
      "metadata": {
        "id": "GNTd7DKQjN_l"
      }
    },
    {
      "cell_type": "code",
      "source": [
        "historical_data['Daily_Return'] = historical_data['Close'].pct_change()"
      ],
      "metadata": {
        "id": "pOTpM_OEjLgl"
      },
      "execution_count": null,
      "outputs": []
    },
    {
      "cell_type": "code",
      "source": [
        "mean_daily_return = historical_data['Daily_Return'].mean()"
      ],
      "metadata": {
        "id": "EUKijUU8jaGK"
      },
      "execution_count": null,
      "outputs": []
    },
    {
      "cell_type": "code",
      "source": [
        "round_mean =round(mean_daily_return,4)"
      ],
      "metadata": {
        "id": "URy6354Ujbba"
      },
      "execution_count": null,
      "outputs": []
    },
    {
      "cell_type": "code",
      "source": [
        "print(f\"Mean daily return: {mean_daily_return}\")"
      ],
      "metadata": {
        "colab": {
          "base_uri": "https://localhost:8080/"
        },
        "id": "VVw6DFVpjbYv",
        "outputId": "f2bdf031-ae1d-47ee-8dd2-c8a9b8b96733"
      },
      "execution_count": null,
      "outputs": [
        {
          "output_type": "stream",
          "name": "stdout",
          "text": [
            "Mean daily return: 0.0006220525649023788\n"
          ]
        }
      ]
    },
    {
      "cell_type": "code",
      "source": [
        "print(round_mean)"
      ],
      "metadata": {
        "colab": {
          "base_uri": "https://localhost:8080/"
        },
        "id": "ZQYtH8rYjbQ_",
        "outputId": "cebfef32-f54f-47c9-a4b8-9094f8b31ee6"
      },
      "execution_count": null,
      "outputs": [
        {
          "output_type": "stream",
          "name": "stdout",
          "text": [
            "0.0006\n"
          ]
        }
      ]
    },
    {
      "cell_type": "markdown",
      "source": [
        "2 Standard Deviation"
      ],
      "metadata": {
        "id": "hMnJxZPQjlBw"
      }
    },
    {
      "cell_type": "code",
      "source": [
        "std_daily_return = historical_data['Daily_Return'].std()"
      ],
      "metadata": {
        "id": "YgKIL6tbjlyC"
      },
      "execution_count": null,
      "outputs": []
    },
    {
      "cell_type": "code",
      "source": [
        "round_std = round(std_daily_return,4)"
      ],
      "metadata": {
        "id": "rM_vKrvEjlvt"
      },
      "execution_count": null,
      "outputs": []
    },
    {
      "cell_type": "code",
      "source": [
        "print(f\"Standard deviation of daily return: {std_daily_return}\")"
      ],
      "metadata": {
        "colab": {
          "base_uri": "https://localhost:8080/"
        },
        "id": "QpeiN9uRjlso",
        "outputId": "0e3acdc5-c5bb-4874-9b05-786421718a3f"
      },
      "execution_count": null,
      "outputs": [
        {
          "output_type": "stream",
          "name": "stdout",
          "text": [
            "Standard deviation of daily return: 0.013674122422719913\n"
          ]
        }
      ]
    },
    {
      "cell_type": "code",
      "source": [
        "print(round_std)"
      ],
      "metadata": {
        "colab": {
          "base_uri": "https://localhost:8080/"
        },
        "id": "KDzdA3EBjlp5",
        "outputId": "3f3b9aad-0f70-46a4-f9dd-9e0a2d75f6a7"
      },
      "execution_count": null,
      "outputs": [
        {
          "output_type": "stream",
          "name": "stdout",
          "text": [
            "0.0137\n"
          ]
        }
      ]
    },
    {
      "cell_type": "markdown",
      "source": [
        "3 Skewness"
      ],
      "metadata": {
        "id": "HCWosYWLjywJ"
      }
    },
    {
      "cell_type": "code",
      "source": [
        "skewness_daily_return = historical_data['Daily_Return'].skew()"
      ],
      "metadata": {
        "id": "KB29lXanjs9Z"
      },
      "execution_count": null,
      "outputs": []
    },
    {
      "cell_type": "code",
      "source": [
        "rounded_skewness= round(skewness_daily_return,4)"
      ],
      "metadata": {
        "id": "mgncXM7gj3E_"
      },
      "execution_count": null,
      "outputs": []
    },
    {
      "cell_type": "code",
      "source": [
        "print(rounded_skewness)"
      ],
      "metadata": {
        "colab": {
          "base_uri": "https://localhost:8080/"
        },
        "id": "gnwN6tF4j2_k",
        "outputId": "e2a5fd80-9172-43b6-8d54-0258f133fb92"
      },
      "execution_count": null,
      "outputs": [
        {
          "output_type": "stream",
          "name": "stdout",
          "text": [
            "-1.8499\n"
          ]
        }
      ]
    },
    {
      "cell_type": "code",
      "source": [
        "print(f\"Skewness of daily return: {skewness_daily_return}\")"
      ],
      "metadata": {
        "colab": {
          "base_uri": "https://localhost:8080/"
        },
        "id": "aozUpNMKj27K",
        "outputId": "9fa23e3c-9d57-435c-b52a-6f26382affa4"
      },
      "execution_count": null,
      "outputs": [
        {
          "output_type": "stream",
          "name": "stdout",
          "text": [
            "Skewness of daily return: -1.8498774144891523\n"
          ]
        }
      ]
    },
    {
      "cell_type": "markdown",
      "source": [
        "4 KURTOSIS"
      ],
      "metadata": {
        "id": "bHMKbt3FkA1r"
      }
    },
    {
      "cell_type": "code",
      "source": [
        "kurtosis_daily_return = historical_data['Daily_Return'].kurtosis()"
      ],
      "metadata": {
        "id": "nbKQZoGSj24S"
      },
      "execution_count": null,
      "outputs": []
    },
    {
      "cell_type": "code",
      "source": [
        "rounded_kurtosis =round(kurtosis_daily_return, 4)"
      ],
      "metadata": {
        "id": "sVh5Bu7tkDC3"
      },
      "execution_count": null,
      "outputs": []
    },
    {
      "cell_type": "code",
      "source": [
        "print(f\"Kurtosis of daily return: {kurtosis_daily_return}\")"
      ],
      "metadata": {
        "colab": {
          "base_uri": "https://localhost:8080/"
        },
        "id": "BZHMtgkZkDBD",
        "outputId": "e6aa79fa-0ac4-4696-c751-8e99fc99939a"
      },
      "execution_count": null,
      "outputs": [
        {
          "output_type": "stream",
          "name": "stdout",
          "text": [
            "Kurtosis of daily return: 15.550956315796228\n"
          ]
        }
      ]
    },
    {
      "cell_type": "code",
      "source": [
        "print(f\"Kurtosis of daily return: {rounded_kurtosis}\")"
      ],
      "metadata": {
        "colab": {
          "base_uri": "https://localhost:8080/"
        },
        "id": "qhyahDyRkC-_",
        "outputId": "3bbd6317-ee40-4e36-e2ee-9e6a04c1b5fc"
      },
      "execution_count": null,
      "outputs": [
        {
          "output_type": "stream",
          "name": "stdout",
          "text": [
            "Kurtosis of daily return: 15.551\n"
          ]
        }
      ]
    },
    {
      "cell_type": "markdown",
      "source": [
        "Correlation"
      ],
      "metadata": {
        "id": "En-KsDCwkVhW"
      }
    },
    {
      "cell_type": "code",
      "source": [
        "stock_1 = yf.Ticker(\"MCD\").history(period=\"2y\")\n",
        "stock_2 = yf.Ticker(\"XOM\").history(period=\"2y\")\n",
        "stock_3 = yf.Ticker(\"WMT\").history(period=\"2y\")"
      ],
      "metadata": {
        "id": "t0gyviyokC8M"
      },
      "execution_count": null,
      "outputs": []
    },
    {
      "cell_type": "code",
      "source": [
        "stock_1['Daily_Return'] = stock_1['Close'].pct_change()\n",
        "stock_2['Daily_Return'] = stock_2['Close'].pct_change()\n",
        "stock_3['Daily_Return'] = stock_3['Close'].pct_change()"
      ],
      "metadata": {
        "id": "yT61uFlSlAk_"
      },
      "execution_count": null,
      "outputs": []
    },
    {
      "cell_type": "code",
      "source": [
        "stock_1['Daily_Return'].corr(stock_2['Daily_Return'])"
      ],
      "metadata": {
        "colab": {
          "base_uri": "https://localhost:8080/"
        },
        "id": "o1Xh9NUqkx1p",
        "outputId": "f432156f-234f-4418-9c42-3e48af43954f"
      },
      "execution_count": null,
      "outputs": [
        {
          "output_type": "execute_result",
          "data": {
            "text/plain": [
              "0.17083322209156415"
            ]
          },
          "metadata": {},
          "execution_count": 121
        }
      ]
    },
    {
      "cell_type": "code",
      "source": [
        "stock_2['Daily_Return'].corr(stock_3['Daily_Return'])"
      ],
      "metadata": {
        "colab": {
          "base_uri": "https://localhost:8080/"
        },
        "id": "8TyH64BZlTyY",
        "outputId": "4b926148-aca1-445b-ec29-0dae410626e7"
      },
      "execution_count": null,
      "outputs": [
        {
          "output_type": "execute_result",
          "data": {
            "text/plain": [
              "0.18160400290370468"
            ]
          },
          "metadata": {},
          "execution_count": 123
        }
      ]
    },
    {
      "cell_type": "code",
      "source": [
        "stock_3['Daily_Return'].corr(stock_1['Daily_Return'])"
      ],
      "metadata": {
        "colab": {
          "base_uri": "https://localhost:8080/"
        },
        "id": "ByzFWNJelcw-",
        "outputId": "123486d5-35e8-4bc4-9275-63b4cd6709c1"
      },
      "execution_count": null,
      "outputs": [
        {
          "output_type": "execute_result",
          "data": {
            "text/plain": [
              "0.3104111237168214"
            ]
          },
          "metadata": {},
          "execution_count": 124
        }
      ]
    },
    {
      "cell_type": "markdown",
      "source": [
        "Covariance"
      ],
      "metadata": {
        "id": "DTkDVwXHls2_"
      }
    },
    {
      "cell_type": "code",
      "source": [
        "P =stock_1['Daily_Return'].cov(stock_2['Daily_Return'])"
      ],
      "metadata": {
        "id": "95Qrre_SlvWQ"
      },
      "execution_count": null,
      "outputs": []
    },
    {
      "cell_type": "code",
      "source": [],
      "metadata": {
        "id": "5s_TgMx1mNLb"
      },
      "execution_count": null,
      "outputs": []
    },
    {
      "cell_type": "code",
      "source": [
        "format (float(P),'.5f')"
      ],
      "metadata": {
        "colab": {
          "base_uri": "https://localhost:8080/",
          "height": 35
        },
        "id": "aR9HU6ANlyrq",
        "outputId": "7c53960b-17ec-427c-b763-1f8ed76e04e1"
      },
      "execution_count": null,
      "outputs": [
        {
          "output_type": "execute_result",
          "data": {
            "text/plain": [
              "'0.00004'"
            ],
            "application/vnd.google.colaboratory.intrinsic+json": {
              "type": "string"
            }
          },
          "metadata": {},
          "execution_count": 143
        }
      ]
    },
    {
      "cell_type": "code",
      "source": [
        "stock_1['Daily_Return'].cov(stock_1['Daily_Return'])"
      ],
      "metadata": {
        "colab": {
          "base_uri": "https://localhost:8080/"
        },
        "id": "SykRadlJmOzs",
        "outputId": "fa65e4e7-96a0-480f-f2c1-122d730a6ae7"
      },
      "execution_count": null,
      "outputs": [
        {
          "output_type": "execute_result",
          "data": {
            "text/plain": [
              "0.00011918619003832669"
            ]
          },
          "metadata": {},
          "execution_count": 133
        }
      ]
    },
    {
      "cell_type": "code",
      "source": [
        "stock_2['Daily_Return'].cov(stock_2['Daily_Return'])"
      ],
      "metadata": {
        "colab": {
          "base_uri": "https://localhost:8080/"
        },
        "id": "2bffbzXUmeu9",
        "outputId": "feba9342-da59-492e-98af-94a07fb3578e"
      },
      "execution_count": null,
      "outputs": [
        {
          "output_type": "execute_result",
          "data": {
            "text/plain": [
              "0.0003536231918824541"
            ]
          },
          "metadata": {},
          "execution_count": 134
        }
      ]
    },
    {
      "cell_type": "code",
      "source": [
        "stock_3['Daily_Return'].cov(stock_3['Daily_Return'])"
      ],
      "metadata": {
        "colab": {
          "base_uri": "https://localhost:8080/"
        },
        "id": "68SieSf9mjAV",
        "outputId": "9c8af23d-a549-467a-e872-8715fdec92db"
      },
      "execution_count": null,
      "outputs": [
        {
          "output_type": "execute_result",
          "data": {
            "text/plain": [
              "0.00018698146167117546"
            ]
          },
          "metadata": {},
          "execution_count": 135
        }
      ]
    },
    {
      "cell_type": "code",
      "source": [
        "sqrt(0.00018698146167117546)"
      ],
      "metadata": {
        "colab": {
          "base_uri": "https://localhost:8080/",
          "height": 175
        },
        "id": "PcG5rlzGmm-n",
        "outputId": "0d0c7471-e16b-438b-f855-7954a8ff58c3"
      },
      "execution_count": null,
      "outputs": [
        {
          "output_type": "error",
          "ename": "NameError",
          "evalue": "name 'sqrt' is not defined",
          "traceback": [
            "\u001b[0;31m---------------------------------------------------------------------------\u001b[0m",
            "\u001b[0;31mNameError\u001b[0m                                 Traceback (most recent call last)",
            "\u001b[0;32m<ipython-input-136-ba1372c02508>\u001b[0m in \u001b[0;36m<cell line: 1>\u001b[0;34m()\u001b[0m\n\u001b[0;32m----> 1\u001b[0;31m \u001b[0msqrt\u001b[0m\u001b[0;34m(\u001b[0m\u001b[0;36m0.00018698146167117546\u001b[0m\u001b[0;34m)\u001b[0m\u001b[0;34m\u001b[0m\u001b[0;34m\u001b[0m\u001b[0m\n\u001b[0m",
            "\u001b[0;31mNameError\u001b[0m: name 'sqrt' is not defined"
          ]
        }
      ]
    },
    {
      "cell_type": "code",
      "source": [
        "import math"
      ],
      "metadata": {
        "id": "XMFmBsRSm4d6"
      },
      "execution_count": null,
      "outputs": []
    },
    {
      "cell_type": "code",
      "source": [
        "print(math.sqrt(0.00018698146167117546))"
      ],
      "metadata": {
        "colab": {
          "base_uri": "https://localhost:8080/"
        },
        "id": "xylxej6nm60z",
        "outputId": "0f7d10f8-d0c5-491e-abb7-86d036143c71"
      },
      "execution_count": null,
      "outputs": [
        {
          "output_type": "stream",
          "name": "stdout",
          "text": [
            "0.013674116485944365\n"
          ]
        }
      ]
    },
    {
      "cell_type": "markdown",
      "source": [
        "Standard Deviation =Sqrt(Covrariance)"
      ],
      "metadata": {
        "id": "uVtfqOLynQm-"
      }
    },
    {
      "cell_type": "code",
      "source": [
        "q= stock_2['Daily_Return'].cov(stock_3['Daily_Return'])"
      ],
      "metadata": {
        "id": "nFTmsnaKnanl"
      },
      "execution_count": null,
      "outputs": []
    },
    {
      "cell_type": "code",
      "source": [
        "format (float(q),'.5f')"
      ],
      "metadata": {
        "colab": {
          "base_uri": "https://localhost:8080/",
          "height": 35
        },
        "id": "Q19z-v1uppre",
        "outputId": "afcffa38-a494-4719-a062-98bb0b373839"
      },
      "execution_count": null,
      "outputs": [
        {
          "output_type": "execute_result",
          "data": {
            "text/plain": [
              "'0.00005'"
            ],
            "application/vnd.google.colaboratory.intrinsic+json": {
              "type": "string"
            }
          },
          "metadata": {},
          "execution_count": 145
        }
      ]
    },
    {
      "cell_type": "code",
      "source": [
        "stock_2['Daily_Return'].cov(stock_3['Daily_Return'])"
      ],
      "metadata": {
        "colab": {
          "base_uri": "https://localhost:8080/"
        },
        "id": "bu24E1Adp5Op",
        "outputId": "47679bc1-2fef-456d-a9dc-bc3cf89e9884"
      },
      "execution_count": null,
      "outputs": [
        {
          "output_type": "execute_result",
          "data": {
            "text/plain": [
              "4.669765390661704e-05"
            ]
          },
          "metadata": {},
          "execution_count": 148
        }
      ]
    },
    {
      "cell_type": "code",
      "source": [
        "r =stock_3['Daily_Return'].cov(stock_1['Daily_Return'])"
      ],
      "metadata": {
        "id": "1LF1Bg2znlJl"
      },
      "execution_count": null,
      "outputs": []
    },
    {
      "cell_type": "code",
      "source": [
        "format (float(r),'.5f')"
      ],
      "metadata": {
        "colab": {
          "base_uri": "https://localhost:8080/",
          "height": 35
        },
        "id": "wX86fe5Kpzu2",
        "outputId": "0fdc9f8c-7267-4c24-e59e-86c7a29f964e"
      },
      "execution_count": null,
      "outputs": [
        {
          "output_type": "execute_result",
          "data": {
            "text/plain": [
              "'0.00005'"
            ],
            "application/vnd.google.colaboratory.intrinsic+json": {
              "type": "string"
            }
          },
          "metadata": {},
          "execution_count": 147
        }
      ]
    },
    {
      "cell_type": "code",
      "source": [
        "stock_3['Daily_Return'].cov(stock_1['Daily_Return'])"
      ],
      "metadata": {
        "colab": {
          "base_uri": "https://localhost:8080/"
        },
        "id": "7onEK3cfp7z_",
        "outputId": "c82e7c54-766e-4e53-ec5a-d96aea8ae061"
      },
      "execution_count": null,
      "outputs": [
        {
          "output_type": "execute_result",
          "data": {
            "text/plain": [
              "4.6339305410837494e-05"
            ]
          },
          "metadata": {},
          "execution_count": 149
        }
      ]
    },
    {
      "cell_type": "code",
      "source": [],
      "metadata": {
        "id": "LWURY_Hanakl"
      },
      "execution_count": null,
      "outputs": []
    },
    {
      "cell_type": "markdown",
      "source": [],
      "metadata": {
        "id": "c8nYMvAvnaTp"
      }
    },
    {
      "cell_type": "markdown",
      "source": [],
      "metadata": {
        "id": "QEnldZTknaKQ"
      }
    },
    {
      "cell_type": "markdown",
      "source": [],
      "metadata": {
        "id": "TWiDM81Sm4Ra"
      }
    },
    {
      "cell_type": "code",
      "source": [],
      "metadata": {
        "id": "zA1bvL3ri912"
      },
      "execution_count": null,
      "outputs": []
    },
    {
      "cell_type": "markdown",
      "source": [
        "## Portfolio of 3 STOCKS"
      ],
      "metadata": {
        "id": "R8LKPLUXq45r"
      }
    },
    {
      "cell_type": "code",
      "source": [
        "import pandas as pd\n",
        "import numpy as np\n",
        "from scipy.stats import skew, kurtosis"
      ],
      "metadata": {
        "id": "6hv2ZhS-q6f4"
      },
      "execution_count": null,
      "outputs": []
    },
    {
      "cell_type": "code",
      "source": [
        "stocks = ['MCD', 'XOM', 'WMT']"
      ],
      "metadata": {
        "id": "mPf2MhLLrD0J"
      },
      "execution_count": null,
      "outputs": []
    },
    {
      "cell_type": "code",
      "source": [
        "data = yf.download(stocks, start=\"2022-02-14\", end=\"2024-02-03\")['Adj Close']"
      ],
      "metadata": {
        "colab": {
          "base_uri": "https://localhost:8080/"
        },
        "id": "bcU8wGt4rMjS",
        "outputId": "0f2e60af-2eba-4ba7-a757-463e6ed79b3c"
      },
      "execution_count": null,
      "outputs": [
        {
          "output_type": "stream",
          "name": "stderr",
          "text": [
            "[*********************100%%**********************]  3 of 3 completed\n"
          ]
        }
      ]
    },
    {
      "cell_type": "code",
      "source": [
        "print(data)"
      ],
      "metadata": {
        "colab": {
          "base_uri": "https://localhost:8080/"
        },
        "id": "izM5m7JlrU8o",
        "outputId": "0f52046d-7907-4f76-aaeb-dd1a6a910a4e"
      },
      "execution_count": null,
      "outputs": [
        {
          "output_type": "stream",
          "name": "stdout",
          "text": [
            "Ticker             MCD         WMT         XOM\n",
            "Date                                          \n",
            "2022-02-14  242.352478  129.895706   74.272751\n",
            "2022-02-15  242.754181  130.303009   73.341736\n",
            "2022-02-16  242.065536  129.488419   73.680275\n",
            "2022-02-17  239.999619  134.676514   73.567451\n",
            "2022-02-18  239.684021  133.813446   72.749290\n",
            "...                ...         ...         ...\n",
            "2024-01-29  292.309998  165.039993  103.129997\n",
            "2024-01-30  294.649994  165.589996  104.849998\n",
            "2024-01-31  292.720001  165.250000  102.809998\n",
            "2024-02-01  298.079987  168.309998  102.389999\n",
            "2024-02-02  297.049988  169.570007  101.970001\n",
            "\n",
            "[495 rows x 3 columns]\n"
          ]
        }
      ]
    },
    {
      "cell_type": "code",
      "source": [
        "returns = data.pct_change()"
      ],
      "metadata": {
        "id": "o1qeDAZPrjRW"
      },
      "execution_count": null,
      "outputs": []
    },
    {
      "cell_type": "code",
      "source": [
        "weights = np.array([0.33, 0.33, 0.34])"
      ],
      "metadata": {
        "id": "HpnGQ8AQrXth"
      },
      "execution_count": null,
      "outputs": []
    },
    {
      "cell_type": "markdown",
      "source": [
        "returns"
      ],
      "metadata": {
        "id": "ES_T8OuPrfMm"
      }
    },
    {
      "cell_type": "code",
      "source": [
        "portfolio_returns = returns.dot(weights)"
      ],
      "metadata": {
        "id": "Rx2yzgHSrgP7"
      },
      "execution_count": null,
      "outputs": []
    },
    {
      "cell_type": "code",
      "source": [
        "average_return = portfolio_returns.mean()"
      ],
      "metadata": {
        "id": "Jz0hbtEerkpc"
      },
      "execution_count": null,
      "outputs": []
    },
    {
      "cell_type": "code",
      "source": [
        "print(average_return)"
      ],
      "metadata": {
        "colab": {
          "base_uri": "https://localhost:8080/"
        },
        "id": "qxT0uhObrnm-",
        "outputId": "7fd77e72-e947-4a2c-a15a-cb2a14e47a0e"
      },
      "execution_count": null,
      "outputs": [
        {
          "output_type": "stream",
          "name": "stdout",
          "text": [
            "0.0006437945908817057\n"
          ]
        }
      ]
    },
    {
      "cell_type": "code",
      "source": [
        "volatility = portfolio_returns.std()"
      ],
      "metadata": {
        "id": "ZXlalb7frrXe"
      },
      "execution_count": null,
      "outputs": []
    },
    {
      "cell_type": "code",
      "source": [
        "print(volatility)"
      ],
      "metadata": {
        "colab": {
          "base_uri": "https://localhost:8080/"
        },
        "id": "PLyvSsGjsM74",
        "outputId": "506f0a37-862b-419b-ed38-01b02463dfa7"
      },
      "execution_count": null,
      "outputs": [
        {
          "output_type": "stream",
          "name": "stdout",
          "text": [
            "0.010137804202060305\n"
          ]
        }
      ]
    },
    {
      "cell_type": "code",
      "source": [
        "skewness = skew(portfolio_returns)"
      ],
      "metadata": {
        "id": "_3xybKhJsPi4"
      },
      "execution_count": null,
      "outputs": []
    },
    {
      "cell_type": "code",
      "source": [
        "print(skewness)"
      ],
      "metadata": {
        "colab": {
          "base_uri": "https://localhost:8080/"
        },
        "id": "9e0s3DY3sRmJ",
        "outputId": "fa13c787-fc3c-4832-fd08-b9de6f14b2ef"
      },
      "execution_count": null,
      "outputs": [
        {
          "output_type": "stream",
          "name": "stdout",
          "text": [
            "nan\n"
          ]
        }
      ]
    },
    {
      "cell_type": "code",
      "source": [
        "kurt = kurtosis(portfolio_returns)"
      ],
      "metadata": {
        "id": "SwwwULLasUFp"
      },
      "execution_count": null,
      "outputs": []
    },
    {
      "cell_type": "code",
      "source": [
        "print(kurt)"
      ],
      "metadata": {
        "colab": {
          "base_uri": "https://localhost:8080/"
        },
        "id": "LrMKRBverBkN",
        "outputId": "81db2a89-0762-4d1e-fb90-863279740027"
      },
      "execution_count": null,
      "outputs": [
        {
          "output_type": "stream",
          "name": "stdout",
          "text": [
            "nan\n"
          ]
        }
      ]
    },
    {
      "cell_type": "code",
      "source": [
        "import matplotlib.pyplot as plt"
      ],
      "metadata": {
        "id": "0pVSXgzptFIX"
      },
      "execution_count": null,
      "outputs": []
    },
    {
      "cell_type": "code",
      "source": [
        "plt.bar(['Skewness', 'Kurtosis'], [skewness, kurt], color=['blue', 'orange'])\n",
        "plt.xlabel('Statistic')\n",
        "plt.ylabel('Value')\n",
        "plt.title('Skewness and Kurtosis of Portfolio Returns')\n",
        "plt.show()"
      ],
      "metadata": {
        "colab": {
          "base_uri": "https://localhost:8080/",
          "height": 472
        },
        "id": "ic4rTc96sYKZ",
        "outputId": "243c6aaf-b143-41da-e2f4-963d3ef24e91"
      },
      "execution_count": null,
      "outputs": [
        {
          "output_type": "display_data",
          "data": {
            "text/plain": [
              "<Figure size 640x480 with 1 Axes>"
            ],
            "image/png": "[encoded data removed]"
          },
          "metadata": {}
        }
      ]
    },
    {
      "cell_type": "code",
      "source": [],
      "metadata": {
        "id": "kLOe4A1stCcg"
      },
      "execution_count": null,
      "outputs": []
    }
  ]
}