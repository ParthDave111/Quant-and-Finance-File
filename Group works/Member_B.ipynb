{
  "nbformat": 4,
  "nbformat_minor": 0,
  "metadata": {
    "colab": {
      "provenance": []
    },
    "kernelspec": {
      "name": "python3",
      "display_name": "Python 3"
    },
    "language_info": {
      "name": "python"
    }
  },
  "cells": [
    {
      "cell_type": "code",
      "execution_count": 1,
      "metadata": {
        "id": "BE5WRO6r-pq7"
      },
      "outputs": [],
      "source": [
        "import numpy as np"
      ]
    },
    {
      "cell_type": "markdown",
      "source": [
        "Pricing American Option"
      ],
      "metadata": {
        "id": "EG5IVURMOfLl"
      }
    },
    {
      "cell_type": "markdown",
      "source": [
        "5.a  Creating American  Call and Put Options and choosing the number of steps in the tree"
      ],
      "metadata": {
        "id": "nrA0S6lUQX83"
      }
    },
    {
      "cell_type": "code",
      "source": [
        "def american_option(S_ini, K, T, r, u, d, N, opttype):\n",
        "    dt = T / N  # Define time step\n",
        "    p = (np.exp(r * dt) - d) / (u - d)  # risk neutral probs\n",
        "    C = np.zeros([N + 1, N + 1])  # call prices\n",
        "    S = np.zeros([N + 1, N + 1])  # underlying price\n",
        "\n",
        "    for i in range(0, N + 1):\n",
        "        S[N, i] = S_ini * (u ** (i)) * (d ** (N - i))\n",
        "        if opttype == \"C\":\n",
        "            C[N, i] = max(S[N, i] - K, 0)\n",
        "        else:\n",
        "            C[N, i] = max(K - S[N, i], 0)\n",
        "\n",
        "    for j in range(N - 1, -1, -1):\n",
        "        for i in range(0, j + 1):\n",
        "            C[j, i] = np.exp(-r * dt) * (\n",
        "                p * C[j + 1, i + 1] + (1 - p) * C[j + 1, i]\n",
        "            )  # Computing the European option prices\n",
        "            S[j, i] = (\n",
        "                S_ini * (u ** (i)) * (d ** (j - i))\n",
        "            )  # Underlying evolution for each node\n",
        "            if opttype == \"C\":\n",
        "                C[j, i] = max(\n",
        "                    C[j, i], S[j, i] - K\n",
        "                )  # Decision between the European option price and the payoff from early-exercise\n",
        "            else:\n",
        "                C[j, i] = max(\n",
        "                    C[j, i], K - S[j, i]\n",
        "                )  # Decision between the European option price and the payoff from early-exercise\n",
        "\n",
        "    return C[0, 0], C, S,delta"
      ],
      "metadata": {
        "id": "6JgvAqKTOWlR"
      },
      "execution_count": 21,
      "outputs": []
    },
    {
      "cell_type": "markdown",
      "source": [
        "Setting up same parameters as European Option\n",
        "\n",
        "S_ini = 100\n",
        "r =0.5\n",
        "sigma =0.2\n",
        "T =3/12\n",
        "K =100\n",
        "N=50"
      ],
      "metadata": {
        "id": "MkdJttGfOoQj"
      }
    },
    {
      "cell_type": "code",
      "source": [
        "S_ini = 100\n",
        "r =0.5\n",
        "sigma =0.2\n",
        "T =3/12\n",
        "K =100\n",
        "N=50"
      ],
      "metadata": {
        "id": "yr0PasIvPIxI"
      },
      "execution_count": 51,
      "outputs": []
    },
    {
      "cell_type": "code",
      "source": [
        "dt = T / N # Length of one time step\n",
        "u = np.exp(sigma * np.sqrt(dt)) # Up factor\n",
        "d = np.exp(-sigma * np.sqrt(dt)) # Down factor"
      ],
      "metadata": {
        "id": "5hOG_EwJPJDy"
      },
      "execution_count": 4,
      "outputs": []
    },
    {
      "cell_type": "code",
      "source": [
        "## call option"
      ],
      "metadata": {
        "id": "TYxrC-KLPLSV"
      },
      "execution_count": 5,
      "outputs": []
    },
    {
      "cell_type": "code",
      "source": [
        "opttype = 'C'"
      ],
      "metadata": {
        "id": "Mwuj8zVuPPr5"
      },
      "execution_count": 9,
      "outputs": []
    },
    {
      "cell_type": "code",
      "source": [
        "option_price, C, S = american_option(S_ini, K, T, r, u, d, N, opttype)"
      ],
      "metadata": {
        "id": "sw0fzZTaPSlk"
      },
      "execution_count": 10,
      "outputs": []
    },
    {
      "cell_type": "code",
      "source": [
        "option_price"
      ],
      "metadata": {
        "colab": {
          "base_uri": "https://localhost:8080/",
          "height": 0
        },
        "id": "j1fuYgMCPlBC",
        "outputId": "ded30c8b-9922-4dfe-cd68-8daa8f4ce5fe"
      },
      "execution_count": 11,
      "outputs": [
        {
          "output_type": "execute_result",
          "data": {
            "text/plain": [
              "12.203282178073938"
            ]
          },
          "metadata": {},
          "execution_count": 11
        }
      ]
    },
    {
      "cell_type": "code",
      "source": [
        "# Put option"
      ],
      "metadata": {
        "id": "JqIBcBNDPmOE"
      },
      "execution_count": 12,
      "outputs": []
    },
    {
      "cell_type": "code",
      "source": [
        "opttype = 'P'"
      ],
      "metadata": {
        "id": "XrgxH99WPozc"
      },
      "execution_count": 13,
      "outputs": []
    },
    {
      "cell_type": "code",
      "source": [
        "option_price, C, S = american_option(S_ini, K, T, r, u, d, N, opttype)"
      ],
      "metadata": {
        "id": "9plJiNomPqZP"
      },
      "execution_count": 14,
      "outputs": []
    },
    {
      "cell_type": "code",
      "source": [
        "option_price"
      ],
      "metadata": {
        "colab": {
          "base_uri": "https://localhost:8080/",
          "height": 0
        },
        "id": "nQuDZSOzPrTL",
        "outputId": "cb64d8e4-2f4c-4838-a815-1591968bcd23"
      },
      "execution_count": 15,
      "outputs": [
        {
          "output_type": "execute_result",
          "data": {
            "text/plain": [
              "1.3503447389759942"
            ]
          },
          "metadata": {},
          "execution_count": 15
        }
      ]
    },
    {
      "cell_type": "markdown",
      "source": [
        "Introducting Delta"
      ],
      "metadata": {
        "id": "Z6KongcGQtXQ"
      }
    },
    {
      "cell_type": "markdown",
      "source": [
        "Delta measures the sensitivity of an option price to change of underlying asset price\n"
      ],
      "metadata": {
        "id": "Gs3TnTJpS8CR"
      }
    },
    {
      "cell_type": "code",
      "source": [
        "delta = np.zeros([N, N])"
      ],
      "metadata": {
        "id": "A6jsZ7L4TKM5"
      },
      "execution_count": 23,
      "outputs": []
    },
    {
      "cell_type": "code",
      "source": [
        "if isinstance(u, list): u = u[0]\n",
        "if isinstance(d, list): d = d[0]"
      ],
      "metadata": {
        "id": "5KPXDuqhaolY"
      },
      "execution_count": 38,
      "outputs": []
    },
    {
      "cell_type": "code",
      "source": [
        "u"
      ],
      "metadata": {
        "colab": {
          "base_uri": "https://localhost:8080/",
          "height": 0
        },
        "id": "xqWQf55Ebeg5",
        "outputId": "138459cc-ea5a-4071-8303-7a30d728715f"
      },
      "execution_count": 40,
      "outputs": [
        {
          "output_type": "execute_result",
          "data": {
            "text/plain": [
              "1.0142426086996437"
            ]
          },
          "metadata": {},
          "execution_count": 40
        }
      ]
    },
    {
      "cell_type": "code",
      "source": [
        "d"
      ],
      "metadata": {
        "colab": {
          "base_uri": "https://localhost:8080/",
          "height": 0
        },
        "id": "srZZ3NHtbhC0",
        "outputId": "b0001153-21e0-4198-f4e3-75eeda885329"
      },
      "execution_count": 41,
      "outputs": [
        {
          "output_type": "execute_result",
          "data": {
            "text/plain": [
              "0.985957394633712"
            ]
          },
          "metadata": {},
          "execution_count": 41
        }
      ]
    },
    {
      "cell_type": "code",
      "source": [
        "dt"
      ],
      "metadata": {
        "colab": {
          "base_uri": "https://localhost:8080/",
          "height": 0
        },
        "id": "Cu3U_K2Zbj9c",
        "outputId": "05372b8d-000a-490b-f7be-032cecc1c9f4"
      },
      "execution_count": 44,
      "outputs": [
        {
          "output_type": "execute_result",
          "data": {
            "text/plain": [
              "0.005"
            ]
          },
          "metadata": {},
          "execution_count": 44
        }
      ]
    },
    {
      "cell_type": "code",
      "source": [
        "p = (np.exp(r * dt) - d) / (u - d)"
      ],
      "metadata": {
        "id": "GhYyzG_sbqic"
      },
      "execution_count": 47,
      "outputs": []
    },
    {
      "cell_type": "code",
      "source": [
        "p"
      ],
      "metadata": {
        "colab": {
          "base_uri": "https://localhost:8080/",
          "height": 0
        },
        "id": "awA3iMoKbtpd",
        "outputId": "7135312b-6817-45e3-a944-44beb80363c1"
      },
      "execution_count": 48,
      "outputs": [
        {
          "output_type": "execute_result",
          "data": {
            "text/plain": [
              "0.58496050033476"
            ]
          },
          "metadata": {},
          "execution_count": 48
        }
      ]
    },
    {
      "cell_type": "code",
      "source": [
        "N"
      ],
      "metadata": {
        "colab": {
          "base_uri": "https://localhost:8080/",
          "height": 0
        },
        "id": "Y_hqPxfqb3hw",
        "outputId": "5eb782b2-9e94-4749-c931-5beba577b503"
      },
      "execution_count": 50,
      "outputs": [
        {
          "output_type": "execute_result",
          "data": {
            "text/plain": [
              "[1, 10, 100, 200, 300, 400, 500, 600, 700, 800, 900, 1000, 1500, 2000, 2500]"
            ]
          },
          "metadata": {},
          "execution_count": 50
        }
      ]
    },
    {
      "cell_type": "markdown",
      "source": [],
      "metadata": {
        "id": "XBAmQ6GcaoWO"
      }
    },
    {
      "cell_type": "code",
      "source": [
        "price, call, S, delta = american_option(100,100,T,0.5,u,d,N,'C')\n",
        "print(\"Underlying: \\n\", S)\n",
        "print(\"Call Price: \\n\", call)\n",
        "print(\"Delta: \\n\", delta)"
      ],
      "metadata": {
        "colab": {
          "base_uri": "https://localhost:8080/",
          "height": 0
        },
        "id": "JZxEw3YETC9g",
        "outputId": "325a72f2-c766-4d51-885e-cc16b5d737de"
      },
      "execution_count": 52,
      "outputs": [
        {
          "output_type": "stream",
          "name": "stdout",
          "text": [
            "Underlying: \n",
            " [[100.           0.           0.         ...   0.           0.\n",
            "    0.        ]\n",
            " [ 98.59573946 101.42426087   0.         ...   0.           0.\n",
            "    0.        ]\n",
            " [ 97.2111984  100.         102.86880693 ...   0.           0.\n",
            "    0.        ]\n",
            " ...\n",
            " [ 50.72138802  52.17648671  53.67332938 ... 197.15548787   0.\n",
            "    0.        ]\n",
            " [ 50.00912758  51.4437929   52.919616   ... 194.38691115 199.96349633\n",
            "    0.        ]\n",
            " [ 49.30686914  50.72138802  52.17648671 ... 191.65721247 197.15548787\n",
            "  202.81149816]]\n",
            "Call Price: \n",
            " [[ 12.20328218   0.           0.         ...   0.           0.\n",
            "    0.        ]\n",
            " [ 10.73856042  13.29474691   0.         ...   0.           0.\n",
            "    0.        ]\n",
            " [  9.33973126  11.77700548  14.42850054 ...   0.           0.\n",
            "    0.        ]\n",
            " ...\n",
            " [  0.           0.           0.         ...  97.65423995   0.\n",
            "    0.        ]\n",
            " [  0.           0.           0.         ...  94.63659891 100.21318409\n",
            "    0.        ]\n",
            " [  0.           0.           0.         ...  91.65721247  97.15548787\n",
            "  102.81149816]]\n",
            "Delta: \n",
            " [[0. 0. 0. ... 0. 0. 0.]\n",
            " [0. 0. 0. ... 0. 0. 0.]\n",
            " [0. 0. 0. ... 0. 0. 0.]\n",
            " ...\n",
            " [0. 0. 0. ... 0. 0. 0.]\n",
            " [0. 0. 0. ... 0. 0. 0.]\n",
            " [0. 0. 0. ... 0. 0. 0.]]\n"
          ]
        }
      ]
    },
    {
      "cell_type": "markdown",
      "source": [
        "Choosing Number of Steps : To determine number of steps, we will demonstrate convergency with step function"
      ],
      "metadata": {
        "id": "yT98MweFP1Ss"
      }
    },
    {
      "cell_type": "code",
      "source": [
        "price_array = []\n",
        "for N in [1, 10, 100, 200, 300, 400, 500, 600, 700, 800, 900, 1000, 1500, 2000, 2500,3000]:\n",
        "    price, call, S, delta = american_option(100, 90, 1, 0, 1.2, 0.8, N,'C')\n",
        "    price_array.append(price)\n",
        "    print(\"With N = {:3d}, the price is {:.2f}\".format(N, price))"
      ],
      "metadata": {
        "colab": {
          "base_uri": "https://localhost:8080/",
          "height": 0
        },
        "id": "dcfnD3wwQCNV",
        "outputId": "0e6f800b-5312-417d-95b2-15220d1169f8"
      },
      "execution_count": 53,
      "outputs": [
        {
          "output_type": "stream",
          "name": "stdout",
          "text": [
            "With N =   1, the price is 15.00\n",
            "With N =  10, the price is 29.38\n",
            "With N = 100, the price is 70.32\n",
            "With N = 200, the price is 85.40\n",
            "With N = 300, the price is 92.33\n",
            "With N = 400, the price is 95.84\n",
            "With N = 500, the price is 97.70\n",
            "With N = 600, the price is 98.71\n",
            "With N = 700, the price is 99.27\n",
            "With N = 800, the price is 99.58\n",
            "With N = 900, the price is 99.76\n",
            "With N = 1000, the price is 99.86\n",
            "With N = 1500, the price is 99.99\n",
            "With N = 2000, the price is 100.00\n",
            "With N = 2500, the price is 100.00\n",
            "With N = 3000, the price is 100.00\n"
          ]
        }
      ]
    },
    {
      "cell_type": "code",
      "source": [
        "import matplotlib.pyplot as plt\n",
        "\n",
        "N = [1, 10, 100, 200, 300, 400, 500, 600, 700, 800, 900, 1000, 1500, 2000, 2500,3000]\n",
        "plt.plot(N, np.array(price_array))\n",
        "plt.title(\"Convergency with steps\")\n",
        "plt.xlabel(\"Number of steps (N)\")\n",
        "plt.ylabel(\"Option Price\")\n",
        "plt.grid(True)\n",
        "plt.show()"
      ],
      "metadata": {
        "colab": {
          "base_uri": "https://localhost:8080/",
          "height": 472
        },
        "id": "48uKvGaYT6Ov",
        "outputId": "8123bfd9-6e70-46d9-88e8-265fd76db3a2"
      },
      "execution_count": 55,
      "outputs": [
        {
          "output_type": "display_data",
          "data": {
            "text/plain": [
              "<Figure size 640x480 with 1 Axes>"
            ],
            "image/png": "[encoded data removed]"
          },
          "metadata": {}
        }
      ]
    },
    {
      "cell_type": "markdown",
      "source": [
        "Doing same with American put Option"
      ],
      "metadata": {
        "id": "eFHj209TcF7B"
      }
    },
    {
      "cell_type": "code",
      "source": [
        "S_ini = 100\n",
        "r =0.5\n",
        "sigma =0.2\n",
        "T =3/12\n",
        "K =100\n",
        "N=50"
      ],
      "metadata": {
        "id": "fOK2YRGYcZXQ"
      },
      "execution_count": 57,
      "outputs": []
    },
    {
      "cell_type": "code",
      "source": [
        "price, put, S, delta = american_option(100,100,T,0.5,u,d,N,'P')\n",
        "print(\"Underlying: \\n\", S)\n",
        "print(\"Call Price: \\n\", call)\n",
        "print(\"Delta: \\n\", delta)"
      ],
      "metadata": {
        "colab": {
          "base_uri": "https://localhost:8080/",
          "height": 0
        },
        "id": "tcZCwlJgcICV",
        "outputId": "d27f0b9f-affb-4a40-f2f0-2e89d9abf77c"
      },
      "execution_count": 58,
      "outputs": [
        {
          "output_type": "stream",
          "name": "stdout",
          "text": [
            "Underlying: \n",
            " [[100.           0.           0.         ...   0.           0.\n",
            "    0.        ]\n",
            " [ 98.59573946 101.42426087   0.         ...   0.           0.\n",
            "    0.        ]\n",
            " [ 97.2111984  100.         102.86880693 ...   0.           0.\n",
            "    0.        ]\n",
            " ...\n",
            " [ 50.72138802  52.17648671  53.67332938 ... 197.15548787   0.\n",
            "    0.        ]\n",
            " [ 50.00912758  51.4437929   52.919616   ... 194.38691115 199.96349633\n",
            "    0.        ]\n",
            " [ 49.30686914  50.72138802  52.17648671 ... 191.65721247 197.15548787\n",
            "  202.81149816]]\n",
            "Call Price: \n",
            " [[9.99999968e+001 0.00000000e+000 0.00000000e+000 ... 0.00000000e+000\n",
            "  0.00000000e+000 0.00000000e+000]\n",
            " [7.99999971e+001 1.19999996e+002 0.00000000e+000 ... 0.00000000e+000\n",
            "  0.00000000e+000 0.00000000e+000]\n",
            " [6.39999974e+001 9.59999968e+001 1.43999996e+002 ... 0.00000000e+000\n",
            "  0.00000000e+000 0.00000000e+000]\n",
            " ...\n",
            " [0.00000000e+000 0.00000000e+000 0.00000000e+000 ... 2.42870994e+239\n",
            "  0.00000000e+000 0.00000000e+000]\n",
            " [0.00000000e+000 0.00000000e+000 0.00000000e+000 ... 1.94296795e+239\n",
            "  2.91445193e+239 0.00000000e+000]\n",
            " [0.00000000e+000 0.00000000e+000 0.00000000e+000 ... 1.55437436e+239\n",
            "  2.33156155e+239 3.49734232e+239]]\n",
            "Delta: \n",
            " [[0. 0. 0. ... 0. 0. 0.]\n",
            " [0. 0. 0. ... 0. 0. 0.]\n",
            " [0. 0. 0. ... 0. 0. 0.]\n",
            " ...\n",
            " [0. 0. 0. ... 0. 0. 0.]\n",
            " [0. 0. 0. ... 0. 0. 0.]\n",
            " [0. 0. 0. ... 0. 0. 0.]]\n"
          ]
        }
      ]
    },
    {
      "cell_type": "code",
      "source": [
        "price_array = []\n",
        "for N in [1, 10, 100, 200, 300, 400, 500, 600, 700, 800, 900, 1000, 1500, 2000, 2500,3000]:\n",
        "    price, put, S, delta = american_option(100, 90, 1, 0, 1.2, 0.8, N,'P')\n",
        "    price_array.append(price)\n",
        "    print(\"With N = {:3d}, the price is {:.2f}\".format(N, price))"
      ],
      "metadata": {
        "colab": {
          "base_uri": "https://localhost:8080/",
          "height": 0
        },
        "id": "9UTakAM7cer6",
        "outputId": "6ba703fd-0e1f-4c5e-81b2-cf011849107f"
      },
      "execution_count": 59,
      "outputs": [
        {
          "output_type": "stream",
          "name": "stdout",
          "text": [
            "With N =   1, the price is 5.00\n",
            "With N =  10, the price is 19.38\n",
            "With N = 100, the price is 60.32\n",
            "With N = 200, the price is 75.40\n",
            "With N = 300, the price is 82.33\n",
            "With N = 400, the price is 85.84\n",
            "With N = 500, the price is 87.70\n",
            "With N = 600, the price is 88.71\n",
            "With N = 700, the price is 89.27\n",
            "With N = 800, the price is 89.58\n",
            "With N = 900, the price is 89.76\n",
            "With N = 1000, the price is 89.86\n",
            "With N = 1500, the price is 89.99\n",
            "With N = 2000, the price is 90.00\n",
            "With N = 2500, the price is 90.00\n",
            "With N = 3000, the price is 90.00\n"
          ]
        }
      ]
    },
    {
      "cell_type": "code",
      "source": [
        "import matplotlib.pyplot as plt\n",
        "\n",
        "N = [1, 10, 100, 200, 300, 400, 500, 600, 700, 800, 900, 1000, 1500, 2000, 2500,3000]\n",
        "plt.plot(N, np.array(price_array))\n",
        "plt.title(\"Convergency with steps\")\n",
        "plt.xlabel(\"Number of steps (N)\")\n",
        "plt.ylabel(\"Option Put Price\")\n",
        "plt.grid(True)\n",
        "plt.show()"
      ],
      "metadata": {
        "colab": {
          "base_uri": "https://localhost:8080/",
          "height": 472
        },
        "id": "oDZnmb9JcmPi",
        "outputId": "7042c21d-96a0-4866-d058-21747a07323a"
      },
      "execution_count": 60,
      "outputs": [
        {
          "output_type": "display_data",
          "data": {
            "text/plain": [
              "<Figure size 640x480 with 1 Axes>"
            ],
            "image/png": "[encoded data removed]"
          },
          "metadata": {}
        }
      ]
    },
    {
      "cell_type": "markdown",
      "source": [
        "9.A Compute Greek Delta for the European call and European Put options"
      ],
      "metadata": {
        "id": "tbqNDD9Pg8hK"
      }
    },
    {
      "cell_type": "code",
      "source": [
        "def american_call_option_delta(S_ini, K, T, r, u, d, N):\n",
        "    dt = T / N  # Define time step\n",
        "    p = (np.exp(r * dt) - d) / (u - d)  # Risk-neutral probabilities\n",
        "    C = np.zeros([N + 1, N + 1])  # Call prices\n",
        "    S = np.zeros([N + 1, N + 1])  # Underlying prices\n",
        "    Delta = np.zeros([N, N])  # Delta\n",
        "\n",
        "    # Compute stock prices and option values at maturity\n",
        "    for i in range(N + 1):\n",
        "        S[N, i] = S_ini * (u ** i) * (d ** (N - i))\n",
        "        C[N, i] = max(S[N, i] - K, 0)  # Payoff for call option at maturity\n",
        "\n",
        "    # Backward induction to compute option prices and deltas at earlier nodes\n",
        "    for j in range(N - 1, -1, -1):\n",
        "        for i in range(j + 1):\n",
        "            S[j, i] = S_ini * (u ** i) * (d ** (j - i))\n",
        "            hold_value = np.exp(-r * dt) * (p * C[j + 1, i + 1] + (1 - p) * C[j + 1, i])\n",
        "            exercise_value = max(S[j, i] - K, 0)\n",
        "            C[j, i] = max(hold_value, exercise_value)\n",
        "            Delta[j, i] = (C[j + 1, i + 1] - C[j + 1, i]) / (S[j + 1, i + 1] - S[j + 1, i])\n",
        "\n",
        "    return C[0, 0], Delta[0, 0]\n"
      ],
      "metadata": {
        "id": "poF12ptzhEp3"
      },
      "execution_count": 62,
      "outputs": []
    },
    {
      "cell_type": "code",
      "source": [
        "S_ini = 100\n",
        "r =0.5\n",
        "sigma =0.2\n",
        "T =3/12\n",
        "K =100\n",
        "N=50"
      ],
      "metadata": {
        "id": "QXb_77y3hmcY"
      },
      "execution_count": 63,
      "outputs": []
    },
    {
      "cell_type": "code",
      "source": [
        "dt = T / N\n",
        "u = np.exp(sigma * np.sqrt(dt))\n",
        "d = 1 / u"
      ],
      "metadata": {
        "id": "Jd4tILlAhsMh"
      },
      "execution_count": 64,
      "outputs": []
    },
    {
      "cell_type": "code",
      "source": [
        "call_price, delta = american_call_option_delta(S_ini, K, T, r, u, d, N)"
      ],
      "metadata": {
        "id": "h8SnhKiShv-q"
      },
      "execution_count": 65,
      "outputs": []
    },
    {
      "cell_type": "code",
      "source": [
        "print(\"American Call Option Price: \", call_price)\n",
        "print(\"Delta: \", delta)"
      ],
      "metadata": {
        "colab": {
          "base_uri": "https://localhost:8080/",
          "height": 0
        },
        "id": "qW5Q0NPEhxaT",
        "outputId": "62066378-cf95-45be-b944-110a8dbc4988"
      },
      "execution_count": 66,
      "outputs": [
        {
          "output_type": "stream",
          "name": "stdout",
          "text": [
            "American Call Option Price:  12.203282178073941\n",
            "Delta:  0.9037182759041297\n"
          ]
        }
      ]
    },
    {
      "cell_type": "markdown",
      "source": [
        "American Put Option"
      ],
      "metadata": {
        "id": "PMjClLSYiFg2"
      }
    },
    {
      "cell_type": "code",
      "source": [
        "def american_put_option_delta(S_ini, K, T, r, u, d, N):\n",
        "    dt = T / N  # Define time step\n",
        "    p = (np.exp(r * dt) - d) / (u - d)  # Risk-neutral probabilities\n",
        "    P = np.zeros([N + 1, N + 1])  # Put prices\n",
        "    S = np.zeros([N + 1, N + 1])  # Underlying prices\n",
        "    Delta = np.zeros([N, N])  # Delta\n",
        "\n",
        "    # Compute stock prices and option values at maturity\n",
        "    for i in range(N + 1):\n",
        "        S[N, i] = S_ini * (u ** i) * (d ** (N - i))\n",
        "        P[N, i] = max(K - S[N, i], 0)  # Payoff for put option at maturity\n",
        "\n",
        "    # Backward induction to compute option prices and deltas at earlier nodes\n",
        "    for j in range(N - 1, -1, -1):\n",
        "        for i in range(j + 1):\n",
        "            S[j, i] = S_ini * (u ** i) * (d ** (j - i))\n",
        "            hold_value = np.exp(-r * dt) * (p * P[j + 1, i + 1] + (1 - p) * P[j + 1, i])\n",
        "            exercise_value = max(K - S[j, i], 0)\n",
        "            P[j, i] = max(hold_value, exercise_value)\n",
        "            Delta[j, i] = (P[j + 1, i + 1] - P[j + 1, i]) / (S[j + 1, i + 1] - S[j + 1, i])\n",
        "\n",
        "    return P[0, 0], Delta[0, 0]"
      ],
      "metadata": {
        "id": "XHMTZ72DiG1H"
      },
      "execution_count": 67,
      "outputs": []
    },
    {
      "cell_type": "code",
      "source": [
        "put_price, delta = american_put_option_delta(S_ini, K, T, r, u, d, N)"
      ],
      "metadata": {
        "id": "0ab3eZ9TiMts"
      },
      "execution_count": 68,
      "outputs": []
    },
    {
      "cell_type": "code",
      "source": [
        "print(\"American Put Option Price: \", put_price)\n",
        "print(\"Delta: \", delta)"
      ],
      "metadata": {
        "colab": {
          "base_uri": "https://localhost:8080/",
          "height": 0
        },
        "id": "IROjtXy1iOBs",
        "outputId": "b04fabf2-9400-43b7-ef1d-5a53fe095583"
      },
      "execution_count": 69,
      "outputs": [
        {
          "output_type": "stream",
          "name": "stdout",
          "text": [
            "American Put Option Price:  1.350344738976\n",
            "Delta:  -0.37379742746043\n"
          ]
        }
      ]
    },
    {
      "cell_type": "markdown",
      "source": [
        "10. Sensitivty computation"
      ],
      "metadata": {
        "id": "lD6hB8tubccZ"
      }
    },
    {
      "cell_type": "code",
      "source": [
        "import numpy as np\n",
        "\n",
        "# Defining the American Call Option Price\n",
        "def binomial_tree_call_american(S_ini, K, T, r, u, d, N):\n",
        "    dt = T / N  # Time step\n",
        "    p = (np.exp(r * dt) - d) / (u - d)  # Risk-neutral probabilities\n",
        "    C = np.zeros([N + 1, N + 1])  # Call prices\n",
        "\n",
        "    for i in range(N + 1):\n",
        "        C[N, i] = max(S_ini * (u ** i) * (d ** (N - i)) - K, 0)\n",
        "\n",
        "    for j in range(N - 1, -1, -1):\n",
        "        for i in range(j + 1):\n",
        "            early_exercise = max(S_ini * (u ** i) * (d ** (j - i)) - K, 0)\n",
        "            hold = np.exp(-r * dt) * (p * C[j + 1, i + 1] + (1 - p) * C[j + 1, i])\n",
        "            C[j, i] = max(early_exercise, hold)\n",
        "\n",
        "    return C[0, 0]\n",
        "\n",
        "# Defining the American Put Option Price\n",
        "def binomial_tree_put_american(S_ini, K, T, r, u, d, N):\n",
        "    dt = T / N  # Time step\n",
        "    p = (np.exp(r * dt) - d) / (u - d)  # Risk-neutral probabilities\n",
        "    P = np.zeros([N + 1, N + 1])  # Put prices\n",
        "\n",
        "    for i in range(N + 1):\n",
        "        P[N, i] = max(K - (S_ini * (u ** i) * (d ** (N - i))), 0)\n",
        "\n",
        "    for j in range(N - 1, -1, -1):\n",
        "        for i in range(j + 1):\n",
        "            early_exercise = max(K - (S_ini * (u ** i) * (d ** (j - i))), 0)\n",
        "            hold = np.exp(-r * dt) * (p * P[j + 1, i + 1] + (1 - p) * P[j + 1, i])\n",
        "            P[j, i] = max(early_exercise, hold)\n",
        "\n",
        "    return P[0, 0]\n",
        "\n",
        "# Defining function to calculate the Vega for Call and Put Options\n",
        "def vega_sensitivity_american(S_ini, K, T, r, sigma1, sigma2, N):\n",
        "    dt = T / N # Define time Step\n",
        "    u1 = np.exp(sigma1 * np.sqrt(dt)) # Up factor for initial volatility\n",
        "    d1 = 1 / u1 # Down factor for initial volatility\n",
        "    u2 = np.exp((sigma1 + sigma2) * np.sqrt(dt)) # Up factor for increased volatility\n",
        "    d2 = 1 / u2 # Down factor for increased volatility\n",
        "\n",
        "    # Calculating the American Call and Put Options Prices\n",
        "    call_price_sigma1 = binomial_tree_call_american(S_ini, K, T, r, u1, d1, N)\n",
        "    put_price_sigma1 = binomial_tree_put_american(S_ini, K, T, r, u1, d1, N)\n",
        "\n",
        "    call_price_sigma2 = binomial_tree_call_american(S_ini, K, T, r, u2, d2, N)\n",
        "    put_price_sigma2 = binomial_tree_put_american(S_ini, K, T, r, u2, d2, N)\n",
        "\n",
        "    # Calculating Sensitivities\n",
        "    call_vega_sensitivity = (call_price_sigma2 - call_price_sigma1) / sigma2\n",
        "    put_vega_sensitivity = (put_price_sigma2 - put_price_sigma1) / sigma2\n",
        "\n",
        "    return call_vega_sensitivity, put_vega_sensitivity\n",
        "\n",
        "# Parameter\n",
        "S_ini = 100\n",
        "K = 100\n",
        "r = 0.05\n",
        "T = 3 / 12 # Month in year\n",
        "N = 50 # Number of time steps\n",
        "\n",
        "# A 5% increase in volatility (from 20% to 25%)\n",
        "sigma1 = 0.20\n",
        "sigma2 = 0.05 # Increment in volatility\n",
        "\n",
        "# Computing Vega Sensitivities\n",
        "call_vega_sensitivity, put_vega_sensitivity = vega_sensitivity_american(S_ini, K, T, r, sigma1, sigma2, N)\n",
        "\n",
        "print(\"Vega Sensitivity of the Call Option Price: {:.2f}\".format(call_vega_sensitivity))\n",
        "print(\"Vega Sensitivity of the Put Option Price: {:.2f}\".format(put_vega_sensitivity))\n"
      ],
      "metadata": {
        "colab": {
          "base_uri": "https://localhost:8080/",
          "height": 0
        },
        "id": "HjDHl6Ffbflz",
        "outputId": "7818ffe6-8f9f-4fb9-c023-f89810f0df92"
      },
      "execution_count": 1,
      "outputs": [
        {
          "output_type": "stream",
          "name": "stdout",
          "text": [
            "Vega Sensitivity of the Call Option Price: 19.57\n",
            "Vega Sensitivity of the Put Option Price: 19.53\n"
          ]
        }
      ]
    },
    {
      "cell_type": "markdown",
      "source": [
        "Step 2"
      ],
      "metadata": {
        "id": "7PTN9qXdpuXF"
      }
    },
    {
      "cell_type": "markdown",
      "source": [
        "European Option using Trinomial Tree"
      ],
      "metadata": {
        "id": "cccEVLidpx_C"
      }
    },
    {
      "cell_type": "code",
      "source": [
        "import numpy as np\n",
        "\n",
        "def american_option_trinomial(S0, K, T, r, sigma, N, option_type='call'):\n",
        "    # Calculate parameters\n",
        "    dt = T / N\n",
        "    u = np.exp(sigma * np.sqrt(2 * dt))\n",
        "    d = 1 / u\n",
        "    m = 1\n",
        "\n",
        "    pu = ((np.exp((r - 0.5 * sigma**2) * dt / 2) - np.exp(-sigma * np.sqrt(dt / 2))) /\n",
        "          (np.exp(sigma * np.sqrt(dt / 2)) - np.exp(-sigma * np.sqrt(dt / 2))))**2\n",
        "    pd = ((np.exp(sigma * np.sqrt(dt / 2)) - np.exp((r - 0.5 * sigma**2) * dt / 2)) /\n",
        "          (np.exp(sigma * np.sqrt(dt / 2)) - np.exp(-sigma * np.sqrt(dt / 2))))**2\n",
        "    pm = 1 - pu - pd\n",
        "\n",
        "    discount = np.exp(-r * dt)\n",
        "\n",
        "    # Initialize asset prices at maturity\n",
        "    asset_prices = np.zeros((2 * N + 1, N + 1))\n",
        "    asset_prices[N, 0] = S0\n",
        "\n",
        "    for i in range(1, N + 1):\n",
        "        for j in range(N - i, N + i + 1, 2):\n",
        "            asset_prices[j, i] = S0 * (u ** ((j - N + i) // 2)) * (d ** ((N + i - j) // 2))\n",
        "\n",
        "    # Initialize option values at maturity\n",
        "    option_values = np.zeros((2 * N + 1, N + 1))\n",
        "\n",
        "    if option_type == 'call':\n",
        "        option_values[:, N] = np.maximum(0, asset_prices[:, N] - K)\n",
        "    elif option_type == 'put':\n",
        "        option_values[:, N] = np.maximum(0, K - asset_prices[:, N])\n",
        "\n",
        "    # Backward induction for the possibility of early exercise\n",
        "    for i in range(N - 1, -1, -1):\n",
        "        for j in range(N - i, N + i + 1, 2):\n",
        "            hold_value = (pu * option_values[j - 1, i + 1] +\n",
        "                          pm * option_values[j, i + 1] +\n",
        "                          pd * option_values[j + 1, i + 1]) * discount\n",
        "            if option_type == 'call':\n",
        "                exercise_value = max(0, asset_prices[j, i] - K)\n",
        "            elif option_type == 'put':\n",
        "                exercise_value = max(0, K - asset_prices[j, i])\n",
        "            option_values[j, i] = max(hold_value, exercise_value)\n",
        "\n",
        "    return option_values[N, 0]\n",
        "\n",
        "# Example usage\n",
        "S0 = 100  # Initial stock price\n",
        "K_arr = [90,95,100,105,110]   # Different strike prices for Deep OTM, OTM, ATM, ITM, and Deep ITM\n",
        "T = 1     # Time to maturity (in years)\n",
        "r = 0.05  # Risk-free rate\n",
        "sigma = 0.2  # Volatility\n",
        "N = 50    # Number of time steps\n",
        "\n",
        "for K in K_arr:\n",
        "    call_price = american_option_trinomial(S0, K, T, r, sigma, N, option_type='call')\n",
        "    put_price = american_option_trinomial(S0, K, T, r, sigma, N, option_type='put')\n",
        "    print(f\"European Call Option Price for K = {K}: {np.round(call_price, 2)}\")\n",
        ""
      ],
      "metadata": {
        "colab": {
          "base_uri": "https://localhost:8080/",
          "height": 0
        },
        "id": "f6-Ay19d1IFY",
        "outputId": "c3769e27-9b6b-44d3-b0b2-57afd30f6d4f"
      },
      "execution_count": 40,
      "outputs": [
        {
          "output_type": "stream",
          "name": "stdout",
          "text": [
            "European Call Option Price for K = 90: 10.0\n",
            "European Call Option Price for K = 95: 5.0\n",
            "European Call Option Price for K = 100: 1.08\n",
            "European Call Option Price for K = 105: 0.23\n",
            "European Call Option Price for K = 110: 0.05\n"
          ]
        }
      ]
    },
    {
      "cell_type": "code",
      "source": [
        "import numpy as np\n",
        "\n",
        "def american_option_trinomial(S0, K, T, r, sigma, N, option_type='call'):\n",
        "    # Calculate parameters\n",
        "    dt = T / N\n",
        "    u = np.exp(sigma * np.sqrt(2 * dt))\n",
        "    d = 1 / u\n",
        "    m = 1\n",
        "\n",
        "    pu = ((np.exp((r - 0.5 * sigma**2) * dt / 2) - np.exp(-sigma * np.sqrt(dt / 2))) /\n",
        "          (np.exp(sigma * np.sqrt(dt / 2)) - np.exp(-sigma * np.sqrt(dt / 2))))**2\n",
        "    pd = ((np.exp(sigma * np.sqrt(dt / 2)) - np.exp((r - 0.5 * sigma**2) * dt / 2)) /\n",
        "          (np.exp(sigma * np.sqrt(dt / 2)) - np.exp(-sigma * np.sqrt(dt / 2))))**2\n",
        "    pm = 1 - pu - pd\n",
        "\n",
        "    discount = np.exp(-r * dt)\n",
        "\n",
        "    # Initialize asset prices at maturity\n",
        "    asset_prices = np.zeros((2 * N + 1, N + 1))\n",
        "    asset_prices[N, 0] = S0\n",
        "\n",
        "    for i in range(1, N + 1):\n",
        "        for j in range(N - i, N + i + 1, 2):\n",
        "            asset_prices[j, i] = S0 * (u ** ((j - N + i) // 2)) * (d ** ((N + i - j) // 2))\n",
        "\n",
        "    # Initialize option values at maturity\n",
        "    option_values = np.zeros((2 * N + 1, N + 1))\n",
        "\n",
        "    if option_type == 'call':\n",
        "        option_values[:, N] = np.maximum(0, asset_prices[:, N] - K)\n",
        "    elif option_type == 'put':\n",
        "        option_values[:, N] = np.maximum(0, K - asset_prices[:, N])\n",
        "\n",
        "    # Backward induction for the possibility of early exercise\n",
        "    for i in range(N - 1, -1, -1):\n",
        "        for j in range(N - i, N + i + 1, 2):\n",
        "            hold_value = (pu * option_values[j - 1, i + 1] +\n",
        "                          pm * option_values[j, i + 1] +\n",
        "                          pd * option_values[j + 1, i + 1]) * discount\n",
        "            if option_type == 'call':\n",
        "                exercise_value = max(0, asset_prices[j, i] - K)\n",
        "            elif option_type == 'put':\n",
        "                exercise_value = max(0, K - asset_prices[j, i])\n",
        "            option_values[j, i] = max(hold_value, exercise_value)\n",
        "\n",
        "    return option_values[N, 0]\n",
        "\n",
        "# Example usage\n",
        "S0 = 100  # Initial stock price\n",
        "K_arr = [90,95,100,105,110]   # Different strike prices for Deep OTM, OTM, ATM, ITM, and Deep ITM\n",
        "T = 1     # Time to maturity (in years)\n",
        "r = 0.05  # Risk-free rate\n",
        "sigma = 0.2  # Volatility\n",
        "N = 50    # Number of time steps\n",
        "\n",
        "for K in K_arr:\n",
        "    call_price = american_option_trinomial(S0, K, T, r, sigma, N, option_type='call')\n",
        "    put_price = american_option_trinomial(S0, K, T, r, sigma, N, option_type='put')\n",
        "    print(f\"European put Option Price for K = {K}: {np.round(put_price, 2)}\")"
      ],
      "metadata": {
        "colab": {
          "base_uri": "https://localhost:8080/",
          "height": 0
        },
        "id": "iMc2ZWYn2lgI",
        "outputId": "64ca225a-0103-4345-e6f3-7f109419f3c1"
      },
      "execution_count": 44,
      "outputs": [
        {
          "output_type": "stream",
          "name": "stdout",
          "text": [
            "European put Option Price for K = 90: 0.03\n",
            "European put Option Price for K = 95: 0.2\n",
            "European put Option Price for K = 100: 1.06\n",
            "European put Option Price for K = 105: 5.0\n",
            "European put Option Price for K = 110: 10.0\n"
          ]
        }
      ]
    },
    {
      "cell_type": "markdown",
      "source": [
        "American put Option with Dynamic Delta Hedging"
      ],
      "metadata": {
        "id": "u57dIRKqndEG"
      }
    },
    {
      "cell_type": "code",
      "source": [
        "import numpy as np"
      ],
      "metadata": {
        "id": "U12-9ekFntvs"
      },
      "execution_count": 2,
      "outputs": []
    },
    {
      "cell_type": "code",
      "source": [
        "def american_option(S_ini, K, T, r, u, d, N, opttype):\n",
        "    dt = T / N  # Define time step\n",
        "    p = (np.exp(r * dt) - d) / (u - d)  # risk neutral probs\n",
        "    C = np.zeros([N + 1, N + 1])  # call prices\n",
        "    S = np.zeros([N + 1, N + 1])  # underlying price\n",
        "\n",
        "    for i in range(0, N + 1):\n",
        "        S[N, i] = S_ini * (u ** (i)) * (d ** (N - i))\n",
        "        if opttype == \"C\":\n",
        "            C[N, i] = max(S[N, i] - K, 0)\n",
        "        else:\n",
        "            C[N, i] = max(K - S[N, i], 0)\n",
        "\n",
        "    for j in range(N - 1, -1, -1):\n",
        "        for i in range(0, j + 1):\n",
        "            C[j, i] = np.exp(-r * dt) * (\n",
        "                p * C[j + 1, i + 1] + (1 - p) * C[j + 1, i]\n",
        "            )  # Computing the European option prices\n",
        "            S[j, i] = (\n",
        "                S_ini * (u ** (i)) * (d ** (j - i))\n",
        "            )  # Underlying evolution for each node\n",
        "            if opttype == \"C\":\n",
        "                C[j, i] = max(\n",
        "                    C[j, i], S[j, i] - K\n",
        "                )  # Decision between the European option price and the payoff from early-exercise\n",
        "            else:\n",
        "                C[j, i] = max(\n",
        "                    C[j, i], K - S[j, i]\n",
        "                )  # Decision between the European option price and the payoff from early-exercise\n",
        "\n",
        "    return C[0, 0], C, S\n",
        "\n",
        "S_ini = 180  # Initial stock price\n",
        "K = 182      # Strike price\n",
        "T = 0.5        # Time to maturity (in years)\n",
        "r = 0.02     # Risk-free rate\n",
        "sigma = 0.25  # Volatility\n",
        "N = 3       # Number of time steps\n",
        "u = np.exp(sigma * np.sqrt(T/N))\n",
        "d = np.exp(-sigma * np.sqrt(T/N))\n",
        "\n",
        "put_price, P, S = american_option(180, 182, 0.5, 0.02, u, d, 3, opttype=\"P\")\n",
        "print(\"American put price at t=0 is\", np.round(put_price, 2))\n",
        "print(\"Asset prices in the tree:\\n\", np.round(S, 2))\n",
        "print(\"American put prices in the tree:\\n\", np.round(P, 2))"
      ],
      "metadata": {
        "colab": {
          "base_uri": "https://localhost:8080/"
        },
        "id": "KxRUWHgXngdH",
        "outputId": "be90960a-182a-4065-a45d-8a3e0892b41b"
      },
      "execution_count": 3,
      "outputs": [
        {
          "output_type": "stream",
          "name": "stdout",
          "text": [
            "American put price at t=0 is 13.98\n",
            "Asset prices in the tree:\n",
            " [[180.     0.     0.     0.  ]\n",
            " [162.54 199.34   0.     0.  ]\n",
            " [146.77 180.   220.76   0.  ]\n",
            " [132.52 162.54 199.34 244.48]]\n",
            "American put prices in the tree:\n",
            " [[13.98  0.    0.    0.  ]\n",
            " [22.71  5.01  0.    0.  ]\n",
            " [35.23  9.88  0.    0.  ]\n",
            " [49.48 19.46  0.    0.  ]]\n"
          ]
        }
      ]
    },
    {
      "cell_type": "code",
      "source": [
        "## Delta = [P_u -P_d]/[S_u - S_d]"
      ],
      "metadata": {
        "id": "ZWt77ZqdoAsr"
      },
      "execution_count": 4,
      "outputs": []
    },
    {
      "cell_type": "code",
      "source": [
        "delta_0 = np.round((5.01-22.71)/(199.34 - 162.53), 2)\n",
        "delta_1 = np.round((0-9.88)/(220.76 - 180.00), 2)\n",
        "delta_2 = np.round((0-0)/(244.48 - 199.34), 2)\n",
        "\n",
        "print(\"delta at t=0:\", delta_0)\n",
        "print(\"delta at t=1:\", delta_1)\n",
        "print(\"delta at t=2:\", delta_2)"
      ],
      "metadata": {
        "colab": {
          "base_uri": "https://localhost:8080/"
        },
        "id": "29bh2IiKoQHh",
        "outputId": "6571880d-0161-454e-921f-51d7c1d4b11f"
      },
      "execution_count": 5,
      "outputs": [
        {
          "output_type": "stream",
          "name": "stdout",
          "text": [
            "delta at t=0: -0.48\n",
            "delta at t=1: -0.24\n",
            "delta at t=2: 0.0\n"
          ]
        }
      ]
    }
  ]
}