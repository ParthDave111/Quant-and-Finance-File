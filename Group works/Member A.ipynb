{
  "cells": [
    {
      "cell_type": "code",
      "execution_count": null,
      "id": "4566ff8d",
      "metadata": {
        "id": "4566ff8d"
      },
      "outputs": [],
      "source": [
        "# Importing libraries\n",
        "import numpy as np\n",
        "from scipy.stats import norm"
      ]
    },
    {
      "cell_type": "markdown",
      "id": "f122e027",
      "metadata": {
        "id": "f122e027"
      },
      "source": [
        "Computing European Call and Put Options Prices using a binomial tree"
      ]
    },
    {
      "cell_type": "code",
      "execution_count": null,
      "id": "c02272c9",
      "metadata": {
        "id": "c02272c9"
      },
      "outputs": [],
      "source": [
        "# Defining European Call Option in Bionomial Tree funtion\n",
        "def binomial_tree_call(S_ini, K, T, r, u, d, N):\n",
        "    dt = T / N # Defining time step\n",
        "    p = (np.exp(r * dt) - d) / (u - d) # Risk-neutral probabilities\n",
        "    C = np.zeros([N + 1, N + 1]) #  Call prices\n",
        "    S = np.zeros([N + 1, N + 1]) # Underlying price\n",
        "\n",
        "    for i in range(0, N + 1):\n",
        "        C[N, i] = max(S_ini * (u ** (i)) * (d ** (N - i)) -K, 0)\n",
        "        S[N, i] = S_ini * (u ** (i)) * (d ** (N - i))\n",
        "\n",
        "    for j in range(N - 1, -1, -1):\n",
        "        for i in range(0, j + 1):\n",
        "            C[j, i] = np.exp(-r * dt) * (p * C[j + 1, i + 1] + (1 - p) * C[j + 1, i])\n",
        "            S[j, i] = S_ini * (u ** (i)) * (d ** (j - i))\n",
        "    return C[0, 0], C, S"
      ]
    },
    {
      "cell_type": "code",
      "execution_count": null,
      "id": "58e79b0e",
      "metadata": {
        "id": "58e79b0e"
      },
      "outputs": [],
      "source": [
        "# Defining European Put Option in Bionomial Tree funtion\n",
        "def binomial_tree_put(S_ini, K, T, r, u, d, N):\n",
        "    dt = T / N # Defining time step\n",
        "    p = (np.exp(r * dt) - d) / (u - d) # Risk-neutral probabilities\n",
        "    P = np.zeros([N + 1, N + 1]) #  Put prices\n",
        "    S = np.zeros([N + 1, N + 1]) # Underlying price\n",
        "\n",
        "    for i in range(0, N + 1):\n",
        "        P[N, i] = max(K - (S_ini * (u ** (i)) * (d ** (N - i))), 0)\n",
        "        S[N, i] = S_ini * (u ** (i)) * (d ** (N - i))\n",
        "\n",
        "    for j in range(N - 1, -1, -1):\n",
        "        for i in range(0, j + 1):\n",
        "            P[j, i] = np.exp(-r * dt) * (p * P[j + 1, i + 1] + (1 - p) * P[j + 1, i])\n",
        "            S[j, i] = S_ini * (u ** (i)) * (d ** (j - i))\n",
        "    return P[0, 0], P, S"
      ]
    },
    {
      "cell_type": "code",
      "execution_count": null,
      "id": "848dfb52",
      "metadata": {
        "id": "848dfb52",
        "outputId": "72a6bf97-3596-4d27-9c02-81ab3b106834"
      },
      "outputs": [
        {
          "name": "stdout",
          "output_type": "stream",
          "text": [
            "European Call Option Price: 4.60\n",
            "European Put Option Price: 3.35\n"
          ]
        }
      ],
      "source": [
        "# Parameters\n",
        "S_ini = 100\n",
        "r = 0.05\n",
        "sigma = 0.2\n",
        "T = 3/12 # Months in year\n",
        "K = 100 # At the money (ATM) strike price\n",
        "N = 50 # Number of time steps\n",
        "\n",
        "dt = T / N # Length of one time step\n",
        "u = np.exp(sigma * np.sqrt(dt)) # Up factor\n",
        "d = np.exp(-sigma * np.sqrt(dt)) # Down factor\n",
        "\n",
        "european_call_price, C, S = binomial_tree_call(S_ini, K, T, r, u, d, N)\n",
        "european_put_price, P, S = binomial_tree_put(S_ini, K, T, r, u, d, N)\n",
        "\n",
        "print(\"European Call Option Price: {:.2f}\".format(european_call_price))\n",
        "print(\"European Put Option Price: {:.2f}\".format(european_put_price))"
      ]
    },
    {
      "cell_type": "markdown",
      "id": "ac02a748",
      "metadata": {
        "id": "ac02a748"
      },
      "source": [
        "Computing the Greek Delta for the European call and European put at time 0"
      ]
    },
    {
      "cell_type": "code",
      "execution_count": null,
      "id": "f634cca6",
      "metadata": {
        "id": "f634cca6"
      },
      "outputs": [],
      "source": [
        "# Defining the Greek Delta for the European Call function\n",
        "def call_option_delta(S_ini, K, T, r, u, d, N):\n",
        "    dt = T / N  # Define time step\n",
        "    p = (np.exp(r * dt) - d) / (u - d) # Risk neutral probabilities\n",
        "    C = np.zeros([N + 1, N + 1])  # Call prices\n",
        "    S = np.zeros([N + 1, N + 1])  # Underlying price\n",
        "    Delta = np.zeros([N, N])  # Delta\n",
        "\n",
        "    for i in range(0, N + 1):\n",
        "        C[N, i] = max(S_ini * (u ** (i)) * (d ** (N - i)) - K, 0)\n",
        "        S[N, i] = S_ini * (u ** (i)) * (d ** (N - i))\n",
        "\n",
        "    for j in range(N - 1, -1, -1):\n",
        "        for i in range(0, j + 1):\n",
        "            C[j, i] = np.exp(-r * dt) * (p * C[j + 1, i + 1] + (1 - p) * C[j + 1, i])\n",
        "            S[j, i] = S_ini * (u ** (i)) * (d ** (j - i))\n",
        "            Delta [j, i] = (C[j + 1, i + 1] - C[j + 1, i]) / (\n",
        "                S[j + 1, i + 1] - S[j + 1, i])\n",
        "\n",
        "    return C[0, 0], Delta[0, 0]"
      ]
    },
    {
      "cell_type": "code",
      "execution_count": null,
      "id": "380c8094",
      "metadata": {
        "id": "380c8094"
      },
      "outputs": [],
      "source": [
        "# Defining the Greek Delta for the Eupropean Put function\n",
        "def put_option_delta(S_ini, K, T, r, u, d, N):\n",
        "    dt = T / N  # Define time step\n",
        "    p = (np.exp(r * dt) - d) / (u - d) # Risk neutral probabilities\n",
        "    P = np.zeros([N + 1, N + 1])  # Put prices\n",
        "    S = np.zeros([N + 1, N + 1])  # Underlying price\n",
        "    Delta = np.zeros([N, N])  # Delta\n",
        "\n",
        "    for i in range(0, N + 1):\n",
        "        P[N, i] = max(K - (S_ini * (u ** (i)) * (d ** (N - i))), 0)\n",
        "        S[N, i] = S_ini * (u ** (i)) * (d ** (N - i))\n",
        "\n",
        "    for j in range(N - 1, -1, -1):\n",
        "        for i in range(0, j + 1):\n",
        "            P[j, i] = np.exp(-r * dt) * (p * P[j + 1, i + 1] + (1 - p) * P[j + 1, i])\n",
        "            S[j, i] = S_ini * (u ** (i)) * (d ** (j - i))\n",
        "            Delta [j, i] = (P[j + 1, i + 1] - P[j + 1, i]) / (\n",
        "                S[j + 1, i + 1] - S[j + 1, i])\n",
        "\n",
        "    return P[0, 0], Delta[0, 0]"
      ]
    },
    {
      "cell_type": "code",
      "execution_count": null,
      "id": "a13c70bc",
      "metadata": {
        "id": "a13c70bc",
        "outputId": "5e7fa47b-fa43-498e-8755-9ec1f6fc44cb"
      },
      "outputs": [
        {
          "name": "stdout",
          "output_type": "stream",
          "text": [
            "The Greek Delta for the European Call Option: 0.57\n",
            "The Greek Delta for the European Put Option: -0.43\n"
          ]
        }
      ],
      "source": [
        "# Calculating the Greek Delta for European Call and Put Options\n",
        "european_call_price, delta_call = call_option_delta(S_ini, K, T, r, u, d, N)\n",
        "european_put_price, delta_put = put_option_delta(S_ini, K, T, r, u, d, N)\n",
        "\n",
        "print(\"The Greek Delta for the European Call Option: {:.2f}\".format(delta_call))\n",
        "print(\"The Greek Delta for the European Put Option: {:.2f}\".format(delta_put))"
      ]
    },
    {
      "cell_type": "markdown",
      "id": "30e0fc7d",
      "metadata": {
        "id": "30e0fc7d"
      },
      "source": [
        "Computing the sensitivity of previous put and call option prices to a 5% increase in volatility (from 20% to 25%)."
      ]
    },
    {
      "cell_type": "code",
      "execution_count": null,
      "id": "45bd12aa",
      "metadata": {
        "id": "45bd12aa",
        "outputId": "5cb70385-55e9-42f0-a9e0-59ab69f5bff3"
      },
      "outputs": [
        {
          "name": "stdout",
          "output_type": "stream",
          "text": [
            "Vega Sensitivity of the Call Option Price: 19.57\n",
            "Vega Sensitivity of the Put Option Price: 19.57\n"
          ]
        }
      ],
      "source": [
        "# Defining the European Call Option Price\n",
        "def binomial_tree_call(S_ini, K, T, r, u, d, N):\n",
        "    dt = T / N  # Time step\n",
        "    p = (np.exp(r * dt) - d) / (u - d)  # Risk-neutral probabilities\n",
        "    C = np.zeros([N + 1, N + 1])  # Call prices\n",
        "\n",
        "    for i in range(N + 1):\n",
        "        C[N, i] = max(S_ini * (u ** i) * (d ** (N - i)) - K, 0)\n",
        "\n",
        "    for j in range(N - 1, -1, -1):\n",
        "        for i in range(j + 1):\n",
        "            C[j, i] = np.exp(-r * dt) * (p * C[j + 1, i + 1] + (1 - p) * C[j + 1, i])\n",
        "\n",
        "    return C[0, 0]\n",
        "\n",
        "# Defining the European Put Option Price\n",
        "def binomial_tree_put(S_ini, K, T, r, u, d, N):\n",
        "    dt = T / N  # Time step\n",
        "    p = (np.exp(r * dt) - d) / (u - d)  # Risk-neutral probabilities\n",
        "    P = np.zeros([N + 1, N + 1])  # Put prices\n",
        "\n",
        "    for i in range(N + 1):\n",
        "        P[N, i] = max(K - (S_ini * (u ** i) * (d ** (N - i))), 0)\n",
        "\n",
        "    for j in range(N - 1, -1, -1):\n",
        "        for i in range(j + 1):\n",
        "            P[j, i] = np.exp(-r * dt) * (p * P[j + 1, i + 1] + (1 - p) * P[j + 1, i])\n",
        "\n",
        "    return P[0, 0]\n",
        "\n",
        "# Defining function to calculate the Vega for Call and Put Options\n",
        "def vega_sensitivity(S_ini, K, T, r, sigma1, sigma2, N):\n",
        "    dt = T / N # Define time Step\n",
        "    u1 = np.exp(sigma1 * np.sqrt(dt)) # Up factor for initial volatility\n",
        "    d1 = 1 / u1 # Down factor for initial volatility\n",
        "    u2 = np.exp((sigma1 + sigma2) * np.sqrt(dt)) # Up factor for increased volatility\n",
        "    d2 = 1 / u2 # Down factor for increased volatility\n",
        "\n",
        "# Calculating the European Call and Put Options Prices\n",
        "    call_price_sigma1 = binomial_tree_call(S_ini, K, T, r, u1, d1, N)\n",
        "    put_price_sigma1 = binomial_tree_put(S_ini, K, T, r, u1, d1, N)\n",
        "\n",
        "    call_price_sigma2 = binomial_tree_call(S_ini, K, T, r, u2, d2, N)\n",
        "    put_price_sigma2 = binomial_tree_put(S_ini, K, T, r, u2, d2, N)\n",
        "\n",
        "# Calculating Sensitivities\n",
        "    call_vega_sensitivity = (call_price_sigma2 - call_price_sigma1) / sigma2\n",
        "    put_vega_sensitivity = (put_price_sigma2 - put_price_sigma1) / sigma2\n",
        "\n",
        "    return call_vega_sensitivity, put_vega_sensitivity\n",
        "\n",
        "# Parameter\n",
        "S_ini = 100\n",
        "K = 100\n",
        "r = 0.05\n",
        "T = 3 / 12 # Month in year\n",
        "N = 50 # Number of time steps\n",
        "\n",
        "# A 5% increase in volatility (from 20% to 25%)\n",
        "sigma1 = 0.20\n",
        "sigma2 = 0.05 # Increment in volatility\n",
        "\n",
        "# Computing Vega Sensitivities\n",
        "call_vega_sensitivity, put_vega_sensitivity = vega_sensitivity(S_ini, K, T, r, sigma1, sigma2, N)\n",
        "\n",
        "print(\"Vega Sensitivity of the Call Option Price: {:.2f}\".format(call_vega_sensitivity))\n",
        "print(\"Vega Sensitivity of the Put Option Price: {:.2f}\".format(put_vega_sensitivity))"
      ]
    },
    {
      "cell_type": "markdown",
      "id": "323b5204",
      "metadata": {
        "id": "323b5204"
      },
      "source": [
        "Computing the American Call and Put Options using a trinomial tree"
      ]
    },
    {
      "cell_type": "code",
      "execution_count": null,
      "id": "b0b27fc1",
      "metadata": {
        "id": "b0b27fc1",
        "outputId": "2c781ef7-cfd2-422a-ed06-b617fbeedc7e"
      },
      "outputs": [
        {
          "name": "stdout",
          "output_type": "stream",
          "text": [
            "American Call Option Price for Strike Price 90 is: 10.00\n",
            "American Call Option Price for Strike Price 95 is: 5.00\n",
            "American Call Option Price for Strike Price 100 is: 0.61\n",
            "American Call Option Price for Strike Price 105 is: 0.10\n",
            "American Call Option Price for Strike Price 110 is: 0.02\n"
          ]
        }
      ],
      "source": [
        "# Defining American Call Option in Trionomial Tree funtion\n",
        "def trinomial_tree_call(S_ini, K, T, r, sigma, N):\n",
        "    dt = T / N  # Define time step\n",
        "    u = np.exp(sigma * np.sqrt(2 * dt))  # Up factor\n",
        "    d = np.exp(-sigma * np.sqrt(2 * dt))  # Down factor\n",
        "    m = 1  # Middle factor\n",
        "\n",
        "# Risk-neutral probabilities for a trinomial tree\n",
        "    p_u = ((np.exp(r * dt) - d) / (u - d)) / 2\n",
        "    p_d = ((u - np.exp(r * dt)) / (u - d)) / 2\n",
        "    p_m = 1 - p_u - p_d\n",
        "\n",
        "# Initializing asset price and option value trees\n",
        "    price_tree = np.zeros((2 * N + 1, N + 1))\n",
        "    option_tree = np.zeros((2 * N + 1, N + 1))\n",
        "\n",
        "# Setting the final nodes for the asset price tree\n",
        "    for i in range(N + 1):\n",
        "        for j in range(-i, i + 1, 2):\n",
        "            price_tree[N + j, i] = S_ini * (u ** (i - abs(j))) * (d ** abs(j))\n",
        "\n",
        "# Setting the final nodes for the American Call Option Price tree\n",
        "        option_tree[:, N] = np.maximum(price_tree[:, N] - K, 0)\n",
        "\n",
        "# Backward induction to compute option values\n",
        "    for i in range(N - 1, -1, -1):\n",
        "        for j in range(-i, i + 1, 2):\n",
        "\n",
        "# Calculating the Call Option Prices using risk-neutral probabilities\n",
        "            option_tree[N + j, i] = np.exp(-r * dt) * (\n",
        "                p_u * option_tree[N + j + 1, i + 1] +\n",
        "                p_d * option_tree[N + j - 1, i + 1] +\n",
        "                p_m * option_tree[N + j, i + 1]\n",
        "            )\n",
        "# Checking American Option feature for early exercise\n",
        "            option_tree[N + j, i] = max(option_tree[N + j, i], price_tree[N + j, i] - K)\n",
        "\n",
        "    return option_tree[N, 0], option_tree, price_tree\n",
        "\n",
        "# Parameters\n",
        "S_ini = 100\n",
        "K = [90, 95, 100, 105, 110]  # Strike prices by selecting moneyness of 90%, 95%, ATM, 105%,110%\n",
        "r = 0.05\n",
        "sigma = 0.2\n",
        "T = 3 / 12  # 3 months in years\n",
        "N = 50  # Number of time steps\n",
        "\n",
        "# Compute American Call Option Prices for each strike price\n",
        "call_prices = []\n",
        "for k in K:\n",
        "    call_price, call_tree, call_prices_tree = trinomial_tree_call(S_ini, k, T, r, sigma, N)\n",
        "    call_prices.append(call_price)\n",
        "    print(\"American Call Option Price for Strike Price {} is: {:.2f}\".format(k, call_price))"
      ]
    },
    {
      "cell_type": "code",
      "execution_count": null,
      "id": "e13d6e00",
      "metadata": {
        "id": "e13d6e00",
        "outputId": "acb3cb95-63ab-49e2-de77-d9e99e98fce1"
      },
      "outputs": [
        {
          "name": "stdout",
          "output_type": "stream",
          "text": [
            "American Put Option Price for Strike Price 90 is: 0.00\n",
            "American Put Option Price for Strike Price 95 is: 0.03\n",
            "American Put Option Price for Strike Price 100 is: 0.99\n",
            "American Put Option Price for Strike Price 105 is: 5.00\n",
            "American Put Option Price for Strike Price 110 is: 10.00\n"
          ]
        }
      ],
      "source": [
        "# Defining American Put Option in Trionomial Tree funtion\n",
        "def trinomial_tree_put(S_ini, K, T, r, sigma, N):\n",
        "    dt = T / N  # Define time step\n",
        "    u = np.exp(sigma * np.sqrt(2 * dt))  # Up factor\n",
        "    d = np.exp(-sigma * np.sqrt(2 * dt))  # Down factor\n",
        "    m = 1  # Middle factor\n",
        "\n",
        "# Risk-neutral probabilities for a trinomial tree\n",
        "    p_u = ((np.exp(r * dt) - d) / (u - d)) / 2\n",
        "    p_d = ((u - np.exp(r * dt)) / (u - d)) / 2\n",
        "    p_m = 1 - p_u - p_d\n",
        "\n",
        "# Initializing asset price and option value trees\n",
        "    price_tree = np.zeros((2 * N + 1, N + 1))\n",
        "    option_tree = np.zeros((2 * N + 1, N + 1))\n",
        "\n",
        "# Setting the final nodes for the asset price tree\n",
        "    for i in range(N + 1):\n",
        "        for j in range(-i, i + 1, 2):\n",
        "            price_tree[N + j, i] = S_ini * (u ** (i - abs(j))) * (d ** abs(j))\n",
        "\n",
        "# Setting the final nodes for the American Put Option Price tree\n",
        "        option_tree[:, N] = np.maximum(K - price_tree[:, N], 0)\n",
        "\n",
        "# Backward induction to compute option values\n",
        "    for i in range(N - 1, -1, -1):\n",
        "        for j in range(-i, i + 1, 2):\n",
        "\n",
        "# Calculating the Put Option Prices using risk-neutral probabilities\n",
        "            option_tree[N + j, i] = np.exp(-r * dt) * (\n",
        "                p_u * option_tree[N + j + 1, i + 1] +\n",
        "                p_d * option_tree[N + j - 1, i + 1] +\n",
        "                p_m * option_tree[N + j, i + 1]\n",
        "            )\n",
        "# Checking American Option feature for early exercise\n",
        "            option_tree[N + j, i] = max(option_tree[N + j, i], K - price_tree[N + j, i])\n",
        "\n",
        "    return option_tree[N, 0], option_tree, price_tree\n",
        "\n",
        "# Parameters\n",
        "S_ini = 100\n",
        "K = [90, 95, 100, 105, 110]  # Strike prices by selecting moneyness of 90%, 95%, ATM, 105%,110%\n",
        "r = 0.05\n",
        "sigma = 0.2\n",
        "T = 3 / 12  # 3 months in years\n",
        "N = 50  # Number of time steps\n",
        "\n",
        "# Compute American Put Option Prices for each strike price\n",
        "put_prices = []\n",
        "for k in K:\n",
        "    put_price, put_tree, put_prices_tree = trinomial_tree_put(S_ini, k, T, r, sigma, N)\n",
        "    put_prices.append(put_price)\n",
        "    print(\"American Put Option Price for Strike Price {} is: {:.2f}\".format(k, put_price))"
      ]
    },
    {
      "cell_type": "code",
      "execution_count": null,
      "id": "05ee7d81",
      "metadata": {
        "id": "05ee7d81"
      },
      "outputs": [],
      "source": []
    }
  ],
  "metadata": {
    "kernelspec": {
      "display_name": "Python 3 (ipykernel)",
      "language": "python",
      "name": "python3"
    },
    "language_info": {
      "codemirror_mode": {
        "name": "ipython",
        "version": 3
      },
      "file_extension": ".py",
      "mimetype": "text/x-python",
      "name": "python",
      "nbconvert_exporter": "python",
      "pygments_lexer": "ipython3",
      "version": "3.11.4"
    },
    "colab": {
      "provenance": []
    }
  },
  "nbformat": 4,
  "nbformat_minor": 5
}