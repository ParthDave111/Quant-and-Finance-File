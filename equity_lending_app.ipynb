{
  "nbformat": 4,
  "nbformat_minor": 0,
  "metadata": {
    "colab": {
      "provenance": [],
      "authorship_tag": "ABX9TyNdTB70fOHjdTbPVbIDTnOq",
      "include_colab_link": true
    },
    "kernelspec": {
      "name": "python3",
      "display_name": "Python 3"
    },
    "language_info": {
      "name": "python"
    }
  },
  "cells": [
    {
      "cell_type": "markdown",
      "metadata": {
        "id": "view-in-github",
        "colab_type": "text"
      },
      "source": [
        "<a href=\"https://colab.research.google.com/github/ParthDave111/financial-engineering-/blob/main/equity_lending_app.ipynb\" target=\"_parent\"><img src=\"https://colab.research.google.com/assets/colab-badge.svg\" alt=\"Open In Colab\"/></a>"
      ]
    },
    {
      "cell_type": "code",
      "execution_count": null,
      "metadata": {
        "id": "AqQlqFHR5SYs"
      },
      "outputs": [],
      "source": [
        "class EquityLending:\n",
        "    def __init__(self, equity_symbol, loan_amount, credit_score):\n",
        "        self.equity_symbol = equity_symbol\n",
        "        self.loan_amount = loan_amount\n",
        "        self.credit_score = credit_score\n"
      ]
    },
    {
      "cell_type": "code",
      "source": [
        "    def determine_interest_rate(self):\n",
        "        if self.credit_score >= 700:\n",
        "            return 0.06  # 6% interest rate for excellent credit\n",
        "        elif 600 <= self.credit_score < 700:\n",
        "            return 0.08  # 8% interest rate for good credit\n",
        "        else:\n",
        "            return 0.1  # 10% interest rate for fair or poor credit\n"
      ],
      "metadata": {
        "id": "CJfSpthL5Tad"
      },
      "execution_count": null,
      "outputs": []
    },
    {
      "cell_type": "code",
      "source": [
        "    def calculate_total_repayment(self, duration_years):\n",
        "        interest_rate = self.determine_interest_rate()\n",
        "        total_interest = self.loan_amount * interest_rate * duration_years\n",
        "        return self.loan_amount + total_interest\n"
      ],
      "metadata": {
        "id": "LHMZnsSF5VuU"
      },
      "execution_count": null,
      "outputs": []
    },
    {
      "cell_type": "code",
      "source": [
        "def main():\n",
        "    equity_symbol = input(\"Enter the equity symbol (e.g., NVDA): \")\n",
        "    loan_amount = float(input(\"Enter the loan amount (in dollars): \"))\n",
        "    credit_score = int(input(\"Enter the client's credit score: \"))\n",
        "    loan_duration_years = int(input(\"Enter the loan duration (in years): \"))\n",
        "\n",
        "    loan = EquityLending(equity_symbol, loan_amount, credit_score)\n",
        "    total_repayment = loan.calculate_total_repayment(loan_duration_years)\n",
        "    print(f\"Total repayment amount after {loan_duration_years} years: ${total_repayment}\")\n"
      ],
      "metadata": {
        "id": "OrkbgyeE5VoW"
      },
      "execution_count": null,
      "outputs": []
    },
    {
      "cell_type": "code",
      "source": [
        "class Loan:\n",
        "    def __init__(self, equity_symbol, loan_amount, credit_score):\n",
        "        self.equity_symbol = equity_symbol\n",
        "        self.loan_amount = loan_amount\n",
        "        self.credit_score = credit_score\n",
        "\n",
        "    def determine_interest_rate(self):\n",
        "        if self.credit_score >= 700:\n",
        "            return 0.06  # 6% interest rate for excellent credit\n",
        "        elif 600 <= self.credit_score < 700:\n",
        "            return 0.08  # 8% interest rate for good credit\n",
        "        else:\n",
        "            return 0.1  # 10% interest rate for fair or poor credit\n",
        "\n",
        "    def calculate_total_repayment(self, duration_years):\n",
        "        interest_rate = self.determine_interest_rate()\n",
        "        total_interest = self.loan_amount * interest_rate * duration_years\n",
        "        return self.loan_amount + total_interest\n",
        "\n",
        "\n",
        "def main():\n",
        "    equity_symbol = input(\"Enter the equity symbol (e.g., NVDA): \")\n",
        "    loan_amount = float(input(\"Enter the loan amount (in dollars): \"))\n",
        "    credit_score = int(input(\"Enter the client's credit score: \"))\n",
        "    loan_duration_years = int(input(\"Enter the loan duration (in years): \"))\n",
        "\n",
        "    loan = Loan(equity_symbol, loan_amount, credit_score)  # Changed class name to Loan\n",
        "    total_repayment = loan.calculate_total_repayment(loan_duration_years)\n",
        "    print(f\"Total repayment amount after {loan_duration_years} years: ${total_repayment}\")\n",
        "\n",
        "\n",
        "if __name__ == \"__main__\":\n",
        "    main()"
      ],
      "metadata": {
        "colab": {
          "base_uri": "https://localhost:8080/"
        },
        "id": "KA95T8gx5l4z",
        "outputId": "34a87136-9e04-460b-ea0e-3f3ea2c7c39a"
      },
      "execution_count": null,
      "outputs": [
        {
          "output_type": "stream",
          "name": "stdout",
          "text": [
            "Enter the equity symbol (e.g., NVDA): NVDA\n",
            "Enter the loan amount (in dollars): 100000\n",
            "Enter the client's credit score: 800\n",
            "Enter the loan duration (in years): 3\n",
            "Total repayment amount after 3 years: $118000.0\n"
          ]
        }
      ]
    }
  ]
}